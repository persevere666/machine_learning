{
 "cells": [
  {
   "cell_type": "code",
   "execution_count": 2,
   "id": "ee2d7e1e-ce09-4bf9-bb48-a7fad6179890",
   "metadata": {},
   "outputs": [],
   "source": [
    "import tensorflow as tf  # 导入TF库\n",
    "from tensorflow.keras import layers, optimizers, datasets, Sequential, metrics  # 导入TF子库\n",
    "import os, glob\n",
    "import random, csv\n",
    "import matplotlib.pyplot as plt"
   ]
  },
  {
   "cell_type": "code",
   "execution_count": 3,
   "id": "82e07786-579e-483f-a831-25ecaaf57f8b",
   "metadata": {},
   "outputs": [],
   "source": [
    "# 创建图片路径和标签，并写入csv文件\n",
    "def load_csv(root, filename, name2label):\n",
    "    # root:数据集根目录\n",
    "    # filename:csv文件名\n",
    "    # name2label:类别名编码表\n",
    "    if not os.path.exists(os.path.join(root, filename)):  # 如果不存在csv，则创建一个\n",
    "        images = []  # 初始化存放图片路径的字符串数组\n",
    "        for name in name2label.keys():  # 遍历所有子目录，获得所有图片的路径\n",
    "            # glob文件名匹配模式，不用遍历整个目录判断而获得文件夹下所有同类文件\n",
    "            # 只考虑后缀为png,jpg,jpeg的图片，比如：pokemon\\\\mewtwo\\\\00001.png\n",
    "            images += glob.glob(os.path.join(root, name, '*.png'))\n",
    "            images += glob.glob(os.path.join(root, name, '*.jpg'))\n",
    "            images += glob.glob(os.path.join(root, name, '*.jpeg'))\n",
    "        print(len(images), images)  # 打印出images的长度和所有图片路径名\n",
    "        random.shuffle(images)  # 随机打乱存放顺序\n",
    "        # 创建csv文件，并且写入图片路径和标签信息\n",
    "        with open(os.path.join(root, filename), mode='w', newline='') as f:\n",
    "            writer = csv.writer(f)\n",
    "            for img in images:  # 遍历images中存放的每一个图片的路径，如pokemon\\\\mewtwo\\\\00001.png\n",
    "                name = img.split(os.sep)[-2]  # 用\\\\分隔，取倒数第二项作为类名\n",
    "                label = name2label[name]  # 找到类名键对应的值，作为标签\n",
    "                writer.writerow([img, label])  # 写入csv文件，以逗号隔开，如：pokemon\\\\mewtwo\\\\00001.png, 2\n",
    "            print('written into csv file:', filename)\n",
    "    # 读csv文件\n",
    "    images, labels = [], []  # 创建两个空数组，用来存放图片路径和标签\n",
    "    with open(os.path.join(root, filename)) as f:\n",
    "        reader = csv.reader(f)\n",
    "        for row in reader:  # 逐行遍历csv文件\n",
    "            img, label = row  # 每行信息包括图片路径和标签\n",
    "            label = int(label)  # 强制类型转换为整型\n",
    "            images.append(img)  # 插入到images数组的后面\n",
    "            labels.append(label)\n",
    "    assert len(images) == len(labels)  # 断言，判断images和labels的长度是否相同\n",
    "    return images, labels"
   ]
  },
  {
   "cell_type": "code",
   "execution_count": 4,
   "id": "9d4aeede-c1b9-4ca0-81dd-1070c68b7f80",
   "metadata": {},
   "outputs": [],
   "source": [
    "# 首先遍历pokemon根目录下的所有子目录。对每个子目录，用类别名作为编码表的key，编码表的长度作为类别的标签，存进name2label字典对象\n",
    "def load_pokemon(root, mode='train'):\n",
    "    # 创建数字编码表\n",
    "    name2label = {}  # 创建一个空字典{key:value}，用来存放类别名和对应的标签\n",
    "    for name in sorted(os.listdir(os.path.join(root))):  # 遍历根目录下的子目录，并排序\n",
    "        if not os.path.isdir(os.path.join(root, name)):  # 如果不是文件夹，则跳过\n",
    "            continue\n",
    "        name2label[name] = len(name2label.keys())   # 给每个类别编码一个数字\n",
    "    images, labels = load_csv(root, 'images.csv', name2label)  # 读取csv文件中已经写好的图片路径，和对应的标签\n",
    "    # 将数据集按6：2：2的比例分成训练集、验证集、测试集\n",
    "    if mode == 'train':  # 60%\n",
    "        images = images[:int(0.6 * len(images))]\n",
    "        labels = labels[:int(0.6 * len(labels))]\n",
    "    elif mode == 'val':  # 20% = 60%->80%\n",
    "        images = images[int(0.6 * len(images)):int(0.8 * len(images))]\n",
    "        labels = labels[int(0.6 * len(labels)):int(0.8 * len(labels))]\n",
    "    else:  # 20% = 80%->100%\n",
    "        images = images[int(0.8 * len(images)):]\n",
    "        labels = labels[int(0.8 * len(labels)):]\n",
    "    return images, labels, name2label"
   ]
  },
  {
   "cell_type": "code",
   "execution_count": 5,
   "id": "cf2451df-81d9-4039-9045-af79e3332ff0",
   "metadata": {},
   "outputs": [],
   "source": [
    "img_mean = tf.constant([0.485, 0.456, 0.406])\n",
    "img_std = tf.constant([0.229, 0.224, 0.225])\n",
    "\n",
    "def normalize(x, mean=img_mean, std=img_std):\n",
    "    x = (x - mean)/std\n",
    "    return x\n",
    "\n",
    "# def denormalize(x, mean=img_mean, std=img_std):\n",
    "    # x = x * std + mean\n",
    "    # return x\n",
    "\n",
    "def preprocess(image_path, label):\n",
    "    # x: 图片的路径，y：图片的数字编码\n",
    "    x = tf.io.read_file(image_path)  # 读入图片\n",
    "    x = tf.image.decode_jpeg(x, channels=3)  # 将原图解码为通道数为3的三维矩阵\n",
    "    x = tf.image.resize(x, [244, 244])\n",
    "    # 数据增强\n",
    "    # x = tf.image.random_flip_up_down(x) # 上下翻转\n",
    "    # x = tf.image.random_flip_left_right(x)  # 左右镜像\n",
    "    x = tf.image.random_crop(x, [224, 224, 3])  # 裁剪\n",
    "    x = tf.cast(x, dtype=tf.float32) / 255.  # 归一化\n",
    "    x = normalize(x)\n",
    "    y = tf.convert_to_tensor(label)  # 转换为张量\n",
    "    return x, y\n"
   ]
  },
  {
   "cell_type": "code",
   "execution_count": 9,
   "id": "88a9cffa-7942-49bf-ac30-8e30ff8e13af",
   "metadata": {},
   "outputs": [
    {
     "name": "stdout",
     "output_type": "stream",
     "text": [
      "1165 ['../data/pokemon/bulbasaur/00000158.png', '../data/pokemon/bulbasaur/00000170.png', '../data/pokemon/bulbasaur/00000212.png', '../data/pokemon/bulbasaur/00000004.png', '../data/pokemon/bulbasaur/00000010.png', '../data/pokemon/bulbasaur/00000011.png', '../data/pokemon/bulbasaur/00000005.png', '../data/pokemon/bulbasaur/00000171.png', '../data/pokemon/bulbasaur/00000173.png', '../data/pokemon/bulbasaur/00000211.png', '../data/pokemon/bulbasaur/00000013.png', '../data/pokemon/bulbasaur/00000012.png', '../data/pokemon/bulbasaur/00000204.png', '../data/pokemon/bulbasaur/00000189.png', '../data/pokemon/bulbasaur/00000162.png', '../data/pokemon/bulbasaur/00000176.png', '../data/pokemon/bulbasaur/00000228.png', '../data/pokemon/bulbasaur/00000016.png', '../data/pokemon/bulbasaur/00000002.png', '../data/pokemon/bulbasaur/00000003.png', '../data/pokemon/bulbasaur/00000017.png', '../data/pokemon/bulbasaur/00000201.png', '../data/pokemon/bulbasaur/00000215.png', '../data/pokemon/bulbasaur/00000177.png', '../data/pokemon/bulbasaur/00000163.png', '../data/pokemon/bulbasaur/00000188.png', '../data/pokemon/bulbasaur/00000203.png', '../data/pokemon/bulbasaur/00000001.png', '../data/pokemon/bulbasaur/00000028.png', '../data/pokemon/bulbasaur/00000014.png', '../data/pokemon/bulbasaur/00000000.png', '../data/pokemon/bulbasaur/00000148.png', '../data/pokemon/bulbasaur/00000160.png', '../data/pokemon/bulbasaur/00000113.png', '../data/pokemon/bulbasaur/00000107.png', '../data/pokemon/bulbasaur/00000098.png', '../data/pokemon/bulbasaur/00000072.png', '../data/pokemon/bulbasaur/00000099.png', '../data/pokemon/bulbasaur/00000106.png', '../data/pokemon/bulbasaur/00000112.png', '../data/pokemon/bulbasaur/00000138.png', '../data/pokemon/bulbasaur/00000104.png', '../data/pokemon/bulbasaur/00000058.png', '../data/pokemon/bulbasaur/00000070.png', '../data/pokemon/bulbasaur/00000059.png', '../data/pokemon/bulbasaur/00000105.png', '../data/pokemon/bulbasaur/00000101.png', '../data/pokemon/bulbasaur/00000115.png', '../data/pokemon/bulbasaur/00000075.png', '../data/pokemon/bulbasaur/00000048.png', '../data/pokemon/bulbasaur/00000060.png', '../data/pokemon/bulbasaur/00000074.png', '../data/pokemon/bulbasaur/00000128.png', '../data/pokemon/bulbasaur/00000114.png', '../data/pokemon/bulbasaur/00000116.png', '../data/pokemon/bulbasaur/00000089.png', '../data/pokemon/bulbasaur/00000076.png', '../data/pokemon/bulbasaur/00000063.png', '../data/pokemon/bulbasaur/00000088.png', '../data/pokemon/bulbasaur/00000103.png', '../data/pokemon/bulbasaur/00000117.png', '../data/pokemon/bulbasaur/00000126.png', '../data/pokemon/bulbasaur/00000085.png', '../data/pokemon/bulbasaur/00000091.png', '../data/pokemon/bulbasaur/00000046.png', '../data/pokemon/bulbasaur/00000047.png', '../data/pokemon/bulbasaur/00000090.png', '../data/pokemon/bulbasaur/00000133.png', '../data/pokemon/bulbasaur/00000045.png', '../data/pokemon/bulbasaur/00000087.png', '../data/pokemon/bulbasaur/00000093.png', '../data/pokemon/bulbasaur/00000130.png', '../data/pokemon/bulbasaur/00000120.png', '../data/pokemon/bulbasaur/00000097.png', '../data/pokemon/bulbasaur/00000083.png', '../data/pokemon/bulbasaur/00000054.png', '../data/pokemon/bulbasaur/00000068.png', '../data/pokemon/bulbasaur/00000069.png', '../data/pokemon/bulbasaur/00000041.png', '../data/pokemon/bulbasaur/00000082.png', '../data/pokemon/bulbasaur/00000096.png', '../data/pokemon/bulbasaur/00000109.png', '../data/pokemon/bulbasaur/00000121.png', '../data/pokemon/bulbasaur/00000186.png', '../data/pokemon/bulbasaur/00000151.png', '../data/pokemon/bulbasaur/00000227.png', '../data/pokemon/bulbasaur/00000031.png', '../data/pokemon/bulbasaur/00000024.png', '../data/pokemon/bulbasaur/00000226.png', '../data/pokemon/bulbasaur/00000185.png', '../data/pokemon/bulbasaur/00000191.png', '../data/pokemon/bulbasaur/00000224.png', '../data/pokemon/bulbasaur/00000026.png', '../data/pokemon/bulbasaur/00000027.png', '../data/pokemon/bulbasaur/00000147.png', '../data/pokemon/bulbasaur/00000190.png', '../data/pokemon/bulbasaur/00000180.png', '../data/pokemon/bulbasaur/00000157.png', '../data/pokemon/bulbasaur/00000022.png', '../data/pokemon/bulbasaur/00000036.png', '../data/pokemon/bulbasaur/00000208.png', '../data/pokemon/bulbasaur/00000220.png', '../data/pokemon/bulbasaur/00000234.png', '../data/pokemon/bulbasaur/00000142.png', '../data/pokemon/bulbasaur/00000020.png', '../data/pokemon/bulbasaur/00000008.png', '../data/pokemon/bulbasaur/00000009.png', '../data/pokemon/bulbasaur/00000021.png', '../data/pokemon/bulbasaur/00000237.png', '../data/pokemon/bulbasaur/00000169.png', '../data/pokemon/bulbasaur/00000141.png', '../data/pokemon/bulbasaur/00000182.png', '../data/pokemon/bulbasaur/00000196.png', '../data/pokemon/bulbasaur/00000164.jpg', '../data/pokemon/bulbasaur/00000038.jpg', '../data/pokemon/bulbasaur/00000206.jpg', '../data/pokemon/bulbasaur/00000207.jpg', '../data/pokemon/bulbasaur/00000213.jpg', '../data/pokemon/bulbasaur/00000039.jpg', '../data/pokemon/bulbasaur/00000165.jpg', '../data/pokemon/bulbasaur/00000159.jpg', '../data/pokemon/bulbasaur/00000167.jpg', '../data/pokemon/bulbasaur/00000198.jpg', '../data/pokemon/bulbasaur/00000007.jpg', '../data/pokemon/bulbasaur/00000239.jpg', '../data/pokemon/bulbasaur/00000205.jpg', '../data/pokemon/bulbasaur/00000210.jpg', '../data/pokemon/bulbasaur/00000238.jpg', '../data/pokemon/bulbasaur/00000006.jpg', '../data/pokemon/bulbasaur/00000199.jpg', '../data/pokemon/bulbasaur/00000166.jpg', '../data/pokemon/bulbasaur/00000172.jpg', '../data/pokemon/bulbasaur/00000200.jpg', '../data/pokemon/bulbasaur/00000214.jpg', '../data/pokemon/bulbasaur/00000229.jpg', '../data/pokemon/bulbasaur/00000175.jpg', '../data/pokemon/bulbasaur/00000149.jpg', '../data/pokemon/bulbasaur/00000015.jpg', '../data/pokemon/bulbasaur/00000029.jpg', '../data/pokemon/bulbasaur/00000217.jpg', '../data/pokemon/bulbasaur/00000202.jpg', '../data/pokemon/bulbasaur/00000216.jpg', '../data/pokemon/bulbasaur/00000174.jpg', '../data/pokemon/bulbasaur/00000067.jpg', '../data/pokemon/bulbasaur/00000066.jpg', '../data/pokemon/bulbasaur/00000110.jpg', '../data/pokemon/bulbasaur/00000065.jpg', '../data/pokemon/bulbasaur/00000111.jpg', '../data/pokemon/bulbasaur/00000139.jpg', '../data/pokemon/bulbasaur/00000129.jpg', '../data/pokemon/bulbasaur/00000061.jpg', '../data/pokemon/bulbasaur/00000049.jpg', '../data/pokemon/bulbasaur/00000100.jpg', '../data/pokemon/bulbasaur/00000062.jpg', '../data/pokemon/bulbasaur/00000077.jpg', '../data/pokemon/bulbasaur/00000132.jpg', '../data/pokemon/bulbasaur/00000052.jpg', '../data/pokemon/bulbasaur/00000084.jpg', '../data/pokemon/bulbasaur/00000053.jpg', '../data/pokemon/bulbasaur/00000127.jpg', '../data/pokemon/bulbasaur/00000119.jpg', '../data/pokemon/bulbasaur/00000131.jpg', '../data/pokemon/bulbasaur/00000125.jpg', '../data/pokemon/bulbasaur/00000079.jpg', '../data/pokemon/bulbasaur/00000051.jpg', '../data/pokemon/bulbasaur/00000092.jpg', '../data/pokemon/bulbasaur/00000050.jpg', '../data/pokemon/bulbasaur/00000044.jpg', '../data/pokemon/bulbasaur/00000078.jpg', '../data/pokemon/bulbasaur/00000124.jpg', '../data/pokemon/bulbasaur/00000118.jpg', '../data/pokemon/bulbasaur/00000134.jpg', '../data/pokemon/bulbasaur/00000108.jpg', '../data/pokemon/bulbasaur/00000040.jpg', '../data/pokemon/bulbasaur/00000055.jpg', '../data/pokemon/bulbasaur/00000135.jpg', '../data/pokemon/bulbasaur/00000123.jpg', '../data/pokemon/bulbasaur/00000137.jpg', '../data/pokemon/bulbasaur/00000057.jpg', '../data/pokemon/bulbasaur/00000043.jpg', '../data/pokemon/bulbasaur/00000094.jpg', '../data/pokemon/bulbasaur/00000080.jpg', '../data/pokemon/bulbasaur/00000081.jpg', '../data/pokemon/bulbasaur/00000095.jpg', '../data/pokemon/bulbasaur/00000042.jpg', '../data/pokemon/bulbasaur/00000056.jpg', '../data/pokemon/bulbasaur/00000136.jpg', '../data/pokemon/bulbasaur/00000122.jpg', '../data/pokemon/bulbasaur/00000179.jpg', '../data/pokemon/bulbasaur/00000145.jpg', '../data/pokemon/bulbasaur/00000192.jpg', '../data/pokemon/bulbasaur/00000019.jpg', '../data/pokemon/bulbasaur/00000025.jpg', '../data/pokemon/bulbasaur/00000233.jpg', '../data/pokemon/bulbasaur/00000232.jpg', '../data/pokemon/bulbasaur/00000030.jpg', '../data/pokemon/bulbasaur/00000018.jpg', '../data/pokemon/bulbasaur/00000193.jpg', '../data/pokemon/bulbasaur/00000187.jpg', '../data/pokemon/bulbasaur/00000150.jpg', '../data/pokemon/bulbasaur/00000144.jpg', '../data/pokemon/bulbasaur/00000178.jpg', '../data/pokemon/bulbasaur/00000152.jpg', '../data/pokemon/bulbasaur/00000146.jpg', '../data/pokemon/bulbasaur/00000032.jpg', '../data/pokemon/bulbasaur/00000218.jpg', '../data/pokemon/bulbasaur/00000230.jpg', '../data/pokemon/bulbasaur/00000231.jpg', '../data/pokemon/bulbasaur/00000225.jpg', '../data/pokemon/bulbasaur/00000219.jpg', '../data/pokemon/bulbasaur/00000033.jpg', '../data/pokemon/bulbasaur/00000184.jpg', '../data/pokemon/bulbasaur/00000153.jpg', '../data/pokemon/bulbasaur/00000143.jpg', '../data/pokemon/bulbasaur/00000194.jpg', '../data/pokemon/bulbasaur/00000023.jpg', '../data/pokemon/bulbasaur/00000037.jpg', '../data/pokemon/bulbasaur/00000221.jpg', '../data/pokemon/bulbasaur/00000209.jpg', '../data/pokemon/bulbasaur/00000181.jpg', '../data/pokemon/bulbasaur/00000195.jpg', '../data/pokemon/bulbasaur/00000156.jpg', '../data/pokemon/bulbasaur/00000154.jpg', '../data/pokemon/bulbasaur/00000168.jpg', '../data/pokemon/bulbasaur/00000183.jpg', '../data/pokemon/bulbasaur/00000197.jpg', '../data/pokemon/bulbasaur/00000034.jpg', '../data/pokemon/bulbasaur/00000236.jpg', '../data/pokemon/bulbasaur/00000222.jpg', '../data/pokemon/bulbasaur/00000223.jpg', '../data/pokemon/bulbasaur/00000035.jpg', '../data/pokemon/bulbasaur/00000155.jpg', '../data/pokemon/charmander/00000038.png', '../data/pokemon/charmander/00000004.png', '../data/pokemon/charmander/00000010.png', '../data/pokemon/charmander/00000011.png', '../data/pokemon/charmander/00000005.png', '../data/pokemon/charmander/00000159.png', '../data/pokemon/charmander/00000239.png', '../data/pokemon/charmander/00000006.png', '../data/pokemon/charmander/00000210.png', '../data/pokemon/charmander/00000238.png', '../data/pokemon/charmander/00000172.png', '../data/pokemon/charmander/00000166.png', '../data/pokemon/charmander/00000189.png', '../data/pokemon/charmander/00000176.png', '../data/pokemon/charmander/00000016.png', '../data/pokemon/charmander/00000003.png', '../data/pokemon/charmander/00000017.png', '../data/pokemon/charmander/00000229.png', '../data/pokemon/charmander/00000217.png', '../data/pokemon/charmander/00000015.png', '../data/pokemon/charmander/00000029.png', '../data/pokemon/charmander/00000028.png', '../data/pokemon/charmander/00000000.png', '../data/pokemon/charmander/00000160.png', '../data/pokemon/charmander/00000174.png', '../data/pokemon/charmander/00000107.png', '../data/pokemon/charmander/00000067.png', '../data/pokemon/charmander/00000073.png', '../data/pokemon/charmander/00000110.png', '../data/pokemon/charmander/00000058.png', '../data/pokemon/charmander/00000070.png', '../data/pokemon/charmander/00000115.png', '../data/pokemon/charmander/00000075.png', '../data/pokemon/charmander/00000061.png', '../data/pokemon/charmander/00000048.png', '../data/pokemon/charmander/00000128.png', '../data/pokemon/charmander/00000102.png', '../data/pokemon/charmander/00000062.png', '../data/pokemon/charmander/00000077.png', '../data/pokemon/charmander/00000063.png', '../data/pokemon/charmander/00000132.png', '../data/pokemon/charmander/00000046.png', '../data/pokemon/charmander/00000047.png', '../data/pokemon/charmander/00000090.png', '../data/pokemon/charmander/00000133.png', '../data/pokemon/charmander/00000125.png', '../data/pokemon/charmander/00000079.png', '../data/pokemon/charmander/00000045.png', '../data/pokemon/charmander/00000044.png', '../data/pokemon/charmander/00000050.png', '../data/pokemon/charmander/00000078.png', '../data/pokemon/charmander/00000130.png', '../data/pokemon/charmander/00000118.png', '../data/pokemon/charmander/00000108.png', '../data/pokemon/charmander/00000054.png', '../data/pokemon/charmander/00000040.png', '../data/pokemon/charmander/00000068.png', '../data/pokemon/charmander/00000069.png', '../data/pokemon/charmander/00000055.png', '../data/pokemon/charmander/00000082.png', '../data/pokemon/charmander/00000096.png', '../data/pokemon/charmander/00000137.png', '../data/pokemon/charmander/00000080.png', '../data/pokemon/charmander/00000057.png', '../data/pokemon/charmander/00000056.png', '../data/pokemon/charmander/00000095.png', '../data/pokemon/charmander/00000192.png', '../data/pokemon/charmander/00000019.png', '../data/pokemon/charmander/00000025.png', '../data/pokemon/charmander/00000031.png', '../data/pokemon/charmander/00000030.png', '../data/pokemon/charmander/00000018.png', '../data/pokemon/charmander/00000150.png', '../data/pokemon/charmander/00000178.png', '../data/pokemon/charmander/00000193.png', '../data/pokemon/charmander/00000185.png', '../data/pokemon/charmander/00000146.png', '../data/pokemon/charmander/00000230.png', '../data/pokemon/charmander/00000026.png', '../data/pokemon/charmander/00000027.png', '../data/pokemon/charmander/00000225.png', '../data/pokemon/charmander/00000219.png', '../data/pokemon/charmander/00000022.png', '../data/pokemon/charmander/00000036.png', '../data/pokemon/charmander/00000142.png', '../data/pokemon/charmander/00000154.png', '../data/pokemon/charmander/00000020.png', '../data/pokemon/charmander/00000008.png', '../data/pokemon/charmander/00000009.png', '../data/pokemon/charmander/00000021.png', '../data/pokemon/charmander/00000237.png', '../data/pokemon/charmander/00000223.png', '../data/pokemon/charmander/00000141.png', '../data/pokemon/charmander/00000155.png', '../data/pokemon/charmander/00000182.png', '../data/pokemon/charmander/00000158.jpg', '../data/pokemon/charmander/00000164.jpg', '../data/pokemon/charmander/00000170.jpg', '../data/pokemon/charmander/00000212.jpg', '../data/pokemon/charmander/00000206.jpg', '../data/pokemon/charmander/00000207.jpg', '../data/pokemon/charmander/00000213.jpg', '../data/pokemon/charmander/00000039.jpg', '../data/pokemon/charmander/00000171.jpg', '../data/pokemon/charmander/00000165.jpg', '../data/pokemon/charmander/00000173.jpg', '../data/pokemon/charmander/00000167.jpg', '../data/pokemon/charmander/00000198.jpg', '../data/pokemon/charmander/00000007.jpg', '../data/pokemon/charmander/00000013.jpg', '../data/pokemon/charmander/00000205.jpg', '../data/pokemon/charmander/00000211.jpg', '../data/pokemon/charmander/00000204.jpg', '../data/pokemon/charmander/00000012.jpg', '../data/pokemon/charmander/00000199.jpg', '../data/pokemon/charmander/00000162.jpg', '../data/pokemon/charmander/00000002.jpg', '../data/pokemon/charmander/00000200.jpg', '../data/pokemon/charmander/00000214.jpg', '../data/pokemon/charmander/00000228.jpg', '../data/pokemon/charmander/00000215.jpg', '../data/pokemon/charmander/00000201.jpg', '../data/pokemon/charmander/00000188.jpg', '../data/pokemon/charmander/00000163.jpg', '../data/pokemon/charmander/00000177.jpg', '../data/pokemon/charmander/00000161.jpg', '../data/pokemon/charmander/00000175.jpg', '../data/pokemon/charmander/00000149.jpg', '../data/pokemon/charmander/00000001.jpg', '../data/pokemon/charmander/00000202.jpg', '../data/pokemon/charmander/00000014.jpg', '../data/pokemon/charmander/00000148.jpg', '../data/pokemon/charmander/00000113.jpg', '../data/pokemon/charmander/00000098.jpg', '../data/pokemon/charmander/00000099.jpg', '../data/pokemon/charmander/00000066.jpg', '../data/pokemon/charmander/00000072.jpg', '../data/pokemon/charmander/00000112.jpg', '../data/pokemon/charmander/00000138.jpg', '../data/pokemon/charmander/00000104.jpg', '../data/pokemon/charmander/00000064.jpg', '../data/pokemon/charmander/00000071.jpg', '../data/pokemon/charmander/00000065.jpg', '../data/pokemon/charmander/00000059.jpg', '../data/pokemon/charmander/00000105.jpg', '../data/pokemon/charmander/00000111.jpg', '../data/pokemon/charmander/00000139.jpg', '../data/pokemon/charmander/00000101.jpg', '../data/pokemon/charmander/00000129.jpg', '../data/pokemon/charmander/00000049.jpg', '../data/pokemon/charmander/00000074.jpg', '../data/pokemon/charmander/00000060.jpg', '../data/pokemon/charmander/00000100.jpg', '../data/pokemon/charmander/00000114.jpg', '../data/pokemon/charmander/00000116.jpg', '../data/pokemon/charmander/00000076.jpg', '../data/pokemon/charmander/00000089.jpg', '../data/pokemon/charmander/00000088.jpg', '../data/pokemon/charmander/00000117.jpg', '../data/pokemon/charmander/00000103.jpg', '../data/pokemon/charmander/00000126.jpg', '../data/pokemon/charmander/00000052.jpg', '../data/pokemon/charmander/00000091.jpg', '../data/pokemon/charmander/00000085.jpg', '../data/pokemon/charmander/00000244.jpg', '../data/pokemon/charmander/00000084.jpg', '../data/pokemon/charmander/00000053.jpg', '../data/pokemon/charmander/00000127.jpg', '../data/pokemon/charmander/00000119.jpg', '../data/pokemon/charmander/00000131.jpg', '../data/pokemon/charmander/00000051.jpg', '../data/pokemon/charmander/00000086.jpg', '../data/pokemon/charmander/00000092.jpg', '../data/pokemon/charmander/00000093.jpg', '../data/pokemon/charmander/00000087.jpg', '../data/pokemon/charmander/00000124.jpg', '../data/pokemon/charmander/00000134.jpg', '../data/pokemon/charmander/00000120.jpg', '../data/pokemon/charmander/00000083.jpg', '../data/pokemon/charmander/00000097.jpg', '../data/pokemon/charmander/00000242.jpg', '../data/pokemon/charmander/00000243.jpg', '../data/pokemon/charmander/00000041.jpg', '../data/pokemon/charmander/00000109.jpg', '../data/pokemon/charmander/00000121.jpg', '../data/pokemon/charmander/00000123.jpg', '../data/pokemon/charmander/00000043.jpg', '../data/pokemon/charmander/00000241.jpg', '../data/pokemon/charmander/00000240.jpg', '../data/pokemon/charmander/00000081.jpg', '../data/pokemon/charmander/00000042.jpg', '../data/pokemon/charmander/00000136.jpg', '../data/pokemon/charmander/00000122.jpg', '../data/pokemon/charmander/00000179.jpg', '../data/pokemon/charmander/00000145.jpg', '../data/pokemon/charmander/00000151.jpg', '../data/pokemon/charmander/00000186.jpg', '../data/pokemon/charmander/00000233.jpg', '../data/pokemon/charmander/00000227.jpg', '../data/pokemon/charmander/00000226.jpg', '../data/pokemon/charmander/00000232.jpg', '../data/pokemon/charmander/00000024.jpg', '../data/pokemon/charmander/00000187.jpg', '../data/pokemon/charmander/00000152.jpg', '../data/pokemon/charmander/00000191.jpg', '../data/pokemon/charmander/00000032.jpg', '../data/pokemon/charmander/00000218.jpg', '../data/pokemon/charmander/00000224.jpg', '../data/pokemon/charmander/00000231.jpg', '../data/pokemon/charmander/00000033.jpg', '../data/pokemon/charmander/00000184.jpg', '../data/pokemon/charmander/00000190.jpg', '../data/pokemon/charmander/00000147.jpg', '../data/pokemon/charmander/00000153.jpg', '../data/pokemon/charmander/00000157.jpg', '../data/pokemon/charmander/00000143.jpg', '../data/pokemon/charmander/00000194.jpg', '../data/pokemon/charmander/00000180.jpg', '../data/pokemon/charmander/00000023.jpg', '../data/pokemon/charmander/00000037.jpg', '../data/pokemon/charmander/00000221.jpg', '../data/pokemon/charmander/00000209.jpg', '../data/pokemon/charmander/00000208.jpg', '../data/pokemon/charmander/00000234.jpg', '../data/pokemon/charmander/00000220.jpg', '../data/pokemon/charmander/00000181.jpg', '../data/pokemon/charmander/00000195.jpg', '../data/pokemon/charmander/00000156.jpg', '../data/pokemon/charmander/00000140.jpg', '../data/pokemon/charmander/00000168.jpg', '../data/pokemon/charmander/00000183.jpg', '../data/pokemon/charmander/00000197.jpg', '../data/pokemon/charmander/00000034.jpg', '../data/pokemon/charmander/00000236.jpg', '../data/pokemon/charmander/00000222.jpg', '../data/pokemon/charmander/00000035.jpg', '../data/pokemon/charmander/00000196.jpg', '../data/pokemon/charmander/00000169.jpg', '../data/pokemon/mewtwo/00000206.png', '../data/pokemon/mewtwo/00000212.png', '../data/pokemon/mewtwo/00000038.png', '../data/pokemon/mewtwo/00000010.png', '../data/pokemon/mewtwo/00000005.png', '../data/pokemon/mewtwo/00000039.png', '../data/pokemon/mewtwo/00000207.png', '../data/pokemon/mewtwo/00000205.png', '../data/pokemon/mewtwo/00000238.png', '../data/pokemon/mewtwo/00000172.png', '../data/pokemon/mewtwo/00000166.png', '../data/pokemon/mewtwo/00000162.png', '../data/pokemon/mewtwo/00000017.png', '../data/pokemon/mewtwo/00000229.png', '../data/pokemon/mewtwo/00000201.png', '../data/pokemon/mewtwo/00000177.png', '../data/pokemon/mewtwo/00000163.png', '../data/pokemon/mewtwo/00000188.png', '../data/pokemon/mewtwo/00000175.png', '../data/pokemon/mewtwo/00000217.png', '../data/pokemon/mewtwo/00000015.png', '../data/pokemon/mewtwo/00000014.png', '../data/pokemon/mewtwo/00000202.png', '../data/pokemon/mewtwo/00000148.png', '../data/pokemon/mewtwo/00000160.png', '../data/pokemon/mewtwo/00000174.png', '../data/pokemon/mewtwo/00000113.png', '../data/pokemon/mewtwo/00000072.png', '../data/pokemon/mewtwo/00000106.png', '../data/pokemon/mewtwo/00000112.png', '../data/pokemon/mewtwo/00000138.png', '../data/pokemon/mewtwo/00000058.png', '../data/pokemon/mewtwo/00000065.png', '../data/pokemon/mewtwo/00000071.png', '../data/pokemon/mewtwo/00000111.png', '../data/pokemon/mewtwo/00000049.png', '../data/pokemon/mewtwo/00000048.png', '../data/pokemon/mewtwo/00000074.png', '../data/pokemon/mewtwo/00000100.png', '../data/pokemon/mewtwo/00000116.png', '../data/pokemon/mewtwo/00000062.png', '../data/pokemon/mewtwo/00000076.png', '../data/pokemon/mewtwo/00000088.png', '../data/pokemon/mewtwo/00000103.png', '../data/pokemon/mewtwo/00000117.png', '../data/pokemon/mewtwo/00000132.png', '../data/pokemon/mewtwo/00000046.png', '../data/pokemon/mewtwo/00000052.png', '../data/pokemon/mewtwo/00000053.png', '../data/pokemon/mewtwo/00000047.png', '../data/pokemon/mewtwo/00000084.png', '../data/pokemon/mewtwo/00000119.png', '../data/pokemon/mewtwo/00000092.png', '../data/pokemon/mewtwo/00000051.png', '../data/pokemon/mewtwo/00000045.png', '../data/pokemon/mewtwo/00000044.png', '../data/pokemon/mewtwo/00000050.png', '../data/pokemon/mewtwo/00000124.png', '../data/pokemon/mewtwo/00000118.png', '../data/pokemon/mewtwo/00000242.png', '../data/pokemon/mewtwo/00000054.png', '../data/pokemon/mewtwo/00000040.png', '../data/pokemon/mewtwo/00000069.png', '../data/pokemon/mewtwo/00000041.png', '../data/pokemon/mewtwo/00000055.png', '../data/pokemon/mewtwo/00000082.png', '../data/pokemon/mewtwo/00000121.png', '../data/pokemon/mewtwo/00000137.png', '../data/pokemon/mewtwo/00000241.png', '../data/pokemon/mewtwo/00000080.png', '../data/pokemon/mewtwo/00000043.png', '../data/pokemon/mewtwo/00000057.png', '../data/pokemon/mewtwo/00000056.png', '../data/pokemon/mewtwo/00000042.png', '../data/pokemon/mewtwo/00000095.png', '../data/pokemon/mewtwo/00000081.png', '../data/pokemon/mewtwo/00000136.png', '../data/pokemon/mewtwo/00000186.png', '../data/pokemon/mewtwo/00000233.png', '../data/pokemon/mewtwo/00000025.png', '../data/pokemon/mewtwo/00000031.png', '../data/pokemon/mewtwo/00000030.png', '../data/pokemon/mewtwo/00000144.png', '../data/pokemon/mewtwo/00000178.png', '../data/pokemon/mewtwo/00000187.png', '../data/pokemon/mewtwo/00000193.png', '../data/pokemon/mewtwo/00000185.png', '../data/pokemon/mewtwo/00000146.png', '../data/pokemon/mewtwo/00000152.png', '../data/pokemon/mewtwo/00000026.png', '../data/pokemon/mewtwo/00000027.png', '../data/pokemon/mewtwo/00000033.png', '../data/pokemon/mewtwo/00000231.png', '../data/pokemon/mewtwo/00000153.png', '../data/pokemon/mewtwo/00000147.png', '../data/pokemon/mewtwo/00000209.png', '../data/pokemon/mewtwo/00000037.png', '../data/pokemon/mewtwo/00000022.png', '../data/pokemon/mewtwo/00000208.png', '../data/pokemon/mewtwo/00000220.png', '../data/pokemon/mewtwo/00000181.png', '../data/pokemon/mewtwo/00000154.png', '../data/pokemon/mewtwo/00000168.png', '../data/pokemon/mewtwo/00000020.png', '../data/pokemon/mewtwo/00000034.png', '../data/pokemon/mewtwo/00000008.png', '../data/pokemon/mewtwo/00000009.png', '../data/pokemon/mewtwo/00000035.png', '../data/pokemon/mewtwo/00000237.png', '../data/pokemon/mewtwo/00000223.png', '../data/pokemon/mewtwo/00000182.png', '../data/pokemon/mewtwo/00000164.jpg', '../data/pokemon/mewtwo/00000170.jpg', '../data/pokemon/mewtwo/00000004.jpg', '../data/pokemon/mewtwo/00000213.jpg', '../data/pokemon/mewtwo/00000011.jpg', '../data/pokemon/mewtwo/00000171.jpg', '../data/pokemon/mewtwo/00000165.jpg', '../data/pokemon/mewtwo/00000159.jpg', '../data/pokemon/mewtwo/00000173.jpg', '../data/pokemon/mewtwo/00000167.jpg', '../data/pokemon/mewtwo/00000198.jpg', '../data/pokemon/mewtwo/00000007.jpg', '../data/pokemon/mewtwo/00000239.jpg', '../data/pokemon/mewtwo/00000211.jpg', '../data/pokemon/mewtwo/00000210.jpg', '../data/pokemon/mewtwo/00000204.jpg', '../data/pokemon/mewtwo/00000012.jpg', '../data/pokemon/mewtwo/00000006.jpg', '../data/pokemon/mewtwo/00000199.jpg', '../data/pokemon/mewtwo/00000176.jpg', '../data/pokemon/mewtwo/00000002.jpg', '../data/pokemon/mewtwo/00000016.jpg', '../data/pokemon/mewtwo/00000200.jpg', '../data/pokemon/mewtwo/00000214.jpg', '../data/pokemon/mewtwo/00000228.jpg', '../data/pokemon/mewtwo/00000215.jpg', '../data/pokemon/mewtwo/00000003.jpg', '../data/pokemon/mewtwo/00000161.jpg', '../data/pokemon/mewtwo/00000149.jpg', '../data/pokemon/mewtwo/00000001.jpg', '../data/pokemon/mewtwo/00000029.jpg', '../data/pokemon/mewtwo/00000203.jpg', '../data/pokemon/mewtwo/00000216.jpg', '../data/pokemon/mewtwo/00000028.jpg', '../data/pokemon/mewtwo/00000000.jpg', '../data/pokemon/mewtwo/00000107.jpg', '../data/pokemon/mewtwo/00000073.jpg', '../data/pokemon/mewtwo/00000067.jpg', '../data/pokemon/mewtwo/00000098.jpg', '../data/pokemon/mewtwo/00000099.jpg', '../data/pokemon/mewtwo/00000066.jpg', '../data/pokemon/mewtwo/00000110.jpg', '../data/pokemon/mewtwo/00000104.jpg', '../data/pokemon/mewtwo/00000070.jpg', '../data/pokemon/mewtwo/00000059.jpg', '../data/pokemon/mewtwo/00000105.jpg', '../data/pokemon/mewtwo/00000139.jpg', '../data/pokemon/mewtwo/00000101.jpg', '../data/pokemon/mewtwo/00000129.jpg', '../data/pokemon/mewtwo/00000061.jpg', '../data/pokemon/mewtwo/00000075.jpg', '../data/pokemon/mewtwo/00000060.jpg', '../data/pokemon/mewtwo/00000128.jpg', '../data/pokemon/mewtwo/00000114.jpg', '../data/pokemon/mewtwo/00000102.jpg', '../data/pokemon/mewtwo/00000089.jpg', '../data/pokemon/mewtwo/00000063.jpg', '../data/pokemon/mewtwo/00000077.jpg', '../data/pokemon/mewtwo/00000126.jpg', '../data/pokemon/mewtwo/00000091.jpg', '../data/pokemon/mewtwo/00000085.jpg', '../data/pokemon/mewtwo/00000244.jpg', '../data/pokemon/mewtwo/00000090.jpg', '../data/pokemon/mewtwo/00000133.jpg', '../data/pokemon/mewtwo/00000127.jpg', '../data/pokemon/mewtwo/00000131.jpg', '../data/pokemon/mewtwo/00000125.jpg', '../data/pokemon/mewtwo/00000079.jpg', '../data/pokemon/mewtwo/00000086.jpg', '../data/pokemon/mewtwo/00000093.jpg', '../data/pokemon/mewtwo/00000087.jpg', '../data/pokemon/mewtwo/00000078.jpg', '../data/pokemon/mewtwo/00000130.jpg', '../data/pokemon/mewtwo/00000134.jpg', '../data/pokemon/mewtwo/00000120.jpg', '../data/pokemon/mewtwo/00000108.jpg', '../data/pokemon/mewtwo/00000068.jpg', '../data/pokemon/mewtwo/00000083.jpg', '../data/pokemon/mewtwo/00000097.jpg', '../data/pokemon/mewtwo/00000243.jpg', '../data/pokemon/mewtwo/00000096.jpg', '../data/pokemon/mewtwo/00000109.jpg', '../data/pokemon/mewtwo/00000135.jpg', '../data/pokemon/mewtwo/00000123.jpg', '../data/pokemon/mewtwo/00000094.jpg', '../data/pokemon/mewtwo/00000240.jpg', '../data/pokemon/mewtwo/00000122.jpg', '../data/pokemon/mewtwo/00000179.jpg', '../data/pokemon/mewtwo/00000145.jpg', '../data/pokemon/mewtwo/00000151.jpg', '../data/pokemon/mewtwo/00000192.jpg', '../data/pokemon/mewtwo/00000019.jpg', '../data/pokemon/mewtwo/00000227.jpg', '../data/pokemon/mewtwo/00000226.jpg', '../data/pokemon/mewtwo/00000232.jpg', '../data/pokemon/mewtwo/00000024.jpg', '../data/pokemon/mewtwo/00000018.jpg', '../data/pokemon/mewtwo/00000150.jpg', '../data/pokemon/mewtwo/00000191.jpg', '../data/pokemon/mewtwo/00000032.jpg', '../data/pokemon/mewtwo/00000218.jpg', '../data/pokemon/mewtwo/00000224.jpg', '../data/pokemon/mewtwo/00000230.jpg', '../data/pokemon/mewtwo/00000225.jpg', '../data/pokemon/mewtwo/00000219.jpg', '../data/pokemon/mewtwo/00000184.jpg', '../data/pokemon/mewtwo/00000190.jpg', '../data/pokemon/mewtwo/00000143.jpg', '../data/pokemon/mewtwo/00000194.jpg', '../data/pokemon/mewtwo/00000180.jpg', '../data/pokemon/mewtwo/00000023.jpg', '../data/pokemon/mewtwo/00000221.jpg', '../data/pokemon/mewtwo/00000235.jpg', '../data/pokemon/mewtwo/00000234.jpg', '../data/pokemon/mewtwo/00000036.jpg', '../data/pokemon/mewtwo/00000195.jpg', '../data/pokemon/mewtwo/00000142.jpg', '../data/pokemon/mewtwo/00000156.jpg', '../data/pokemon/mewtwo/00000140.jpg', '../data/pokemon/mewtwo/00000183.jpg', '../data/pokemon/mewtwo/00000197.jpg', '../data/pokemon/mewtwo/00000236.jpg', '../data/pokemon/mewtwo/00000222.jpg', '../data/pokemon/mewtwo/00000021.jpg', '../data/pokemon/mewtwo/00000196.jpg', '../data/pokemon/mewtwo/00000155.jpg', '../data/pokemon/mewtwo/00000013.jpeg', '../data/pokemon/mewtwo/00000064.jpeg', '../data/pokemon/pikachu/00000158.png', '../data/pokemon/pikachu/00000038.png', '../data/pokemon/pikachu/00000010.png', '../data/pokemon/pikachu/00000011.png', '../data/pokemon/pikachu/00000005.png', '../data/pokemon/pikachu/00000171.png', '../data/pokemon/pikachu/00000211.png', '../data/pokemon/pikachu/00000205.png', '../data/pokemon/pikachu/00000013.png', '../data/pokemon/pikachu/00000006.png', '../data/pokemon/pikachu/00000012.png', '../data/pokemon/pikachu/00000204.png', '../data/pokemon/pikachu/00000210.png', '../data/pokemon/pikachu/00000238.png', '../data/pokemon/pikachu/00000228.png', '../data/pokemon/pikachu/00000002.png', '../data/pokemon/pikachu/00000201.png', '../data/pokemon/pikachu/00000215.png', '../data/pokemon/pikachu/00000177.png', '../data/pokemon/pikachu/00000175.png', '../data/pokemon/pikachu/00000149.png', '../data/pokemon/pikachu/00000217.png', '../data/pokemon/pikachu/00000001.png', '../data/pokemon/pikachu/00000015.png', '../data/pokemon/pikachu/00000014.png', '../data/pokemon/pikachu/00000148.png', '../data/pokemon/pikachu/00000067.png', '../data/pokemon/pikachu/00000066.png', '../data/pokemon/pikachu/00000106.png', '../data/pokemon/pikachu/00000058.png', '../data/pokemon/pikachu/00000070.png', '../data/pokemon/pikachu/00000071.png', '../data/pokemon/pikachu/00000111.png', '../data/pokemon/pikachu/00000139.png', '../data/pokemon/pikachu/00000049.png', '../data/pokemon/pikachu/00000060.png', '../data/pokemon/pikachu/00000074.png', '../data/pokemon/pikachu/00000128.png', '../data/pokemon/pikachu/00000114.png', '../data/pokemon/pikachu/00000102.png', '../data/pokemon/pikachu/00000076.png', '../data/pokemon/pikachu/00000088.png', '../data/pokemon/pikachu/00000117.png', '../data/pokemon/pikachu/00000085.png', '../data/pokemon/pikachu/00000052.png', '../data/pokemon/pikachu/00000084.png', '../data/pokemon/pikachu/00000133.png', '../data/pokemon/pikachu/00000119.png', '../data/pokemon/pikachu/00000045.png', '../data/pokemon/pikachu/00000050.png', '../data/pokemon/pikachu/00000078.png', '../data/pokemon/pikachu/00000093.png', '../data/pokemon/pikachu/00000108.png', '../data/pokemon/pikachu/00000097.png', '../data/pokemon/pikachu/00000083.png', '../data/pokemon/pikachu/00000040.png', '../data/pokemon/pikachu/00000068.png', '../data/pokemon/pikachu/00000069.png', '../data/pokemon/pikachu/00000055.png', '../data/pokemon/pikachu/00000109.png', '../data/pokemon/pikachu/00000135.png', '../data/pokemon/pikachu/00000121.png', '../data/pokemon/pikachu/00000080.png', '../data/pokemon/pikachu/00000043.png', '../data/pokemon/pikachu/00000057.png', '../data/pokemon/pikachu/00000042.png', '../data/pokemon/pikachu/00000186.png', '../data/pokemon/pikachu/00000151.png', '../data/pokemon/pikachu/00000233.png', '../data/pokemon/pikachu/00000025.png', '../data/pokemon/pikachu/00000031.png', '../data/pokemon/pikachu/00000024.png', '../data/pokemon/pikachu/00000232.png', '../data/pokemon/pikachu/00000226.png', '../data/pokemon/pikachu/00000144.png', '../data/pokemon/pikachu/00000193.png', '../data/pokemon/pikachu/00000218.png', '../data/pokemon/pikachu/00000230.png', '../data/pokemon/pikachu/00000026.png', '../data/pokemon/pikachu/00000190.png', '../data/pokemon/pikachu/00000143.png', '../data/pokemon/pikachu/00000023.png', '../data/pokemon/pikachu/00000036.png', '../data/pokemon/pikachu/00000220.png', '../data/pokemon/pikachu/00000234.png', '../data/pokemon/pikachu/00000183.png', '../data/pokemon/pikachu/00000140.png', '../data/pokemon/pikachu/00000168.png', '../data/pokemon/pikachu/00000020.png', '../data/pokemon/pikachu/00000009.png', '../data/pokemon/pikachu/00000035.png', '../data/pokemon/pikachu/00000021.png', '../data/pokemon/pikachu/00000223.png', '../data/pokemon/pikachu/00000169.png', '../data/pokemon/pikachu/00000141.png', '../data/pokemon/pikachu/00000164.jpg', '../data/pokemon/pikachu/00000170.jpg', '../data/pokemon/pikachu/00000004.jpg', '../data/pokemon/pikachu/00000212.jpg', '../data/pokemon/pikachu/00000206.jpg', '../data/pokemon/pikachu/00000207.jpg', '../data/pokemon/pikachu/00000213.jpg', '../data/pokemon/pikachu/00000039.jpg', '../data/pokemon/pikachu/00000165.jpg', '../data/pokemon/pikachu/00000159.jpg', '../data/pokemon/pikachu/00000173.jpg', '../data/pokemon/pikachu/00000167.jpg', '../data/pokemon/pikachu/00000198.jpg', '../data/pokemon/pikachu/00000007.jpg', '../data/pokemon/pikachu/00000199.jpg', '../data/pokemon/pikachu/00000166.jpg', '../data/pokemon/pikachu/00000172.jpg', '../data/pokemon/pikachu/00000176.jpg', '../data/pokemon/pikachu/00000162.jpg', '../data/pokemon/pikachu/00000189.jpg', '../data/pokemon/pikachu/00000016.jpg', '../data/pokemon/pikachu/00000200.jpg', '../data/pokemon/pikachu/00000214.jpg', '../data/pokemon/pikachu/00000229.jpg', '../data/pokemon/pikachu/00000017.jpg', '../data/pokemon/pikachu/00000003.jpg', '../data/pokemon/pikachu/00000188.jpg', '../data/pokemon/pikachu/00000163.jpg', '../data/pokemon/pikachu/00000161.jpg', '../data/pokemon/pikachu/00000029.jpg', '../data/pokemon/pikachu/00000203.jpg', '../data/pokemon/pikachu/00000202.jpg', '../data/pokemon/pikachu/00000216.jpg', '../data/pokemon/pikachu/00000028.jpg', '../data/pokemon/pikachu/00000000.jpg', '../data/pokemon/pikachu/00000174.jpg', '../data/pokemon/pikachu/00000160.jpg', '../data/pokemon/pikachu/00000107.jpg', '../data/pokemon/pikachu/00000113.jpg', '../data/pokemon/pikachu/00000073.jpg', '../data/pokemon/pikachu/00000098.jpg', '../data/pokemon/pikachu/00000099.jpg', '../data/pokemon/pikachu/00000112.jpg', '../data/pokemon/pikachu/00000138.jpg', '../data/pokemon/pikachu/00000110.jpg', '../data/pokemon/pikachu/00000104.jpg', '../data/pokemon/pikachu/00000064.jpg', '../data/pokemon/pikachu/00000065.jpg', '../data/pokemon/pikachu/00000059.jpg', '../data/pokemon/pikachu/00000105.jpg', '../data/pokemon/pikachu/00000115.jpg', '../data/pokemon/pikachu/00000101.jpg', '../data/pokemon/pikachu/00000129.jpg', '../data/pokemon/pikachu/00000061.jpg', '../data/pokemon/pikachu/00000075.jpg', '../data/pokemon/pikachu/00000048.jpg', '../data/pokemon/pikachu/00000100.jpg', '../data/pokemon/pikachu/00000116.jpg', '../data/pokemon/pikachu/00000062.jpg', '../data/pokemon/pikachu/00000089.jpg', '../data/pokemon/pikachu/00000063.jpg', '../data/pokemon/pikachu/00000077.jpg', '../data/pokemon/pikachu/00000103.jpg', '../data/pokemon/pikachu/00000126.jpg', '../data/pokemon/pikachu/00000132.jpg', '../data/pokemon/pikachu/00000046.jpg', '../data/pokemon/pikachu/00000091.jpg', '../data/pokemon/pikachu/00000090.jpg', '../data/pokemon/pikachu/00000047.jpg', '../data/pokemon/pikachu/00000053.jpg', '../data/pokemon/pikachu/00000127.jpg', '../data/pokemon/pikachu/00000131.jpg', '../data/pokemon/pikachu/00000125.jpg', '../data/pokemon/pikachu/00000079.jpg', '../data/pokemon/pikachu/00000051.jpg', '../data/pokemon/pikachu/00000086.jpg', '../data/pokemon/pikachu/00000092.jpg', '../data/pokemon/pikachu/00000087.jpg', '../data/pokemon/pikachu/00000044.jpg', '../data/pokemon/pikachu/00000124.jpg', '../data/pokemon/pikachu/00000130.jpg', '../data/pokemon/pikachu/00000118.jpg', '../data/pokemon/pikachu/00000134.jpg', '../data/pokemon/pikachu/00000054.jpg', '../data/pokemon/pikachu/00000096.jpg', '../data/pokemon/pikachu/00000082.jpg', '../data/pokemon/pikachu/00000041.jpg', '../data/pokemon/pikachu/00000123.jpg', '../data/pokemon/pikachu/00000137.jpg', '../data/pokemon/pikachu/00000094.jpg', '../data/pokemon/pikachu/00000081.jpg', '../data/pokemon/pikachu/00000095.jpg', '../data/pokemon/pikachu/00000056.jpg', '../data/pokemon/pikachu/00000136.jpg', '../data/pokemon/pikachu/00000122.jpg', '../data/pokemon/pikachu/00000179.jpg', '../data/pokemon/pikachu/00000145.jpg', '../data/pokemon/pikachu/00000192.jpg', '../data/pokemon/pikachu/00000019.jpg', '../data/pokemon/pikachu/00000227.jpg', '../data/pokemon/pikachu/00000030.jpg', '../data/pokemon/pikachu/00000018.jpg', '../data/pokemon/pikachu/00000187.jpg', '../data/pokemon/pikachu/00000150.jpg', '../data/pokemon/pikachu/00000152.jpg', '../data/pokemon/pikachu/00000146.jpg', '../data/pokemon/pikachu/00000191.jpg', '../data/pokemon/pikachu/00000185.jpg', '../data/pokemon/pikachu/00000032.jpg', '../data/pokemon/pikachu/00000224.jpg', '../data/pokemon/pikachu/00000225.jpg', '../data/pokemon/pikachu/00000219.jpg', '../data/pokemon/pikachu/00000033.jpg', '../data/pokemon/pikachu/00000027.jpg', '../data/pokemon/pikachu/00000184.jpg', '../data/pokemon/pikachu/00000147.jpg', '../data/pokemon/pikachu/00000157.jpg', '../data/pokemon/pikachu/00000194.jpg', '../data/pokemon/pikachu/00000180.jpg', '../data/pokemon/pikachu/00000037.jpg', '../data/pokemon/pikachu/00000221.jpg', '../data/pokemon/pikachu/00000235.jpg', '../data/pokemon/pikachu/00000209.jpg', '../data/pokemon/pikachu/00000208.jpg', '../data/pokemon/pikachu/00000022.jpg', '../data/pokemon/pikachu/00000181.jpg', '../data/pokemon/pikachu/00000195.jpg', '../data/pokemon/pikachu/00000142.jpg', '../data/pokemon/pikachu/00000156.jpg', '../data/pokemon/pikachu/00000154.jpg', '../data/pokemon/pikachu/00000197.jpg', '../data/pokemon/pikachu/00000034.jpg', '../data/pokemon/pikachu/00000008.jpg', '../data/pokemon/pikachu/00000237.jpg', '../data/pokemon/pikachu/00000196.jpg', '../data/pokemon/pikachu/00000182.jpg', '../data/pokemon/pikachu/00000155.jpg', '../data/pokemon/pikachu/00000072.jpeg', '../data/pokemon/squirtle/00000170.png', '../data/pokemon/squirtle/00000206.png', '../data/pokemon/squirtle/00000004.png', '../data/pokemon/squirtle/00000010.png', '../data/pokemon/squirtle/00000005.png', '../data/pokemon/squirtle/00000213.png', '../data/pokemon/squirtle/00000211.png', '../data/pokemon/squirtle/00000006.png', '../data/pokemon/squirtle/00000012.png', '../data/pokemon/squirtle/00000210.png', '../data/pokemon/squirtle/00000172.png', '../data/pokemon/squirtle/00000199.png', '../data/pokemon/squirtle/00000016.png', '../data/pokemon/squirtle/00000003.png', '../data/pokemon/squirtle/00000017.png', '../data/pokemon/squirtle/00000201.png', '../data/pokemon/squirtle/00000163.png', '../data/pokemon/squirtle/00000149.png', '../data/pokemon/squirtle/00000015.png', '../data/pokemon/squirtle/00000000.png', '../data/pokemon/squirtle/00000216.png', '../data/pokemon/squirtle/00000148.png', '../data/pokemon/squirtle/00000160.png', '../data/pokemon/squirtle/00000113.png', '../data/pokemon/squirtle/00000098.png', '../data/pokemon/squirtle/00000073.png', '../data/pokemon/squirtle/00000066.png', '../data/pokemon/squirtle/00000138.png', '../data/pokemon/squirtle/00000104.png', '../data/pokemon/squirtle/00000058.png', '../data/pokemon/squirtle/00000070.png', '../data/pokemon/squirtle/00000064.png', '../data/pokemon/squirtle/00000065.png', '../data/pokemon/squirtle/00000059.png', '../data/pokemon/squirtle/00000105.png', '../data/pokemon/squirtle/00000129.png', '../data/pokemon/squirtle/00000061.png', '../data/pokemon/squirtle/00000049.png', '../data/pokemon/squirtle/00000060.png', '../data/pokemon/squirtle/00000114.png', '../data/pokemon/squirtle/00000100.png', '../data/pokemon/squirtle/00000089.png', '../data/pokemon/squirtle/00000062.png', '../data/pokemon/squirtle/00000076.png', '../data/pokemon/squirtle/00000063.png', '../data/pokemon/squirtle/00000117.png', '../data/pokemon/squirtle/00000133.png', '../data/pokemon/squirtle/00000086.png', '../data/pokemon/squirtle/00000051.png', '../data/pokemon/squirtle/00000044.png', '../data/pokemon/squirtle/00000050.png', '../data/pokemon/squirtle/00000078.png', '../data/pokemon/squirtle/00000087.png', '../data/pokemon/squirtle/00000093.png', '../data/pokemon/squirtle/00000097.png', '../data/pokemon/squirtle/00000083.png', '../data/pokemon/squirtle/00000040.png', '../data/pokemon/squirtle/00000068.png', '../data/pokemon/squirtle/00000069.png', '../data/pokemon/squirtle/00000109.png', '../data/pokemon/squirtle/00000135.png', '../data/pokemon/squirtle/00000137.png', '../data/pokemon/squirtle/00000094.png', '../data/pokemon/squirtle/00000043.png', '../data/pokemon/squirtle/00000056.png', '../data/pokemon/squirtle/00000042.png', '../data/pokemon/squirtle/00000081.png', '../data/pokemon/squirtle/00000136.png', '../data/pokemon/squirtle/00000192.png', '../data/pokemon/squirtle/00000186.png', '../data/pokemon/squirtle/00000179.png', '../data/pokemon/squirtle/00000151.png', '../data/pokemon/squirtle/00000025.png', '../data/pokemon/squirtle/00000031.png', '../data/pokemon/squirtle/00000024.png', '../data/pokemon/squirtle/00000144.png', '../data/pokemon/squirtle/00000178.png', '../data/pokemon/squirtle/00000146.png', '../data/pokemon/squirtle/00000026.png', '../data/pokemon/squirtle/00000027.png', '../data/pokemon/squirtle/00000219.png', '../data/pokemon/squirtle/00000147.png', '../data/pokemon/squirtle/00000023.png', '../data/pokemon/squirtle/00000022.png', '../data/pokemon/squirtle/00000208.png', '../data/pokemon/squirtle/00000140.png', '../data/pokemon/squirtle/00000222.png', '../data/pokemon/squirtle/00000034.png', '../data/pokemon/squirtle/00000008.png', '../data/pokemon/squirtle/00000009.png', '../data/pokemon/squirtle/00000021.png', '../data/pokemon/squirtle/00000169.png', '../data/pokemon/squirtle/00000158.jpg', '../data/pokemon/squirtle/00000164.jpg', '../data/pokemon/squirtle/00000038.jpg', '../data/pokemon/squirtle/00000212.jpg', '../data/pokemon/squirtle/00000011.jpg', '../data/pokemon/squirtle/00000039.jpg', '../data/pokemon/squirtle/00000171.jpg', '../data/pokemon/squirtle/00000159.jpg', '../data/pokemon/squirtle/00000173.jpg', '../data/pokemon/squirtle/00000167.jpg', '../data/pokemon/squirtle/00000198.jpg', '../data/pokemon/squirtle/00000007.jpg', '../data/pokemon/squirtle/00000013.jpg', '../data/pokemon/squirtle/00000205.jpg', '../data/pokemon/squirtle/00000204.jpg', '../data/pokemon/squirtle/00000166.jpg', '../data/pokemon/squirtle/00000162.jpg', '../data/pokemon/squirtle/00000189.jpg', '../data/pokemon/squirtle/00000002.jpg', '../data/pokemon/squirtle/00000200.jpg', '../data/pokemon/squirtle/00000214.jpg', '../data/pokemon/squirtle/00000228.jpg', '../data/pokemon/squirtle/00000229.jpg', '../data/pokemon/squirtle/00000215.jpg', '../data/pokemon/squirtle/00000188.jpg', '../data/pokemon/squirtle/00000177.jpg', '../data/pokemon/squirtle/00000161.jpg', '../data/pokemon/squirtle/00000175.jpg', '../data/pokemon/squirtle/00000001.jpg', '../data/pokemon/squirtle/00000029.jpg', '../data/pokemon/squirtle/00000217.jpg', '../data/pokemon/squirtle/00000203.jpg', '../data/pokemon/squirtle/00000202.jpg', '../data/pokemon/squirtle/00000028.jpg', '../data/pokemon/squirtle/00000014.jpg', '../data/pokemon/squirtle/00000174.jpg', '../data/pokemon/squirtle/00000107.jpg', '../data/pokemon/squirtle/00000067.jpg', '../data/pokemon/squirtle/00000072.jpg', '../data/pokemon/squirtle/00000112.jpg', '../data/pokemon/squirtle/00000106.jpg', '../data/pokemon/squirtle/00000110.jpg', '../data/pokemon/squirtle/00000071.jpg', '../data/pokemon/squirtle/00000111.jpg', '../data/pokemon/squirtle/00000139.jpg', '../data/pokemon/squirtle/00000115.jpg', '../data/pokemon/squirtle/00000101.jpg', '../data/pokemon/squirtle/00000075.jpg', '../data/pokemon/squirtle/00000048.jpg', '../data/pokemon/squirtle/00000074.jpg', '../data/pokemon/squirtle/00000128.jpg', '../data/pokemon/squirtle/00000102.jpg', '../data/pokemon/squirtle/00000116.jpg', '../data/pokemon/squirtle/00000077.jpg', '../data/pokemon/squirtle/00000103.jpg', '../data/pokemon/squirtle/00000126.jpg', '../data/pokemon/squirtle/00000132.jpg', '../data/pokemon/squirtle/00000052.jpg', '../data/pokemon/squirtle/00000046.jpg', '../data/pokemon/squirtle/00000091.jpg', '../data/pokemon/squirtle/00000085.jpg', '../data/pokemon/squirtle/00000084.jpg', '../data/pokemon/squirtle/00000090.jpg', '../data/pokemon/squirtle/00000047.jpg', '../data/pokemon/squirtle/00000053.jpg', '../data/pokemon/squirtle/00000127.jpg', '../data/pokemon/squirtle/00000119.jpg', '../data/pokemon/squirtle/00000131.jpg', '../data/pokemon/squirtle/00000079.jpg', '../data/pokemon/squirtle/00000045.jpg', '../data/pokemon/squirtle/00000092.jpg', '../data/pokemon/squirtle/00000124.jpg', '../data/pokemon/squirtle/00000130.jpg', '../data/pokemon/squirtle/00000134.jpg', '../data/pokemon/squirtle/00000120.jpg', '../data/pokemon/squirtle/00000108.jpg', '../data/pokemon/squirtle/00000054.jpg', '../data/pokemon/squirtle/00000096.jpg', '../data/pokemon/squirtle/00000082.jpg', '../data/pokemon/squirtle/00000055.jpg', '../data/pokemon/squirtle/00000041.jpg', '../data/pokemon/squirtle/00000121.jpg', '../data/pokemon/squirtle/00000123.jpg', '../data/pokemon/squirtle/00000057.jpg', '../data/pokemon/squirtle/00000080.jpg', '../data/pokemon/squirtle/00000095.jpg', '../data/pokemon/squirtle/00000122.jpg', '../data/pokemon/squirtle/00000145.jpg', '../data/pokemon/squirtle/00000019.jpg', '../data/pokemon/squirtle/00000227.jpg', '../data/pokemon/squirtle/00000226.jpg', '../data/pokemon/squirtle/00000030.jpg', '../data/pokemon/squirtle/00000018.jpg', '../data/pokemon/squirtle/00000193.jpg', '../data/pokemon/squirtle/00000187.jpg', '../data/pokemon/squirtle/00000150.jpg', '../data/pokemon/squirtle/00000152.jpg', '../data/pokemon/squirtle/00000191.jpg', '../data/pokemon/squirtle/00000185.jpg', '../data/pokemon/squirtle/00000032.jpg', '../data/pokemon/squirtle/00000218.jpg', '../data/pokemon/squirtle/00000224.jpg', '../data/pokemon/squirtle/00000230.jpg', '../data/pokemon/squirtle/00000225.jpg', '../data/pokemon/squirtle/00000033.jpg', '../data/pokemon/squirtle/00000184.jpg', '../data/pokemon/squirtle/00000190.jpg', '../data/pokemon/squirtle/00000153.jpg', '../data/pokemon/squirtle/00000157.jpg', '../data/pokemon/squirtle/00000143.jpg', '../data/pokemon/squirtle/00000194.jpg', '../data/pokemon/squirtle/00000180.jpg', '../data/pokemon/squirtle/00000037.jpg', '../data/pokemon/squirtle/00000221.jpg', '../data/pokemon/squirtle/00000209.jpg', '../data/pokemon/squirtle/00000220.jpg', '../data/pokemon/squirtle/00000036.jpg', '../data/pokemon/squirtle/00000181.jpg', '../data/pokemon/squirtle/00000142.jpg', '../data/pokemon/squirtle/00000154.jpg', '../data/pokemon/squirtle/00000168.jpg', '../data/pokemon/squirtle/00000183.jpg', '../data/pokemon/squirtle/00000197.jpg', '../data/pokemon/squirtle/00000020.jpg', '../data/pokemon/squirtle/00000223.jpg', '../data/pokemon/squirtle/00000035.jpg', '../data/pokemon/squirtle/00000196.jpg', '../data/pokemon/squirtle/00000182.jpg', '../data/pokemon/squirtle/00000155.jpg', '../data/pokemon/squirtle/00000141.jpg', '../data/pokemon/squirtle/00000176.jpeg']\n",
      "written into csv file: images.csv\n",
      "images 699 ['../data/pokemon/charmander/00000162.jpg', '../data/pokemon/bulbasaur/00000220.png', '../data/pokemon/charmander/00000175.jpg', '../data/pokemon/pikachu/00000131.jpg', '../data/pokemon/pikachu/00000224.jpg', '../data/pokemon/bulbasaur/00000033.jpg', '../data/pokemon/squirtle/00000110.jpg', '../data/pokemon/mewtwo/00000072.png', '../data/pokemon/charmander/00000232.jpg', '../data/pokemon/bulbasaur/00000196.png', '../data/pokemon/mewtwo/00000135.jpg', '../data/pokemon/bulbasaur/00000122.jpg', '../data/pokemon/pikachu/00000137.jpg', '../data/pokemon/bulbasaur/00000002.png', '../data/pokemon/squirtle/00000065.png', '../data/pokemon/charmander/00000091.jpg', '../data/pokemon/charmander/00000176.png', '../data/pokemon/bulbasaur/00000040.jpg', '../data/pokemon/bulbasaur/00000217.jpg', '../data/pokemon/charmander/00000011.png', '../data/pokemon/bulbasaur/00000076.png', '../data/pokemon/pikachu/00000035.png', '../data/pokemon/mewtwo/00000031.png', '../data/pokemon/bulbasaur/00000047.png', '../data/pokemon/bulbasaur/00000234.png', '../data/pokemon/charmander/00000244.jpg', '../data/pokemon/bulbasaur/00000108.jpg', '../data/pokemon/bulbasaur/00000153.jpg', '../data/pokemon/bulbasaur/00000199.jpg', '../data/pokemon/pikachu/00000014.png', '../data/pokemon/squirtle/00000214.jpg', '../data/pokemon/charmander/00000207.jpg', '../data/pokemon/bulbasaur/00000186.png', '../data/pokemon/bulbasaur/00000099.png', '../data/pokemon/squirtle/00000183.jpg', '../data/pokemon/squirtle/00000014.jpg', '../data/pokemon/bulbasaur/00000006.jpg', '../data/pokemon/mewtwo/00000035.png', '../data/pokemon/pikachu/00000213.jpg', '../data/pokemon/mewtwo/00000207.png', '../data/pokemon/charmander/00000122.jpg', '../data/pokemon/pikachu/00000034.jpg', '../data/pokemon/mewtwo/00000048.png', '../data/pokemon/pikachu/00000159.jpg', '../data/pokemon/squirtle/00000140.png', '../data/pokemon/mewtwo/00000151.jpg', '../data/pokemon/mewtwo/00000108.jpg', '../data/pokemon/bulbasaur/00000034.jpg', '../data/pokemon/squirtle/00000218.jpg', '../data/pokemon/pikachu/00000133.png', '../data/pokemon/charmander/00000172.png', '../data/pokemon/bulbasaur/00000133.png', '../data/pokemon/pikachu/00000042.png', '../data/pokemon/bulbasaur/00000118.jpg', '../data/pokemon/squirtle/00000062.png', '../data/pokemon/mewtwo/00000211.jpg', '../data/pokemon/bulbasaur/00000075.png', '../data/pokemon/squirtle/00000158.jpg', '../data/pokemon/bulbasaur/00000079.jpg', '../data/pokemon/charmander/00000038.png', '../data/pokemon/pikachu/00000043.png', '../data/pokemon/charmander/00000026.png', '../data/pokemon/bulbasaur/00000113.png', '../data/pokemon/mewtwo/00000033.png', '../data/pokemon/charmander/00000070.png', '../data/pokemon/charmander/00000041.jpg', '../data/pokemon/bulbasaur/00000185.png', '../data/pokemon/squirtle/00000097.png', '../data/pokemon/mewtwo/00000225.jpg', '../data/pokemon/squirtle/00000157.jpg', '../data/pokemon/mewtwo/00000137.png', '../data/pokemon/charmander/00000149.jpg', '../data/pokemon/mewtwo/00000109.jpg', '../data/pokemon/bulbasaur/00000069.png', '../data/pokemon/mewtwo/00000050.png', '../data/pokemon/squirtle/00000055.jpg', '../data/pokemon/charmander/00000212.jpg', '../data/pokemon/mewtwo/00000077.jpg', '../data/pokemon/charmander/00000220.jpg', '../data/pokemon/mewtwo/00000095.png', '../data/pokemon/charmander/00000210.png', '../data/pokemon/bulbasaur/00000098.png', '../data/pokemon/charmander/00000229.png', '../data/pokemon/pikachu/00000049.png', '../data/pokemon/pikachu/00000058.png', '../data/pokemon/mewtwo/00000003.jpg', '../data/pokemon/mewtwo/00000145.jpg', '../data/pokemon/pikachu/00000177.png', '../data/pokemon/mewtwo/00000205.png', '../data/pokemon/squirtle/00000151.png', '../data/pokemon/pikachu/00000103.jpg', '../data/pokemon/bulbasaur/00000083.png', '../data/pokemon/bulbasaur/00000227.png', '../data/pokemon/pikachu/00000054.jpg', '../data/pokemon/pikachu/00000200.jpg', '../data/pokemon/mewtwo/00000107.jpg', '../data/pokemon/charmander/00000187.jpg', '../data/pokemon/squirtle/00000190.jpg', '../data/pokemon/mewtwo/00000198.jpg', '../data/pokemon/bulbasaur/00000110.jpg', '../data/pokemon/pikachu/00000162.jpg', '../data/pokemon/charmander/00000221.jpg', '../data/pokemon/bulbasaur/00000092.jpg', '../data/pokemon/bulbasaur/00000210.jpg', '../data/pokemon/pikachu/00000212.jpg', '../data/pokemon/mewtwo/00000209.png', '../data/pokemon/bulbasaur/00000132.jpg', '../data/pokemon/bulbasaur/00000061.jpg', '../data/pokemon/charmander/00000136.jpg', '../data/pokemon/pikachu/00000175.png', '../data/pokemon/charmander/00000120.jpg', '../data/pokemon/mewtwo/00000020.png', '../data/pokemon/mewtwo/00000113.png', '../data/pokemon/charmander/00000081.jpg', '../data/pokemon/charmander/00000196.jpg', '../data/pokemon/charmander/00000071.jpg', '../data/pokemon/mewtwo/00000073.jpg', '../data/pokemon/pikachu/00000220.png', '../data/pokemon/mewtwo/00000226.jpg', '../data/pokemon/charmander/00000114.jpg', '../data/pokemon/pikachu/00000085.png', '../data/pokemon/mewtwo/00000071.png', '../data/pokemon/mewtwo/00000223.png', '../data/pokemon/mewtwo/00000238.png', '../data/pokemon/squirtle/00000142.jpg', '../data/pokemon/mewtwo/00000196.jpg', '../data/pokemon/bulbasaur/00000066.jpg', '../data/pokemon/charmander/00000105.jpg', '../data/pokemon/squirtle/00000119.jpg', '../data/pokemon/mewtwo/00000176.jpg', '../data/pokemon/bulbasaur/00000067.jpg', '../data/pokemon/squirtle/00000080.jpg', '../data/pokemon/mewtwo/00000132.png', '../data/pokemon/squirtle/00000187.jpg', '../data/pokemon/charmander/00000154.png', '../data/pokemon/mewtwo/00000076.png', '../data/pokemon/charmander/00000049.jpg', '../data/pokemon/squirtle/00000226.jpg', '../data/pokemon/squirtle/00000134.jpg', '../data/pokemon/mewtwo/00000068.jpg', '../data/pokemon/pikachu/00000154.jpg', '../data/pokemon/pikachu/00000104.jpg', '../data/pokemon/pikachu/00000170.jpg', '../data/pokemon/bulbasaur/00000000.png', '../data/pokemon/charmander/00000083.jpg', '../data/pokemon/bulbasaur/00000125.jpg', '../data/pokemon/squirtle/00000095.jpg', '../data/pokemon/charmander/00000223.png', '../data/pokemon/pikachu/00000124.jpg', '../data/pokemon/squirtle/00000166.jpg', '../data/pokemon/bulbasaur/00000026.png', '../data/pokemon/mewtwo/00000142.jpg', '../data/pokemon/squirtle/00000150.jpg', '../data/pokemon/bulbasaur/00000029.jpg', '../data/pokemon/charmander/00000161.jpg', '../data/pokemon/mewtwo/00000134.jpg', '../data/pokemon/bulbasaur/00000070.png', '../data/pokemon/pikachu/00000198.jpg', '../data/pokemon/charmander/00000168.jpg', '../data/pokemon/pikachu/00000018.jpg', '../data/pokemon/squirtle/00000120.jpg', '../data/pokemon/mewtwo/00000010.png', '../data/pokemon/mewtwo/00000100.png', '../data/pokemon/charmander/00000096.png', '../data/pokemon/pikachu/00000208.jpg', '../data/pokemon/squirtle/00000006.png', '../data/pokemon/charmander/00000143.jpg', '../data/pokemon/pikachu/00000234.png', '../data/pokemon/charmander/00000209.jpg', '../data/pokemon/pikachu/00000051.jpg', '../data/pokemon/squirtle/00000067.jpg', '../data/pokemon/squirtle/00000008.png', '../data/pokemon/mewtwo/00000186.png', '../data/pokemon/squirtle/00000002.jpg', '../data/pokemon/pikachu/00000004.jpg', '../data/pokemon/squirtle/00000171.jpg', '../data/pokemon/squirtle/00000057.jpg', '../data/pokemon/bulbasaur/00000003.png', '../data/pokemon/bulbasaur/00000090.png', '../data/pokemon/mewtwo/00000062.png', '../data/pokemon/pikachu/00000167.jpg', '../data/pokemon/bulbasaur/00000082.png', '../data/pokemon/mewtwo/00000159.jpg', '../data/pokemon/mewtwo/00000101.jpg', '../data/pokemon/squirtle/00000030.jpg', '../data/pokemon/bulbasaur/00000169.png', '../data/pokemon/mewtwo/00000133.jpg', '../data/pokemon/bulbasaur/00000158.png', '../data/pokemon/mewtwo/00000119.png', '../data/pokemon/pikachu/00000047.jpg', '../data/pokemon/pikachu/00000108.png', '../data/pokemon/mewtwo/00000165.jpg', '../data/pokemon/mewtwo/00000112.png', '../data/pokemon/mewtwo/00000099.jpg', '../data/pokemon/mewtwo/00000166.png', '../data/pokemon/squirtle/00000123.jpg', '../data/pokemon/squirtle/00000168.jpg', '../data/pokemon/pikachu/00000135.png', '../data/pokemon/squirtle/00000100.png', '../data/pokemon/bulbasaur/00000031.png', '../data/pokemon/mewtwo/00000232.jpg', '../data/pokemon/bulbasaur/00000236.jpg', '../data/pokemon/pikachu/00000045.png', '../data/pokemon/mewtwo/00000188.png', '../data/pokemon/bulbasaur/00000129.jpg', '../data/pokemon/charmander/00000003.png', '../data/pokemon/squirtle/00000015.png', '../data/pokemon/mewtwo/00000138.png', '../data/pokemon/pikachu/00000166.jpg', '../data/pokemon/pikachu/00000095.jpg', '../data/pokemon/squirtle/00000177.jpg', '../data/pokemon/squirtle/00000221.jpg', '../data/pokemon/charmander/00000185.png', '../data/pokemon/charmander/00000058.png', '../data/pokemon/squirtle/00000009.png', '../data/pokemon/charmander/00000051.jpg', '../data/pokemon/mewtwo/00000046.png', '../data/pokemon/mewtwo/00000114.jpg', '../data/pokemon/bulbasaur/00000005.png', '../data/pokemon/pikachu/00000158.png', '../data/pokemon/bulbasaur/00000063.png', '../data/pokemon/bulbasaur/00000154.jpg', '../data/pokemon/mewtwo/00000002.jpg', '../data/pokemon/squirtle/00000102.jpg', '../data/pokemon/bulbasaur/00000174.jpg', '../data/pokemon/bulbasaur/00000208.png', '../data/pokemon/squirtle/00000211.png', '../data/pokemon/bulbasaur/00000163.png', '../data/pokemon/squirtle/00000219.png', '../data/pokemon/squirtle/00000203.jpg', '../data/pokemon/mewtwo/00000102.jpg', '../data/pokemon/mewtwo/00000029.jpg', '../data/pokemon/bulbasaur/00000120.png', '../data/pokemon/mewtwo/00000150.jpg', '../data/pokemon/charmander/00000147.jpg', '../data/pokemon/squirtle/00000042.png', '../data/pokemon/mewtwo/00000144.png', '../data/pokemon/bulbasaur/00000134.jpg', '../data/pokemon/pikachu/00000081.jpg', '../data/pokemon/pikachu/00000079.jpg', '../data/pokemon/squirtle/00000061.png', '../data/pokemon/pikachu/00000187.jpg', '../data/pokemon/charmander/00000075.png', '../data/pokemon/pikachu/00000235.jpg', '../data/pokemon/bulbasaur/00000018.jpg', '../data/pokemon/bulbasaur/00000200.jpg', '../data/pokemon/mewtwo/00000155.jpg', '../data/pokemon/squirtle/00000047.jpg', '../data/pokemon/squirtle/00000189.jpg', '../data/pokemon/pikachu/00000032.jpg', '../data/pokemon/mewtwo/00000154.png', '../data/pokemon/pikachu/00000174.jpg', '../data/pokemon/charmander/00000192.png', '../data/pokemon/bulbasaur/00000072.png', '../data/pokemon/mewtwo/00000215.jpg', '../data/pokemon/bulbasaur/00000038.jpg', '../data/pokemon/charmander/00000024.jpg', '../data/pokemon/mewtwo/00000034.png', '../data/pokemon/bulbasaur/00000037.jpg', '../data/pokemon/squirtle/00000136.png', '../data/pokemon/bulbasaur/00000213.jpg', '../data/pokemon/pikachu/00000117.png', '../data/pokemon/squirtle/00000116.jpg', '../data/pokemon/charmander/00000164.jpg', '../data/pokemon/charmander/00000048.png', '../data/pokemon/mewtwo/00000190.jpg', '../data/pokemon/charmander/00000007.jpg', '../data/pokemon/mewtwo/00000126.jpg', '../data/pokemon/mewtwo/00000194.jpg', '../data/pokemon/charmander/00000057.png', '../data/pokemon/bulbasaur/00000009.png', '../data/pokemon/bulbasaur/00000197.jpg', '../data/pokemon/pikachu/00000121.png', '../data/pokemon/charmander/00000008.png', '../data/pokemon/bulbasaur/00000170.png', '../data/pokemon/bulbasaur/00000109.png', '../data/pokemon/mewtwo/00000030.png', '../data/pokemon/bulbasaur/00000062.jpg', '../data/pokemon/bulbasaur/00000232.jpg', '../data/pokemon/bulbasaur/00000101.png', '../data/pokemon/mewtwo/00000053.png', '../data/pokemon/pikachu/00000192.jpg', '../data/pokemon/mewtwo/00000111.png', '../data/pokemon/pikachu/00000230.png', '../data/pokemon/bulbasaur/00000190.png', '../data/pokemon/bulbasaur/00000025.jpg', '../data/pokemon/mewtwo/00000161.jpg', '../data/pokemon/bulbasaur/00000135.jpg', '../data/pokemon/pikachu/00000113.jpg', '../data/pokemon/charmander/00000001.jpg', '../data/pokemon/squirtle/00000050.png', '../data/pokemon/squirtle/00000078.png', '../data/pokemon/pikachu/00000130.jpg', '../data/pokemon/charmander/00000165.jpg', '../data/pokemon/mewtwo/00000001.jpg', '../data/pokemon/bulbasaur/00000233.jpg', '../data/pokemon/bulbasaur/00000214.jpg', '../data/pokemon/pikachu/00000052.png', '../data/pokemon/charmander/00000030.png', '../data/pokemon/squirtle/00000200.jpg', '../data/pokemon/squirtle/00000217.jpg', '../data/pokemon/mewtwo/00000063.jpg', '../data/pokemon/pikachu/00000065.jpg', '../data/pokemon/squirtle/00000121.jpg', '../data/pokemon/pikachu/00000211.png', '../data/pokemon/pikachu/00000128.png', '../data/pokemon/mewtwo/00000092.png', '../data/pokemon/mewtwo/00000233.png', '../data/pokemon/mewtwo/00000212.png', '../data/pokemon/mewtwo/00000014.png', '../data/pokemon/bulbasaur/00000023.jpg', '../data/pokemon/squirtle/00000105.png', '../data/pokemon/bulbasaur/00000036.png', '../data/pokemon/squirtle/00000130.jpg', '../data/pokemon/bulbasaur/00000178.jpg', '../data/pokemon/squirtle/00000023.png', '../data/pokemon/bulbasaur/00000104.png', '../data/pokemon/bulbasaur/00000164.jpg', '../data/pokemon/charmander/00000214.jpg', '../data/pokemon/mewtwo/00000231.png', '../data/pokemon/charmander/00000133.png', '../data/pokemon/mewtwo/00000131.jpg', '../data/pokemon/bulbasaur/00000146.jpg', '../data/pokemon/pikachu/00000190.png', '../data/pokemon/mewtwo/00000236.jpg', '../data/pokemon/bulbasaur/00000192.jpg', '../data/pokemon/squirtle/00000114.png', '../data/pokemon/pikachu/00000184.jpg', '../data/pokemon/bulbasaur/00000119.jpg', '../data/pokemon/squirtle/00000072.jpg', '../data/pokemon/pikachu/00000186.png', '../data/pokemon/pikachu/00000026.png', '../data/pokemon/mewtwo/00000093.jpg', '../data/pokemon/pikachu/00000189.jpg', '../data/pokemon/charmander/00000134.jpg', '../data/pokemon/charmander/00000005.png', '../data/pokemon/pikachu/00000188.jpg', '../data/pokemon/pikachu/00000007.jpg', '../data/pokemon/mewtwo/00000185.png', '../data/pokemon/charmander/00000226.jpg', '../data/pokemon/charmander/00000126.jpg', '../data/pokemon/squirtle/00000167.jpg', '../data/pokemon/charmander/00000171.jpg', '../data/pokemon/bulbasaur/00000035.jpg', '../data/pokemon/bulbasaur/00000094.jpg', '../data/pokemon/charmander/00000215.jpg', '../data/pokemon/pikachu/00000148.png', '../data/pokemon/charmander/00000186.jpg', '../data/pokemon/bulbasaur/00000159.jpg', '../data/pokemon/mewtwo/00000181.png', '../data/pokemon/bulbasaur/00000184.jpg', '../data/pokemon/bulbasaur/00000201.png', '../data/pokemon/squirtle/00000046.jpg', '../data/pokemon/charmander/00000197.jpg', '../data/pokemon/charmander/00000169.jpg', '../data/pokemon/charmander/00000112.jpg', '../data/pokemon/squirtle/00000096.jpg', '../data/pokemon/pikachu/00000227.jpg', '../data/pokemon/squirtle/00000193.jpg', '../data/pokemon/bulbasaur/00000238.jpg', '../data/pokemon/pikachu/00000132.jpg', '../data/pokemon/pikachu/00000039.jpg', '../data/pokemon/bulbasaur/00000117.png', '../data/pokemon/bulbasaur/00000112.png', '../data/pokemon/bulbasaur/00000215.png', '../data/pokemon/charmander/00000087.jpg', '../data/pokemon/charmander/00000219.png', '../data/pokemon/charmander/00000190.jpg', '../data/pokemon/mewtwo/00000217.png', '../data/pokemon/mewtwo/00000019.jpg', '../data/pokemon/squirtle/00000186.png', '../data/pokemon/bulbasaur/00000107.png', '../data/pokemon/charmander/00000178.png', '../data/pokemon/charmander/00000097.jpg', '../data/pokemon/bulbasaur/00000151.png', '../data/pokemon/squirtle/00000228.jpg', '../data/pokemon/charmander/00000021.png', '../data/pokemon/charmander/00000109.jpg', '../data/pokemon/pikachu/00000037.jpg', '../data/pokemon/squirtle/00000135.png', '../data/pokemon/charmander/00000074.jpg', '../data/pokemon/pikachu/00000204.png', '../data/pokemon/charmander/00000217.png', '../data/pokemon/pikachu/00000209.jpg', '../data/pokemon/pikachu/00000142.jpg', '../data/pokemon/mewtwo/00000090.jpg', '../data/pokemon/squirtle/00000021.png', '../data/pokemon/mewtwo/00000148.png', '../data/pokemon/pikachu/00000056.jpg', '../data/pokemon/charmander/00000167.jpg', '../data/pokemon/mewtwo/00000044.png', '../data/pokemon/bulbasaur/00000045.png', '../data/pokemon/charmander/00000170.jpg', '../data/pokemon/pikachu/00000202.jpg', '../data/pokemon/pikachu/00000044.jpg', '../data/pokemon/squirtle/00000131.jpg', '../data/pokemon/mewtwo/00000096.jpg', '../data/pokemon/mewtwo/00000007.jpg', '../data/pokemon/pikachu/00000082.jpg', '../data/pokemon/pikachu/00000086.jpg', '../data/pokemon/mewtwo/00000079.jpg', '../data/pokemon/mewtwo/00000206.png', '../data/pokemon/mewtwo/00000060.jpg', '../data/pokemon/mewtwo/00000081.png', '../data/pokemon/squirtle/00000104.png', '../data/pokemon/pikachu/00000225.jpg', '../data/pokemon/pikachu/00000090.jpg', '../data/pokemon/mewtwo/00000087.jpg', '../data/pokemon/mewtwo/00000160.png', '../data/pokemon/charmander/00000213.jpg', '../data/pokemon/squirtle/00000108.jpg', '../data/pokemon/pikachu/00000027.jpg', '../data/pokemon/bulbasaur/00000147.png', '../data/pokemon/bulbasaur/00000237.png', '../data/pokemon/squirtle/00000126.jpg', '../data/pokemon/bulbasaur/00000111.jpg', '../data/pokemon/charmander/00000016.png', '../data/pokemon/mewtwo/00000127.jpg', '../data/pokemon/pikachu/00000078.png', '../data/pokemon/pikachu/00000069.png', '../data/pokemon/mewtwo/00000103.png', '../data/pokemon/squirtle/00000146.png', '../data/pokemon/pikachu/00000070.png', '../data/pokemon/mewtwo/00000086.jpg', '../data/pokemon/bulbasaur/00000189.png', '../data/pokemon/bulbasaur/00000188.png', '../data/pokemon/mewtwo/00000051.png', '../data/pokemon/squirtle/00000092.jpg', '../data/pokemon/bulbasaur/00000179.jpg', '../data/pokemon/squirtle/00000071.jpg', '../data/pokemon/mewtwo/00000237.png', '../data/pokemon/charmander/00000124.jpg', '../data/pokemon/bulbasaur/00000155.jpg', '../data/pokemon/pikachu/00000149.png', '../data/pokemon/bulbasaur/00000123.jpg', '../data/pokemon/mewtwo/00000199.jpg', '../data/pokemon/squirtle/00000074.jpg', '../data/pokemon/pikachu/00000092.jpg', '../data/pokemon/pikachu/00000109.png', '../data/pokemon/pikachu/00000046.jpg', '../data/pokemon/squirtle/00000107.jpg', '../data/pokemon/squirtle/00000044.png', '../data/pokemon/mewtwo/00000061.jpg', '../data/pokemon/pikachu/00000096.jpg', '../data/pokemon/charmander/00000088.jpg', '../data/pokemon/charmander/00000073.png', '../data/pokemon/pikachu/00000172.jpg', '../data/pokemon/bulbasaur/00000148.png', '../data/pokemon/squirtle/00000093.png', '../data/pokemon/squirtle/00000004.png', '../data/pokemon/bulbasaur/00000224.png', '../data/pokemon/charmander/00000238.png', '../data/pokemon/mewtwo/00000105.jpg', '../data/pokemon/squirtle/00000012.png', '../data/pokemon/charmander/00000006.png', '../data/pokemon/mewtwo/00000191.jpg', '../data/pokemon/charmander/00000037.jpg', '../data/pokemon/squirtle/00000054.jpg', '../data/pokemon/charmander/00000000.png', '../data/pokemon/mewtwo/00000041.png', '../data/pokemon/bulbasaur/00000157.png', '../data/pokemon/pikachu/00000229.jpg', '../data/pokemon/squirtle/00000161.jpg', '../data/pokemon/bulbasaur/00000093.png', '../data/pokemon/mewtwo/00000057.png', '../data/pokemon/charmander/00000158.jpg', '../data/pokemon/bulbasaur/00000060.png', '../data/pokemon/bulbasaur/00000137.jpg', '../data/pokemon/charmander/00000110.png', '../data/pokemon/charmander/00000065.jpg', '../data/pokemon/bulbasaur/00000183.jpg', '../data/pokemon/mewtwo/00000066.jpg', '../data/pokemon/mewtwo/00000008.png', '../data/pokemon/bulbasaur/00000056.jpg', '../data/pokemon/squirtle/00000086.png', '../data/pokemon/mewtwo/00000130.jpg', '../data/pokemon/charmander/00000205.jpg', '../data/pokemon/mewtwo/00000213.jpg', '../data/pokemon/pikachu/00000171.png', '../data/pokemon/bulbasaur/00000050.jpg', '../data/pokemon/pikachu/00000029.jpg', '../data/pokemon/mewtwo/00000000.jpg', '../data/pokemon/pikachu/00000048.jpg', '../data/pokemon/charmander/00000119.jpg', '../data/pokemon/bulbasaur/00000203.png', '../data/pokemon/mewtwo/00000224.jpg', '../data/pokemon/bulbasaur/00000080.jpg', '../data/pokemon/pikachu/00000017.jpg', '../data/pokemon/mewtwo/00000139.jpg', '../data/pokemon/squirtle/00000066.png', '../data/pokemon/pikachu/00000145.jpg', '../data/pokemon/squirtle/00000035.jpg', '../data/pokemon/charmander/00000236.jpg', '../data/pokemon/bulbasaur/00000162.png', '../data/pokemon/squirtle/00000076.png', '../data/pokemon/pikachu/00000006.png', '../data/pokemon/mewtwo/00000167.jpg', '../data/pokemon/squirtle/00000139.jpg', '../data/pokemon/bulbasaur/00000239.jpg', '../data/pokemon/squirtle/00000173.jpg', '../data/pokemon/squirtle/00000124.jpg', '../data/pokemon/bulbasaur/00000039.jpg', '../data/pokemon/bulbasaur/00000168.jpg', '../data/pokemon/mewtwo/00000011.jpg', '../data/pokemon/pikachu/00000064.jpg', '../data/pokemon/mewtwo/00000230.jpg', '../data/pokemon/mewtwo/00000084.png', '../data/pokemon/pikachu/00000030.jpg', '../data/pokemon/mewtwo/00000018.jpg', '../data/pokemon/squirtle/00000117.png', '../data/pokemon/pikachu/00000023.png', '../data/pokemon/squirtle/00000154.jpg', '../data/pokemon/squirtle/00000215.jpg', '../data/pokemon/mewtwo/00000220.png', '../data/pokemon/pikachu/00000093.png', '../data/pokemon/mewtwo/00000234.jpg', '../data/pokemon/squirtle/00000112.jpg', '../data/pokemon/charmander/00000092.jpg', '../data/pokemon/squirtle/00000172.png', '../data/pokemon/pikachu/00000146.jpg', '../data/pokemon/charmander/00000028.png', '../data/pokemon/pikachu/00000134.jpg', '../data/pokemon/squirtle/00000024.png', '../data/pokemon/squirtle/00000098.png', '../data/pokemon/charmander/00000027.png', '../data/pokemon/squirtle/00000010.png', '../data/pokemon/bulbasaur/00000152.jpg', '../data/pokemon/charmander/00000181.jpg', '../data/pokemon/pikachu/00000218.png', '../data/pokemon/bulbasaur/00000084.jpg', '../data/pokemon/squirtle/00000019.jpg', '../data/pokemon/charmander/00000052.jpg', '../data/pokemon/charmander/00000117.jpg', '../data/pokemon/bulbasaur/00000223.jpg', '../data/pokemon/squirtle/00000069.png', '../data/pokemon/pikachu/00000169.png', '../data/pokemon/mewtwo/00000147.png', '../data/pokemon/bulbasaur/00000131.jpg', '../data/pokemon/bulbasaur/00000144.jpg', '../data/pokemon/pikachu/00000197.jpg', '../data/pokemon/pikachu/00000028.jpg', '../data/pokemon/mewtwo/00000202.png', '../data/pokemon/bulbasaur/00000052.jpg', '../data/pokemon/charmander/00000077.png', '../data/pokemon/squirtle/00000180.jpg', '../data/pokemon/mewtwo/00000038.png', '../data/pokemon/squirtle/00000138.png', '../data/pokemon/bulbasaur/00000193.jpg', '../data/pokemon/mewtwo/00000116.png', '../data/pokemon/bulbasaur/00000044.jpg', '../data/pokemon/charmander/00000084.jpg', '../data/pokemon/squirtle/00000201.png', '../data/pokemon/bulbasaur/00000054.png', '../data/pokemon/squirtle/00000127.jpg', '../data/pokemon/squirtle/00000223.jpg', '../data/pokemon/squirtle/00000204.jpg', '../data/pokemon/squirtle/00000144.png', '../data/pokemon/charmander/00000227.jpg', '../data/pokemon/pikachu/00000021.png', '../data/pokemon/charmander/00000206.jpg', '../data/pokemon/pikachu/00000165.jpg', '../data/pokemon/charmander/00000142.png', '../data/pokemon/pikachu/00000215.png', '../data/pokemon/mewtwo/00000022.png', '../data/pokemon/squirtle/00000155.jpg', '../data/pokemon/charmander/00000062.png', '../data/pokemon/bulbasaur/00000173.png', '../data/pokemon/charmander/00000137.png', '../data/pokemon/pikachu/00000173.jpg', '../data/pokemon/mewtwo/00000054.png', '../data/pokemon/pikachu/00000068.png', '../data/pokemon/charmander/00000153.jpg', '../data/pokemon/pikachu/00000141.png', '../data/pokemon/squirtle/00000162.jpg', '../data/pokemon/charmander/00000080.png', '../data/pokemon/charmander/00000121.jpg', '../data/pokemon/pikachu/00000008.jpg', '../data/pokemon/squirtle/00000222.png', '../data/pokemon/pikachu/00000176.jpg', '../data/pokemon/bulbasaur/00000074.png', '../data/pokemon/bulbasaur/00000228.png', '../data/pokemon/pikachu/00000002.png', '../data/pokemon/squirtle/00000045.jpg', '../data/pokemon/bulbasaur/00000014.png', '../data/pokemon/pikachu/00000100.jpg', '../data/pokemon/charmander/00000123.jpg', '../data/pokemon/charmander/00000202.jpg', '../data/pokemon/squirtle/00000077.jpg', '../data/pokemon/bulbasaur/00000042.jpg', '../data/pokemon/mewtwo/00000082.png', '../data/pokemon/charmander/00000180.jpg', '../data/pokemon/mewtwo/00000192.jpg', '../data/pokemon/squirtle/00000141.jpg', '../data/pokemon/squirtle/00000090.jpg', '../data/pokemon/mewtwo/00000059.jpg', '../data/pokemon/squirtle/00000000.png', '../data/pokemon/mewtwo/00000037.png', '../data/pokemon/mewtwo/00000009.png', '../data/pokemon/charmander/00000014.jpg', '../data/pokemon/bulbasaur/00000091.png', '../data/pokemon/bulbasaur/00000212.png', '../data/pokemon/pikachu/00000000.jpg', '../data/pokemon/bulbasaur/00000165.jpg', '../data/pokemon/squirtle/00000224.jpg', '../data/pokemon/bulbasaur/00000030.jpg', '../data/pokemon/bulbasaur/00000087.png', '../data/pokemon/charmander/00000020.png', '../data/pokemon/squirtle/00000133.png', '../data/pokemon/pikachu/00000164.jpg', '../data/pokemon/pikachu/00000122.jpg', '../data/pokemon/charmander/00000034.jpg', '../data/pokemon/pikachu/00000036.png', '../data/pokemon/bulbasaur/00000049.jpg', '../data/pokemon/mewtwo/00000239.jpg', '../data/pokemon/squirtle/00000198.jpg', '../data/pokemon/squirtle/00000058.png', '../data/pokemon/pikachu/00000001.png', '../data/pokemon/charmander/00000055.png', '../data/pokemon/pikachu/00000073.jpg', '../data/pokemon/bulbasaur/00000225.jpg', '../data/pokemon/squirtle/00000073.png', '../data/pokemon/squirtle/00000043.png', '../data/pokemon/pikachu/00000199.jpg', '../data/pokemon/charmander/00000113.jpg', '../data/pokemon/squirtle/00000051.png', '../data/pokemon/squirtle/00000149.png', '../data/pokemon/charmander/00000035.jpg', '../data/pokemon/squirtle/00000129.png', '../data/pokemon/bulbasaur/00000141.png', '../data/pokemon/pikachu/00000005.png', '../data/pokemon/mewtwo/00000006.jpg', '../data/pokemon/mewtwo/00000163.png', '../data/pokemon/pikachu/00000055.png', '../data/pokemon/charmander/00000111.jpg', '../data/pokemon/mewtwo/00000229.png', '../data/pokemon/squirtle/00000175.jpg', '../data/pokemon/pikachu/00000024.png', '../data/pokemon/pikachu/00000203.jpg', '../data/pokemon/pikachu/00000099.jpg', '../data/pokemon/pikachu/00000221.jpg', '../data/pokemon/bulbasaur/00000097.png', '../data/pokemon/pikachu/00000106.png', '../data/pokemon/squirtle/00000075.jpg', '../data/pokemon/bulbasaur/00000121.png', '../data/pokemon/mewtwo/00000170.jpg', '../data/pokemon/bulbasaur/00000057.jpg', '../data/pokemon/squirtle/00000209.jpg', '../data/pokemon/charmander/00000067.png', '../data/pokemon/charmander/00000156.jpg', '../data/pokemon/pikachu/00000025.png', '../data/pokemon/bulbasaur/00000077.jpg', '../data/pokemon/charmander/00000046.png', '../data/pokemon/mewtwo/00000089.jpg', '../data/pokemon/charmander/00000022.png', '../data/pokemon/mewtwo/00000042.png', '../data/pokemon/bulbasaur/00000010.png', '../data/pokemon/mewtwo/00000017.png', '../data/pokemon/charmander/00000017.png', '../data/pokemon/bulbasaur/00000166.jpg', '../data/pokemon/charmander/00000039.jpg', '../data/pokemon/squirtle/00000229.jpg', '../data/pokemon/bulbasaur/00000231.jpg', '../data/pokemon/pikachu/00000015.png', '../data/pokemon/pikachu/00000147.jpg', '../data/pokemon/mewtwo/00000040.png', '../data/pokemon/charmander/00000018.png', '../data/pokemon/bulbasaur/00000172.jpg', '../data/pokemon/pikachu/00000038.png', '../data/pokemon/pikachu/00000066.png', '../data/pokemon/squirtle/00000013.jpg', '../data/pokemon/bulbasaur/00000219.jpg', '../data/pokemon/charmander/00000082.png', '../data/pokemon/charmander/00000069.png', '../data/pokemon/squirtle/00000115.jpg', '../data/pokemon/mewtwo/00000136.png', '../data/pokemon/squirtle/00000111.jpg', '../data/pokemon/bulbasaur/00000206.jpg', '../data/pokemon/squirtle/00000210.png', '../data/pokemon/squirtle/00000213.png', '../data/pokemon/squirtle/00000031.png', '../data/pokemon/squirtle/00000191.jpg', '../data/pokemon/mewtwo/00000121.png', '../data/pokemon/bulbasaur/00000089.png', '../data/pokemon/pikachu/00000115.jpg', '../data/pokemon/pikachu/00000118.jpg', '../data/pokemon/bulbasaur/00000181.jpg', '../data/pokemon/squirtle/00000048.jpg', '../data/pokemon/charmander/00000098.jpg', '../data/pokemon/charmander/00000059.jpg', '../data/pokemon/pikachu/00000168.png', '../data/pokemon/pikachu/00000180.jpg', '../data/pokemon/charmander/00000031.png', '../data/pokemon/squirtle/00000089.png', '../data/pokemon/mewtwo/00000203.jpg', '../data/pokemon/squirtle/00000017.png', '../data/pokemon/mewtwo/00000182.png', '../data/pokemon/charmander/00000177.jpg', '../data/pokemon/mewtwo/00000043.png', '../data/pokemon/charmander/00000093.jpg']\n",
      "labels 699 [1, 0, 1, 3, 3, 0, 4, 2, 1, 0, 2, 0, 3, 0, 4, 1, 1, 0, 0, 1, 0, 3, 2, 0, 0, 1, 0, 0, 0, 3, 4, 1, 0, 0, 4, 4, 0, 2, 3, 2, 1, 3, 2, 3, 4, 2, 2, 0, 4, 3, 1, 0, 3, 0, 4, 2, 0, 4, 0, 1, 3, 1, 0, 2, 1, 1, 0, 4, 2, 4, 2, 1, 2, 0, 2, 4, 1, 2, 1, 2, 1, 0, 1, 3, 3, 2, 2, 3, 2, 4, 3, 0, 0, 3, 3, 2, 1, 4, 2, 0, 3, 1, 0, 0, 3, 2, 0, 0, 1, 3, 1, 2, 2, 1, 1, 1, 2, 3, 2, 1, 3, 2, 2, 2, 4, 2, 0, 1, 4, 2, 0, 4, 2, 4, 1, 2, 1, 4, 4, 2, 3, 3, 3, 0, 1, 0, 4, 1, 3, 4, 0, 2, 4, 0, 1, 2, 0, 3, 1, 3, 4, 2, 2, 1, 3, 4, 1, 3, 1, 3, 4, 4, 2, 4, 3, 4, 4, 0, 0, 2, 3, 0, 2, 2, 4, 0, 2, 0, 2, 3, 3, 2, 2, 2, 2, 4, 4, 3, 4, 0, 2, 0, 3, 2, 0, 1, 4, 2, 3, 3, 4, 4, 1, 1, 4, 1, 2, 2, 0, 3, 0, 0, 2, 4, 0, 0, 4, 0, 4, 4, 2, 2, 0, 2, 1, 4, 2, 0, 3, 3, 4, 3, 1, 3, 0, 0, 2, 4, 4, 3, 2, 3, 1, 0, 2, 0, 1, 2, 0, 4, 0, 3, 4, 1, 1, 2, 1, 2, 2, 1, 0, 0, 3, 1, 0, 0, 2, 0, 0, 0, 2, 3, 2, 3, 0, 0, 2, 0, 3, 1, 4, 4, 3, 1, 2, 0, 0, 3, 1, 4, 4, 2, 3, 4, 3, 3, 2, 2, 2, 2, 0, 4, 0, 4, 0, 4, 0, 0, 1, 2, 1, 2, 0, 3, 2, 0, 4, 3, 0, 4, 3, 3, 2, 3, 1, 1, 3, 3, 2, 1, 1, 4, 1, 0, 0, 1, 3, 1, 0, 2, 0, 0, 4, 1, 1, 1, 4, 3, 4, 0, 3, 3, 0, 0, 0, 1, 1, 1, 2, 2, 4, 0, 1, 1, 0, 4, 1, 1, 3, 4, 1, 3, 1, 3, 3, 2, 4, 2, 3, 1, 2, 0, 1, 3, 3, 4, 2, 2, 3, 3, 2, 2, 2, 2, 4, 3, 3, 2, 2, 1, 4, 3, 0, 0, 4, 0, 1, 2, 3, 3, 2, 4, 3, 2, 0, 0, 2, 4, 0, 4, 2, 1, 0, 3, 0, 2, 4, 3, 3, 3, 4, 4, 2, 3, 1, 1, 3, 0, 4, 4, 0, 1, 2, 4, 1, 2, 1, 4, 1, 2, 0, 3, 4, 0, 2, 1, 0, 0, 1, 1, 0, 2, 2, 0, 4, 2, 1, 2, 3, 0, 3, 2, 3, 1, 0, 2, 0, 3, 2, 4, 3, 4, 1, 0, 4, 3, 2, 4, 0, 4, 4, 0, 0, 2, 3, 2, 2, 3, 2, 4, 3, 4, 4, 2, 3, 2, 4, 1, 4, 3, 1, 3, 4, 4, 1, 4, 0, 1, 3, 0, 4, 1, 1, 0, 4, 3, 2, 0, 0, 3, 3, 2, 0, 1, 4, 2, 4, 0, 2, 0, 1, 4, 0, 4, 4, 4, 4, 1, 3, 1, 3, 1, 3, 2, 4, 1, 0, 1, 3, 2, 3, 1, 3, 4, 1, 1, 3, 4, 3, 0, 0, 3, 4, 0, 3, 1, 1, 4, 0, 2, 1, 2, 4, 4, 2, 4, 2, 2, 1, 0, 0, 3, 0, 4, 0, 0, 1, 4, 3, 3, 1, 3, 0, 2, 4, 4, 3, 1, 3, 0, 4, 4, 3, 1, 4, 4, 1, 4, 0, 3, 2, 2, 3, 1, 2, 4, 3, 3, 3, 3, 0, 3, 4, 0, 2, 0, 4, 1, 1, 3, 0, 1, 2, 1, 2, 0, 2, 1, 0, 1, 4, 0, 3, 3, 2, 1, 0, 3, 3, 4, 0, 1, 1, 4, 2, 4, 0, 4, 4, 4, 4, 2, 0, 3, 3, 0, 4, 1, 1, 3, 3, 1, 4, 2, 4, 2, 1, 2, 1]\n"
     ]
    }
   ],
   "source": [
    "# 1.加载自定义数据集\n",
    "images, labels, table = load_pokemon('../data/pokemon', 'train')\n",
    "print('images', len(images), images)\n",
    "print('labels', len(labels), labels)"
   ]
  },
  {
   "cell_type": "code",
   "execution_count": 10,
   "id": "9ebb1d99-dd67-47e8-91c8-bd25391dbd75",
   "metadata": {},
   "outputs": [
    {
     "name": "stdout",
     "output_type": "stream",
     "text": [
      "{'bulbasaur': 0, 'charmander': 1, 'mewtwo': 2, 'pikachu': 3, 'squirtle': 4}\n"
     ]
    }
   ],
   "source": [
    "print(table)"
   ]
  },
  {
   "cell_type": "code",
   "execution_count": 11,
   "id": "e9e6ae1c-3664-476a-945b-2228088b5595",
   "metadata": {},
   "outputs": [],
   "source": [
    "db = tf.data.Dataset.from_tensor_slices((images, labels))  # images: string path， labels: number\n",
    "db = db.shuffle(1000).map(preprocess,num_parallel_calls=tf.data.experimental.AUTOTUNE).batch(32).repeat(20)"
   ]
  },
  {
   "cell_type": "code",
   "execution_count": 15,
   "id": "625ca6e7-3500-4478-9658-269f851ca13f",
   "metadata": {
    "scrolled": true
   },
   "outputs": [
    {
     "name": "stdout",
     "output_type": "stream",
     "text": [
      "Model: \"sequential_3\"\n",
      "_________________________________________________________________\n",
      " Layer (type)                Output Shape              Param #   \n",
      "=================================================================\n",
      " conv2d_15 (Conv2D)          (32, 54, 54, 48)          17472     \n",
      "                                                                 \n",
      " max_pooling2d_9 (MaxPoolin  (32, 26, 26, 48)          0         \n",
      " g2D)                                                            \n",
      "                                                                 \n",
      " conv2d_16 (Conv2D)          (32, 22, 22, 128)         153728    \n",
      "                                                                 \n",
      " max_pooling2d_10 (MaxPooli  (32, 10, 10, 128)         0         \n",
      " ng2D)                                                           \n",
      "                                                                 \n",
      " conv2d_17 (Conv2D)          (32, 8, 8, 192)           221376    \n",
      "                                                                 \n",
      " conv2d_18 (Conv2D)          (32, 6, 6, 192)           331968    \n",
      "                                                                 \n",
      " conv2d_19 (Conv2D)          (32, 4, 4, 128)           221312    \n",
      "                                                                 \n",
      " max_pooling2d_11 (MaxPooli  (32, 1, 1, 128)           0         \n",
      " ng2D)                                                           \n",
      "                                                                 \n",
      " flatten_3 (Flatten)         (32, 128)                 0         \n",
      "                                                                 \n",
      " dense_9 (Dense)             (32, 1024)                132096    \n",
      "                                                                 \n",
      " dropout_6 (Dropout)         (32, 1024)                0         \n",
      "                                                                 \n",
      " dense_10 (Dense)            (32, 128)                 131200    \n",
      "                                                                 \n",
      " dropout_7 (Dropout)         (32, 128)                 0         \n",
      "                                                                 \n",
      " dense_11 (Dense)            (32, 5)                   645       \n",
      "                                                                 \n",
      "=================================================================\n",
      "Total params: 1209797 (4.62 MB)\n",
      "Trainable params: 1209797 (4.62 MB)\n",
      "Non-trainable params: 0 (0.00 Byte)\n",
      "_________________________________________________________________\n"
     ]
    }
   ],
   "source": [
    "# 2.网络搭建\n",
    "network = Sequential([\n",
    "    # 第一层\n",
    "    layers.Conv2D(48, kernel_size=11, strides=4, activation='relu'),  # 55*55*48\n",
    "    layers.MaxPooling2D(pool_size=3, strides=2),  # 27*27*48\n",
    "    # 第二层\n",
    "    layers.Conv2D(128, kernel_size=5, strides=1, activation='relu'),  # 27*27*128\n",
    "    layers.MaxPooling2D(pool_size=3, strides=2),  # 13*13*128\n",
    "    # 第三层\n",
    "    layers.Conv2D(192, kernel_size=3, strides=1, activation='relu'),  # 13*13*192\n",
    "    # 第四层\n",
    "    layers.Conv2D(192, kernel_size=3, strides=1, activation='relu'),  # 13*13*192\n",
    "    # 第五层\n",
    "    layers.Conv2D(128, kernel_size=3, strides=1, activation='relu'),  # 13*13*128\n",
    "    layers.MaxPooling2D(pool_size=3, strides=2),  # 6*6*128\n",
    "    layers.Flatten(),  # 6*6*128=4608\n",
    "    # 第六层\n",
    "    layers.Dense(1024, activation='relu'),\n",
    "    layers.Dropout(rate=0.5),\n",
    "    # 第七层\n",
    "    layers.Dense(128, activation='relu'),\n",
    "    layers.Dropout(rate=0.5),\n",
    "    # 第八层（输出层）\n",
    "    layers.Dense(5)\n",
    "])\n",
    "network.build(input_shape=(32, 224, 224, 3))  # 设置输入格式\n",
    "network.summary()"
   ]
  },
  {
   "cell_type": "code",
   "execution_count": 16,
   "id": "6a06768c-4ec0-4d50-a48a-523eb370fef4",
   "metadata": {
    "scrolled": true
   },
   "outputs": [
    {
     "name": "stderr",
     "output_type": "stream",
     "text": [
      "WARNING:absl:`lr` is deprecated in Keras optimizer, please use `learning_rate` or use the legacy optimizer, e.g.,tf.keras.optimizers.legacy.SGD.\n",
      "2023-09-21 17:04:23.067823: W tensorflow/core/lib/png/png_io.cc:88] PNG warning: iCCP: known incorrect sRGB profile\n",
      "2023-09-21 17:04:23.068020: W tensorflow/core/lib/png/png_io.cc:88] PNG warning: iCCP: cHRM chunk does not match sRGB\n",
      "2023-09-21 17:04:24.347302: W tensorflow/core/lib/png/png_io.cc:88] PNG warning: iCCP: known incorrect sRGB profile\n",
      "2023-09-21 17:04:24.445181: W tensorflow/core/lib/png/png_io.cc:88] PNG warning: iCCP: known incorrect sRGB profile\n",
      "2023-09-21 17:04:24.658671: W tensorflow/core/lib/png/png_io.cc:88] PNG warning: iCCP: known incorrect sRGB profile\n",
      "2023-09-21 17:04:24.833730: W tensorflow/core/lib/png/png_io.cc:88] PNG warning: iCCP: known incorrect sRGB profile\n"
     ]
    },
    {
     "name": "stdout",
     "output_type": "stream",
     "text": [
      "Step 0 : Loss is:  0.9263951182365417  Accuracy:  0.125\n"
     ]
    },
    {
     "name": "stderr",
     "output_type": "stream",
     "text": [
      "2023-09-21 17:04:25.648135: W tensorflow/core/lib/png/png_io.cc:88] PNG warning: iCCP: known incorrect sRGB profile\n",
      "2023-09-21 17:04:26.253953: W tensorflow/core/lib/png/png_io.cc:88] PNG warning: iCCP: known incorrect sRGB profile\n",
      "2023-09-21 17:04:26.653965: W tensorflow/core/lib/png/png_io.cc:88] PNG warning: iCCP: known incorrect sRGB profile\n",
      "2023-09-21 17:04:26.804026: W tensorflow/core/lib/png/png_io.cc:88] PNG warning: iCCP: known incorrect sRGB profile\n",
      "2023-09-21 17:04:27.121085: W tensorflow/core/lib/png/png_io.cc:88] PNG warning: iCCP: known incorrect sRGB profile\n",
      "2023-09-21 17:04:27.269255: W tensorflow/core/lib/png/png_io.cc:88] PNG warning: iCCP: known incorrect sRGB profile\n",
      "2023-09-21 17:04:27.337313: W tensorflow/core/lib/png/png_io.cc:88] PNG warning: iCCP: known incorrect sRGB profile\n",
      "2023-09-21 17:04:28.286103: W tensorflow/core/lib/png/png_io.cc:88] PNG warning: iCCP: known incorrect sRGB profile\n",
      "2023-09-21 17:04:28.766867: W tensorflow/core/lib/png/png_io.cc:88] PNG warning: iCCP: too many profiles\n",
      "2023-09-21 17:04:30.331312: W tensorflow/core/lib/png/png_io.cc:88] PNG warning: iCCP: known incorrect sRGB profile\n",
      "2023-09-21 17:04:31.360787: W tensorflow/core/lib/png/png_io.cc:88] PNG warning: iCCP: known incorrect sRGB profile\n",
      "2023-09-21 17:04:31.482668: W tensorflow/core/lib/png/png_io.cc:88] PNG warning: iCCP: known incorrect sRGB profile\n",
      "2023-09-21 17:04:31.913805: W tensorflow/core/lib/png/png_io.cc:88] PNG warning: iCCP: known incorrect sRGB profile\n",
      "2023-09-21 17:04:32.085988: W tensorflow/core/lib/png/png_io.cc:88] PNG warning: iCCP: known incorrect sRGB profile\n",
      "2023-09-21 17:04:32.089920: W tensorflow/core/lib/png/png_io.cc:88] PNG warning: iCCP: known incorrect sRGB profile\n"
     ]
    },
    {
     "name": "stdout",
     "output_type": "stream",
     "text": [
      "Step 10 : Loss is:  0.7525119781494141  Accuracy:  0.296875\n"
     ]
    },
    {
     "name": "stderr",
     "output_type": "stream",
     "text": [
      "2023-09-21 17:04:34.575987: W tensorflow/core/lib/png/png_io.cc:88] PNG warning: iCCP: known incorrect sRGB profile\n",
      "2023-09-21 17:04:34.973989: W tensorflow/core/lib/png/png_io.cc:88] PNG warning: iCCP: known incorrect sRGB profile\n",
      "2023-09-21 17:04:35.887205: W tensorflow/core/lib/png/png_io.cc:88] PNG warning: iCCP: known incorrect sRGB profile\n",
      "2023-09-21 17:04:36.467000: W tensorflow/core/lib/png/png_io.cc:88] PNG warning: iCCP: known incorrect sRGB profile\n",
      "2023-09-21 17:04:36.467263: W tensorflow/core/lib/png/png_io.cc:88] PNG warning: iCCP: cHRM chunk does not match sRGB\n",
      "2023-09-21 17:04:36.821089: W tensorflow/core/lib/png/png_io.cc:88] PNG warning: iCCP: known incorrect sRGB profile\n",
      "2023-09-21 17:04:37.387953: W tensorflow/core/lib/png/png_io.cc:88] PNG warning: iCCP: known incorrect sRGB profile\n",
      "2023-09-21 17:04:37.392418: W tensorflow/core/lib/png/png_io.cc:88] PNG warning: iCCP: known incorrect sRGB profile\n",
      "2023-09-21 17:04:37.536641: W tensorflow/core/lib/png/png_io.cc:88] PNG warning: iCCP: known incorrect sRGB profile\n"
     ]
    },
    {
     "name": "stdout",
     "output_type": "stream",
     "text": [
      "Step 20 : Loss is:  0.6861131191253662  Accuracy:  0.390625\n"
     ]
    },
    {
     "name": "stderr",
     "output_type": "stream",
     "text": [
      "2023-09-21 17:04:42.015697: W tensorflow/core/lib/png/png_io.cc:88] PNG warning: iCCP: known incorrect sRGB profile\n",
      "2023-09-21 17:04:43.093642: W tensorflow/core/lib/png/png_io.cc:88] PNG warning: iCCP: known incorrect sRGB profile\n",
      "2023-09-21 17:04:43.153980: W tensorflow/core/lib/png/png_io.cc:88] PNG warning: iCCP: known incorrect sRGB profile\n",
      "2023-09-21 17:04:43.223974: W tensorflow/core/lib/png/png_io.cc:88] PNG warning: iCCP: known incorrect sRGB profile\n",
      "2023-09-21 17:04:43.284817: W tensorflow/core/lib/png/png_io.cc:88] PNG warning: iCCP: known incorrect sRGB profile\n",
      "2023-09-21 17:04:45.162593: W tensorflow/core/lib/png/png_io.cc:88] PNG warning: iCCP: known incorrect sRGB profile\n",
      "2023-09-21 17:04:46.926425: W tensorflow/core/lib/png/png_io.cc:88] PNG warning: iCCP: known incorrect sRGB profile\n",
      "2023-09-21 17:04:47.696067: W tensorflow/core/lib/png/png_io.cc:88] PNG warning: iCCP: known incorrect sRGB profile\n",
      "2023-09-21 17:04:49.245943: W tensorflow/core/lib/png/png_io.cc:88] PNG warning: iCCP: known incorrect sRGB profile\n",
      "2023-09-21 17:04:49.367215: W tensorflow/core/lib/png/png_io.cc:88] PNG warning: iCCP: known incorrect sRGB profile\n"
     ]
    },
    {
     "name": "stdout",
     "output_type": "stream",
     "text": [
      "Step 30 : Loss is:  0.6533771753311157  Accuracy:  0.5777778\n"
     ]
    },
    {
     "name": "stderr",
     "output_type": "stream",
     "text": [
      "2023-09-21 17:04:51.082063: W tensorflow/core/lib/png/png_io.cc:88] PNG warning: iCCP: known incorrect sRGB profile\n",
      "2023-09-21 17:04:51.148502: W tensorflow/core/lib/png/png_io.cc:88] PNG warning: iCCP: known incorrect sRGB profile\n",
      "2023-09-21 17:04:52.330907: W tensorflow/core/lib/png/png_io.cc:88] PNG warning: iCCP: known incorrect sRGB profile\n",
      "2023-09-21 17:04:53.311624: W tensorflow/core/lib/png/png_io.cc:88] PNG warning: iCCP: known incorrect sRGB profile\n",
      "2023-09-21 17:04:53.311823: W tensorflow/core/lib/png/png_io.cc:88] PNG warning: iCCP: cHRM chunk does not match sRGB\n",
      "2023-09-21 17:04:54.086094: W tensorflow/core/lib/png/png_io.cc:88] PNG warning: iCCP: known incorrect sRGB profile\n",
      "2023-09-21 17:04:54.153314: W tensorflow/core/lib/png/png_io.cc:88] PNG warning: iCCP: known incorrect sRGB profile\n",
      "2023-09-21 17:04:54.170106: W tensorflow/core/lib/png/png_io.cc:88] PNG warning: iCCP: known incorrect sRGB profile\n",
      "2023-09-21 17:04:55.158596: W tensorflow/core/lib/png/png_io.cc:88] PNG warning: iCCP: known incorrect sRGB profile\n",
      "2023-09-21 17:04:55.225414: W tensorflow/core/lib/png/png_io.cc:88] PNG warning: iCCP: known incorrect sRGB profile\n",
      "2023-09-21 17:04:56.055116: W tensorflow/core/lib/png/png_io.cc:88] PNG warning: iCCP: known incorrect sRGB profile\n",
      "2023-09-21 17:04:57.204049: W tensorflow/core/lib/png/png_io.cc:88] PNG warning: iCCP: known incorrect sRGB profile\n",
      "2023-09-21 17:04:57.235389: W tensorflow/core/lib/png/png_io.cc:88] PNG warning: iCCP: known incorrect sRGB profile\n",
      "2023-09-21 17:04:57.346998: W tensorflow/core/lib/png/png_io.cc:88] PNG warning: iCCP: known incorrect sRGB profile\n",
      "2023-09-21 17:04:58.234902: W tensorflow/core/lib/png/png_io.cc:88] PNG warning: iCCP: known incorrect sRGB profile\n",
      "2023-09-21 17:04:58.234935: W tensorflow/core/lib/png/png_io.cc:88] PNG warning: iCCP: cHRM chunk does not match sRGB\n",
      "2023-09-21 17:04:58.843676: W tensorflow/core/lib/png/png_io.cc:88] PNG warning: iCCP: known incorrect sRGB profile\n",
      "2023-09-21 17:04:58.857096: W tensorflow/core/lib/png/png_io.cc:88] PNG warning: iCCP: known incorrect sRGB profile\n",
      "2023-09-21 17:04:58.906594: W tensorflow/core/lib/png/png_io.cc:88] PNG warning: iCCP: too many profiles\n",
      "2023-09-21 17:04:59.204343: W tensorflow/core/lib/png/png_io.cc:88] PNG warning: iCCP: known incorrect sRGB profile\n"
     ]
    },
    {
     "name": "stdout",
     "output_type": "stream",
     "text": [
      "Step 40 : Loss is:  0.4816319942474365  Accuracy:  0.675\n"
     ]
    },
    {
     "name": "stderr",
     "output_type": "stream",
     "text": [
      "2023-09-21 17:05:02.753550: W tensorflow/core/lib/png/png_io.cc:88] PNG warning: iCCP: known incorrect sRGB profile\n",
      "2023-09-21 17:05:02.967750: W tensorflow/core/lib/png/png_io.cc:88] PNG warning: iCCP: known incorrect sRGB profile\n",
      "2023-09-21 17:05:03.863982: W tensorflow/core/lib/png/png_io.cc:88] PNG warning: iCCP: known incorrect sRGB profile\n",
      "2023-09-21 17:05:04.329270: W tensorflow/core/lib/png/png_io.cc:88] PNG warning: iCCP: known incorrect sRGB profile\n",
      "2023-09-21 17:05:04.708646: W tensorflow/core/lib/png/png_io.cc:88] PNG warning: iCCP: known incorrect sRGB profile\n",
      "2023-09-21 17:05:04.708699: W tensorflow/core/lib/png/png_io.cc:88] PNG warning: iCCP: cHRM chunk does not match sRGB\n",
      "2023-09-21 17:05:05.574693: W tensorflow/core/lib/png/png_io.cc:88] PNG warning: iCCP: known incorrect sRGB profile\n",
      "2023-09-21 17:05:06.681038: W tensorflow/core/lib/png/png_io.cc:88] PNG warning: iCCP: known incorrect sRGB profile\n",
      "2023-09-21 17:05:07.677769: W tensorflow/core/lib/png/png_io.cc:88] PNG warning: iCCP: known incorrect sRGB profile\n",
      "2023-09-21 17:05:08.240777: W tensorflow/core/lib/png/png_io.cc:88] PNG warning: iCCP: known incorrect sRGB profile\n",
      "2023-09-21 17:05:09.649710: W tensorflow/core/lib/png/png_io.cc:88] PNG warning: iCCP: known incorrect sRGB profile\n",
      "2023-09-21 17:05:10.616872: W tensorflow/core/lib/png/png_io.cc:88] PNG warning: iCCP: known incorrect sRGB profile\n",
      "2023-09-21 17:05:10.733566: W tensorflow/core/lib/png/png_io.cc:88] PNG warning: iCCP: known incorrect sRGB profile\n",
      "2023-09-21 17:05:10.782121: W tensorflow/core/lib/png/png_io.cc:88] PNG warning: iCCP: known incorrect sRGB profile\n"
     ]
    },
    {
     "name": "stdout",
     "output_type": "stream",
     "text": [
      "Step 50 : Loss is:  0.37886351346969604  Accuracy:  0.6952381\n"
     ]
    },
    {
     "name": "stderr",
     "output_type": "stream",
     "text": [
      "2023-09-21 17:05:11.218977: W tensorflow/core/lib/png/png_io.cc:88] PNG warning: iCCP: known incorrect sRGB profile\n",
      "2023-09-21 17:05:12.330597: W tensorflow/core/lib/png/png_io.cc:88] PNG warning: iCCP: known incorrect sRGB profile\n",
      "2023-09-21 17:05:12.766040: W tensorflow/core/lib/png/png_io.cc:88] PNG warning: iCCP: known incorrect sRGB profile\n",
      "2023-09-21 17:05:12.862315: W tensorflow/core/lib/png/png_io.cc:88] PNG warning: iCCP: known incorrect sRGB profile\n",
      "2023-09-21 17:05:13.530672: W tensorflow/core/lib/png/png_io.cc:88] PNG warning: iCCP: known incorrect sRGB profile\n",
      "2023-09-21 17:05:13.530701: W tensorflow/core/lib/png/png_io.cc:88] PNG warning: iCCP: cHRM chunk does not match sRGB\n",
      "2023-09-21 17:05:14.477987: W tensorflow/core/lib/png/png_io.cc:88] PNG warning: iCCP: known incorrect sRGB profile\n",
      "2023-09-21 17:05:14.517063: W tensorflow/core/lib/png/png_io.cc:88] PNG warning: iCCP: known incorrect sRGB profile\n",
      "2023-09-21 17:05:15.155398: W tensorflow/core/lib/png/png_io.cc:88] PNG warning: iCCP: too many profiles\n",
      "2023-09-21 17:05:15.968899: W tensorflow/core/lib/png/png_io.cc:88] PNG warning: iCCP: known incorrect sRGB profile\n",
      "2023-09-21 17:05:18.258231: W tensorflow/core/lib/png/png_io.cc:88] PNG warning: iCCP: known incorrect sRGB profile\n",
      "2023-09-21 17:05:19.461354: W tensorflow/core/lib/png/png_io.cc:88] PNG warning: iCCP: known incorrect sRGB profile\n",
      "2023-09-21 17:05:19.524093: W tensorflow/core/lib/png/png_io.cc:88] PNG warning: iCCP: known incorrect sRGB profile\n"
     ]
    },
    {
     "name": "stdout",
     "output_type": "stream",
     "text": [
      "Step 60 : Loss is:  0.5873517990112305  Accuracy:  0.703125\n"
     ]
    },
    {
     "name": "stderr",
     "output_type": "stream",
     "text": [
      "2023-09-21 17:05:19.960635: W tensorflow/core/lib/png/png_io.cc:88] PNG warning: iCCP: known incorrect sRGB profile\n",
      "2023-09-21 17:05:19.965169: W tensorflow/core/lib/png/png_io.cc:88] PNG warning: iCCP: known incorrect sRGB profile\n",
      "2023-09-21 17:05:20.792143: W tensorflow/core/lib/png/png_io.cc:88] PNG warning: iCCP: known incorrect sRGB profile\n",
      "2023-09-21 17:05:23.059838: W tensorflow/core/lib/png/png_io.cc:88] PNG warning: iCCP: known incorrect sRGB profile\n",
      "2023-09-21 17:05:23.702730: W tensorflow/core/lib/png/png_io.cc:88] PNG warning: iCCP: known incorrect sRGB profile\n",
      "2023-09-21 17:05:24.070852: W tensorflow/core/lib/png/png_io.cc:88] PNG warning: iCCP: known incorrect sRGB profile\n",
      "2023-09-21 17:05:24.447083: W tensorflow/core/lib/png/png_io.cc:88] PNG warning: iCCP: known incorrect sRGB profile\n",
      "2023-09-21 17:05:24.758036: W tensorflow/core/lib/png/png_io.cc:88] PNG warning: iCCP: known incorrect sRGB profile\n",
      "2023-09-21 17:05:25.878666: W tensorflow/core/lib/png/png_io.cc:88] PNG warning: iCCP: known incorrect sRGB profile\n",
      "2023-09-21 17:05:26.938069: W tensorflow/core/lib/png/png_io.cc:88] PNG warning: iCCP: known incorrect sRGB profile\n",
      "2023-09-21 17:05:28.392515: W tensorflow/core/lib/png/png_io.cc:88] PNG warning: iCCP: known incorrect sRGB profile\n",
      "2023-09-21 17:05:28.488485: W tensorflow/core/lib/png/png_io.cc:88] PNG warning: iCCP: known incorrect sRGB profile\n"
     ]
    },
    {
     "name": "stdout",
     "output_type": "stream",
     "text": [
      "Step 70 : Loss is:  0.34360891580581665  Accuracy:  0.73650795\n"
     ]
    },
    {
     "name": "stderr",
     "output_type": "stream",
     "text": [
      "2023-09-21 17:05:29.267412: W tensorflow/core/lib/png/png_io.cc:88] PNG warning: iCCP: known incorrect sRGB profile\n",
      "2023-09-21 17:05:29.555845: W tensorflow/core/lib/png/png_io.cc:88] PNG warning: iCCP: known incorrect sRGB profile\n",
      "2023-09-21 17:05:29.557655: W tensorflow/core/lib/png/png_io.cc:88] PNG warning: iCCP: cHRM chunk does not match sRGB\n",
      "2023-09-21 17:05:30.300156: W tensorflow/core/lib/png/png_io.cc:88] PNG warning: iCCP: known incorrect sRGB profile\n",
      "2023-09-21 17:05:31.287199: W tensorflow/core/lib/png/png_io.cc:88] PNG warning: iCCP: known incorrect sRGB profile\n",
      "2023-09-21 17:05:31.958326: W tensorflow/core/lib/png/png_io.cc:88] PNG warning: iCCP: known incorrect sRGB profile\n",
      "2023-09-21 17:05:32.020271: W tensorflow/core/lib/png/png_io.cc:88] PNG warning: iCCP: known incorrect sRGB profile\n",
      "2023-09-21 17:05:32.911096: W tensorflow/core/lib/png/png_io.cc:88] PNG warning: iCCP: known incorrect sRGB profile\n",
      "2023-09-21 17:05:33.550824: W tensorflow/core/lib/png/png_io.cc:88] PNG warning: iCCP: known incorrect sRGB profile\n",
      "2023-09-21 17:05:33.927012: W tensorflow/core/lib/png/png_io.cc:88] PNG warning: iCCP: known incorrect sRGB profile\n",
      "2023-09-21 17:05:35.520184: W tensorflow/core/lib/png/png_io.cc:88] PNG warning: iCCP: known incorrect sRGB profile\n",
      "2023-09-21 17:05:37.033909: W tensorflow/core/lib/png/png_io.cc:88] PNG warning: iCCP: known incorrect sRGB profile\n",
      "2023-09-21 17:05:37.228474: W tensorflow/core/lib/png/png_io.cc:88] PNG warning: iCCP: known incorrect sRGB profile\n"
     ]
    },
    {
     "name": "stdout",
     "output_type": "stream",
     "text": [
      "Step 80 : Loss is:  0.3078559339046478  Accuracy:  0.78125\n"
     ]
    },
    {
     "name": "stderr",
     "output_type": "stream",
     "text": [
      "2023-09-21 17:05:37.832650: W tensorflow/core/lib/png/png_io.cc:88] PNG warning: iCCP: known incorrect sRGB profile\n",
      "2023-09-21 17:05:37.832686: W tensorflow/core/lib/png/png_io.cc:88] PNG warning: iCCP: cHRM chunk does not match sRGB\n",
      "2023-09-21 17:05:38.058065: W tensorflow/core/lib/png/png_io.cc:88] PNG warning: iCCP: known incorrect sRGB profile\n",
      "2023-09-21 17:05:38.098348: W tensorflow/core/lib/png/png_io.cc:88] PNG warning: iCCP: known incorrect sRGB profile\n",
      "2023-09-21 17:05:38.111755: W tensorflow/core/lib/png/png_io.cc:88] PNG warning: iCCP: too many profiles\n",
      "2023-09-21 17:05:38.184178: W tensorflow/core/lib/png/png_io.cc:88] PNG warning: iCCP: known incorrect sRGB profile\n",
      "2023-09-21 17:05:38.189108: W tensorflow/core/lib/png/png_io.cc:88] PNG warning: iCCP: known incorrect sRGB profile\n",
      "2023-09-21 17:05:38.986184: W tensorflow/core/lib/png/png_io.cc:88] PNG warning: iCCP: known incorrect sRGB profile\n",
      "2023-09-21 17:05:43.108159: W tensorflow/core/lib/png/png_io.cc:88] PNG warning: iCCP: known incorrect sRGB profile\n",
      "2023-09-21 17:05:43.472452: W tensorflow/core/lib/png/png_io.cc:88] PNG warning: iCCP: known incorrect sRGB profile\n",
      "2023-09-21 17:05:44.001312: W tensorflow/core/lib/png/png_io.cc:88] PNG warning: iCCP: known incorrect sRGB profile\n",
      "2023-09-21 17:05:44.251588: W tensorflow/core/lib/png/png_io.cc:88] PNG warning: iCCP: known incorrect sRGB profile\n",
      "2023-09-21 17:05:44.906655: W tensorflow/core/lib/png/png_io.cc:88] PNG warning: iCCP: known incorrect sRGB profile\n",
      "2023-09-21 17:05:45.445950: W tensorflow/core/lib/png/png_io.cc:88] PNG warning: iCCP: known incorrect sRGB profile\n"
     ]
    },
    {
     "name": "stdout",
     "output_type": "stream",
     "text": [
      "Step 90 : Loss is:  0.4263928532600403  Accuracy:  0.82222223\n"
     ]
    },
    {
     "name": "stderr",
     "output_type": "stream",
     "text": [
      "2023-09-21 17:05:46.206767: W tensorflow/core/lib/png/png_io.cc:88] PNG warning: iCCP: known incorrect sRGB profile\n",
      "2023-09-21 17:05:46.236942: W tensorflow/core/lib/png/png_io.cc:88] PNG warning: iCCP: known incorrect sRGB profile\n",
      "2023-09-21 17:05:46.401778: W tensorflow/core/lib/png/png_io.cc:88] PNG warning: iCCP: known incorrect sRGB profile\n",
      "2023-09-21 17:05:46.404334: W tensorflow/core/lib/png/png_io.cc:88] PNG warning: iCCP: cHRM chunk does not match sRGB\n",
      "2023-09-21 17:05:46.958248: W tensorflow/core/lib/png/png_io.cc:88] PNG warning: iCCP: too many profiles\n",
      "2023-09-21 17:05:47.952077: W tensorflow/core/lib/png/png_io.cc:88] PNG warning: iCCP: known incorrect sRGB profile\n",
      "2023-09-21 17:05:48.692877: W tensorflow/core/lib/png/png_io.cc:88] PNG warning: iCCP: known incorrect sRGB profile\n",
      "2023-09-21 17:05:48.793004: W tensorflow/core/lib/png/png_io.cc:88] PNG warning: iCCP: known incorrect sRGB profile\n",
      "2023-09-21 17:05:48.903132: W tensorflow/core/lib/png/png_io.cc:88] PNG warning: iCCP: known incorrect sRGB profile\n",
      "2023-09-21 17:05:48.904104: W tensorflow/core/lib/png/png_io.cc:88] PNG warning: iCCP: cHRM chunk does not match sRGB\n",
      "2023-09-21 17:05:49.639989: W tensorflow/core/lib/png/png_io.cc:88] PNG warning: iCCP: known incorrect sRGB profile\n",
      "2023-09-21 17:05:50.908111: W tensorflow/core/lib/png/png_io.cc:88] PNG warning: iCCP: known incorrect sRGB profile\n",
      "2023-09-21 17:05:51.032642: W tensorflow/core/lib/png/png_io.cc:88] PNG warning: iCCP: known incorrect sRGB profile\n",
      "2023-09-21 17:05:51.859466: W tensorflow/core/lib/png/png_io.cc:88] PNG warning: iCCP: known incorrect sRGB profile\n",
      "2023-09-21 17:05:52.892544: W tensorflow/core/lib/png/png_io.cc:88] PNG warning: iCCP: known incorrect sRGB profile\n",
      "2023-09-21 17:05:53.691368: W tensorflow/core/lib/png/png_io.cc:88] PNG warning: iCCP: known incorrect sRGB profile\n"
     ]
    },
    {
     "name": "stdout",
     "output_type": "stream",
     "text": [
      "Step 100 : Loss is:  0.3101516366004944  Accuracy:  0.775\n"
     ]
    },
    {
     "name": "stderr",
     "output_type": "stream",
     "text": [
      "2023-09-21 17:05:56.298745: W tensorflow/core/lib/png/png_io.cc:88] PNG warning: iCCP: known incorrect sRGB profile\n",
      "2023-09-21 17:05:56.457517: W tensorflow/core/lib/png/png_io.cc:88] PNG warning: iCCP: known incorrect sRGB profile\n",
      "2023-09-21 17:05:56.527591: W tensorflow/core/lib/png/png_io.cc:88] PNG warning: iCCP: known incorrect sRGB profile\n",
      "2023-09-21 17:05:57.251318: W tensorflow/core/lib/png/png_io.cc:88] PNG warning: iCCP: known incorrect sRGB profile\n",
      "2023-09-21 17:05:57.318122: W tensorflow/core/lib/png/png_io.cc:88] PNG warning: iCCP: known incorrect sRGB profile\n",
      "2023-09-21 17:05:58.279814: W tensorflow/core/lib/png/png_io.cc:88] PNG warning: iCCP: known incorrect sRGB profile\n",
      "2023-09-21 17:05:58.417840: W tensorflow/core/lib/png/png_io.cc:88] PNG warning: iCCP: known incorrect sRGB profile\n",
      "2023-09-21 17:05:59.223571: W tensorflow/core/lib/png/png_io.cc:88] PNG warning: iCCP: known incorrect sRGB profile\n",
      "2023-09-21 17:06:01.056892: W tensorflow/core/lib/png/png_io.cc:88] PNG warning: iCCP: known incorrect sRGB profile\n",
      "2023-09-21 17:06:01.750533: W tensorflow/core/lib/png/png_io.cc:88] PNG warning: iCCP: known incorrect sRGB profile\n",
      "2023-09-21 17:06:01.753932: W tensorflow/core/lib/png/png_io.cc:88] PNG warning: iCCP: known incorrect sRGB profile\n"
     ]
    },
    {
     "name": "stdout",
     "output_type": "stream",
     "text": [
      "Step 110 : Loss is:  0.23216506838798523  Accuracy:  0.8825397\n"
     ]
    },
    {
     "name": "stderr",
     "output_type": "stream",
     "text": [
      "2023-09-21 17:06:03.627033: W tensorflow/core/lib/png/png_io.cc:88] PNG warning: iCCP: known incorrect sRGB profile\n",
      "2023-09-21 17:06:05.047898: W tensorflow/core/lib/png/png_io.cc:88] PNG warning: iCCP: known incorrect sRGB profile\n",
      "2023-09-21 17:06:05.315836: W tensorflow/core/lib/png/png_io.cc:88] PNG warning: iCCP: known incorrect sRGB profile\n",
      "2023-09-21 17:06:05.382345: W tensorflow/core/lib/png/png_io.cc:88] PNG warning: iCCP: known incorrect sRGB profile\n",
      "2023-09-21 17:06:05.486866: W tensorflow/core/lib/png/png_io.cc:88] PNG warning: iCCP: known incorrect sRGB profile\n",
      "2023-09-21 17:06:06.109920: W tensorflow/core/lib/png/png_io.cc:88] PNG warning: iCCP: known incorrect sRGB profile\n",
      "2023-09-21 17:06:06.892377: W tensorflow/core/lib/png/png_io.cc:88] PNG warning: iCCP: known incorrect sRGB profile\n",
      "2023-09-21 17:06:07.977234: W tensorflow/core/lib/png/png_io.cc:88] PNG warning: iCCP: known incorrect sRGB profile\n",
      "2023-09-21 17:06:08.102358: W tensorflow/core/lib/png/png_io.cc:88] PNG warning: iCCP: known incorrect sRGB profile\n",
      "2023-09-21 17:06:10.137894: W tensorflow/core/lib/png/png_io.cc:88] PNG warning: iCCP: known incorrect sRGB profile\n",
      "2023-09-21 17:06:10.242142: W tensorflow/core/lib/png/png_io.cc:88] PNG warning: iCCP: known incorrect sRGB profile\n",
      "2023-09-21 17:06:10.242196: W tensorflow/core/lib/png/png_io.cc:88] PNG warning: iCCP: cHRM chunk does not match sRGB\n",
      "2023-09-21 17:06:11.245309: W tensorflow/core/lib/png/png_io.cc:88] PNG warning: iCCP: known incorrect sRGB profile\n",
      "2023-09-21 17:06:11.476510: W tensorflow/core/lib/png/png_io.cc:88] PNG warning: iCCP: known incorrect sRGB profile\n",
      "2023-09-21 17:06:11.643227: W tensorflow/core/lib/png/png_io.cc:88] PNG warning: iCCP: known incorrect sRGB profile\n",
      "2023-09-21 17:06:12.676908: W tensorflow/core/lib/png/png_io.cc:88] PNG warning: iCCP: known incorrect sRGB profile\n",
      "2023-09-21 17:06:12.732992: W tensorflow/core/lib/png/png_io.cc:88] PNG warning: iCCP: known incorrect sRGB profile\n",
      "2023-09-21 17:06:12.733023: W tensorflow/core/lib/png/png_io.cc:88] PNG warning: iCCP: cHRM chunk does not match sRGB\n"
     ]
    },
    {
     "name": "stdout",
     "output_type": "stream",
     "text": [
      "Step 120 : Loss is:  0.30057641863822937  Accuracy:  0.865625\n"
     ]
    },
    {
     "name": "stderr",
     "output_type": "stream",
     "text": [
      "2023-09-21 17:06:13.878828: W tensorflow/core/lib/png/png_io.cc:88] PNG warning: iCCP: too many profiles\n",
      "2023-09-21 17:06:16.741704: W tensorflow/core/lib/png/png_io.cc:88] PNG warning: iCCP: known incorrect sRGB profile\n",
      "2023-09-21 17:06:18.150878: W tensorflow/core/lib/png/png_io.cc:88] PNG warning: iCCP: known incorrect sRGB profile\n",
      "2023-09-21 17:06:18.218050: W tensorflow/core/lib/png/png_io.cc:88] PNG warning: iCCP: known incorrect sRGB profile\n",
      "2023-09-21 17:06:18.268238: W tensorflow/core/lib/png/png_io.cc:88] PNG warning: iCCP: known incorrect sRGB profile\n",
      "2023-09-21 17:06:18.839255: W tensorflow/core/lib/png/png_io.cc:88] PNG warning: iCCP: known incorrect sRGB profile\n",
      "2023-09-21 17:06:19.904857: W tensorflow/core/lib/png/png_io.cc:88] PNG warning: iCCP: known incorrect sRGB profile\n",
      "2023-09-21 17:06:19.911510: W tensorflow/core/lib/png/png_io.cc:88] PNG warning: iCCP: known incorrect sRGB profile\n",
      "2023-09-21 17:06:20.008034: W tensorflow/core/lib/png/png_io.cc:88] PNG warning: iCCP: known incorrect sRGB profile\n"
     ]
    },
    {
     "name": "stdout",
     "output_type": "stream",
     "text": [
      "Step 130 : Loss is:  0.43968498706817627  Accuracy:  0.834375\n"
     ]
    },
    {
     "name": "stderr",
     "output_type": "stream",
     "text": [
      "2023-09-21 17:06:25.065822: W tensorflow/core/lib/png/png_io.cc:88] PNG warning: iCCP: known incorrect sRGB profile\n",
      "2023-09-21 17:06:25.327911: W tensorflow/core/lib/png/png_io.cc:88] PNG warning: iCCP: known incorrect sRGB profile\n",
      "2023-09-21 17:06:25.697958: W tensorflow/core/lib/png/png_io.cc:88] PNG warning: iCCP: known incorrect sRGB profile\n",
      "2023-09-21 17:06:25.781180: W tensorflow/core/lib/png/png_io.cc:88] PNG warning: iCCP: known incorrect sRGB profile\n",
      "2023-09-21 17:06:25.860301: W tensorflow/core/lib/png/png_io.cc:88] PNG warning: iCCP: known incorrect sRGB profile\n",
      "2023-09-21 17:06:25.860357: W tensorflow/core/lib/png/png_io.cc:88] PNG warning: iCCP: cHRM chunk does not match sRGB\n",
      "2023-09-21 17:06:26.770213: W tensorflow/core/lib/png/png_io.cc:88] PNG warning: iCCP: known incorrect sRGB profile\n",
      "2023-09-21 17:06:27.015637: W tensorflow/core/lib/png/png_io.cc:88] PNG warning: iCCP: known incorrect sRGB profile\n",
      "2023-09-21 17:06:28.136742: W tensorflow/core/lib/png/png_io.cc:88] PNG warning: iCCP: known incorrect sRGB profile\n",
      "2023-09-21 17:06:28.676261: W tensorflow/core/lib/png/png_io.cc:88] PNG warning: iCCP: known incorrect sRGB profile\n",
      "2023-09-21 17:06:30.584187: W tensorflow/core/lib/png/png_io.cc:88] PNG warning: iCCP: known incorrect sRGB profile\n",
      "2023-09-21 17:06:30.821753: W tensorflow/core/lib/png/png_io.cc:88] PNG warning: iCCP: known incorrect sRGB profile\n",
      "2023-09-21 17:06:30.827550: W tensorflow/core/lib/png/png_io.cc:88] PNG warning: iCCP: cHRM chunk does not match sRGB\n",
      "2023-09-21 17:06:31.260251: W tensorflow/core/lib/png/png_io.cc:88] PNG warning: iCCP: known incorrect sRGB profile\n",
      "2023-09-21 17:06:32.093877: W tensorflow/core/lib/png/png_io.cc:88] PNG warning: iCCP: known incorrect sRGB profile\n",
      "2023-09-21 17:06:32.168590: W tensorflow/core/lib/png/png_io.cc:88] PNG warning: iCCP: known incorrect sRGB profile\n",
      "2023-09-21 17:06:32.418891: W tensorflow/core/lib/png/png_io.cc:88] PNG warning: iCCP: known incorrect sRGB profile\n",
      "2023-09-21 17:06:32.465237: W tensorflow/core/lib/png/png_io.cc:88] PNG warning: iCCP: known incorrect sRGB profile\n"
     ]
    },
    {
     "name": "stdout",
     "output_type": "stream",
     "text": [
      "Step 140 : Loss is:  0.1631377786397934  Accuracy:  0.9047619\n"
     ]
    },
    {
     "name": "stderr",
     "output_type": "stream",
     "text": [
      "2023-09-21 17:06:33.086288: W tensorflow/core/lib/png/png_io.cc:88] PNG warning: iCCP: known incorrect sRGB profile\n",
      "2023-09-21 17:06:33.238573: W tensorflow/core/lib/png/png_io.cc:88] PNG warning: iCCP: known incorrect sRGB profile\n",
      "2023-09-21 17:06:33.898370: W tensorflow/core/lib/png/png_io.cc:88] PNG warning: iCCP: known incorrect sRGB profile\n",
      "2023-09-21 17:06:37.435145: W tensorflow/core/lib/png/png_io.cc:88] PNG warning: iCCP: too many profiles\n",
      "2023-09-21 17:06:38.064913: W tensorflow/core/lib/png/png_io.cc:88] PNG warning: iCCP: known incorrect sRGB profile\n",
      "2023-09-21 17:06:38.251228: W tensorflow/core/lib/png/png_io.cc:88] PNG warning: iCCP: known incorrect sRGB profile\n",
      "2023-09-21 17:06:38.886764: W tensorflow/core/lib/png/png_io.cc:88] PNG warning: iCCP: known incorrect sRGB profile\n",
      "2023-09-21 17:06:39.559667: W tensorflow/core/lib/png/png_io.cc:88] PNG warning: iCCP: known incorrect sRGB profile\n",
      "2023-09-21 17:06:39.927744: W tensorflow/core/lib/png/png_io.cc:88] PNG warning: iCCP: known incorrect sRGB profile\n",
      "2023-09-21 17:06:40.079156: W tensorflow/core/lib/png/png_io.cc:88] PNG warning: iCCP: known incorrect sRGB profile\n",
      "2023-09-21 17:06:40.500702: W tensorflow/core/lib/png/png_io.cc:88] PNG warning: iCCP: known incorrect sRGB profile\n",
      "2023-09-21 17:06:40.523185: W tensorflow/core/lib/png/png_io.cc:88] PNG warning: iCCP: known incorrect sRGB profile\n"
     ]
    },
    {
     "name": "stdout",
     "output_type": "stream",
     "text": [
      "Step 150 : Loss is:  0.16928458213806152  Accuracy:  0.853125\n"
     ]
    },
    {
     "name": "stderr",
     "output_type": "stream",
     "text": [
      "2023-09-21 17:06:42.935088: W tensorflow/core/lib/png/png_io.cc:88] PNG warning: iCCP: known incorrect sRGB profile\n",
      "2023-09-21 17:06:42.950218: W tensorflow/core/lib/png/png_io.cc:88] PNG warning: iCCP: known incorrect sRGB profile\n",
      "2023-09-21 17:06:42.953193: W tensorflow/core/lib/png/png_io.cc:88] PNG warning: iCCP: known incorrect sRGB profile\n",
      "2023-09-21 17:06:43.538529: W tensorflow/core/lib/png/png_io.cc:88] PNG warning: iCCP: known incorrect sRGB profile\n",
      "2023-09-21 17:06:43.903281: W tensorflow/core/lib/png/png_io.cc:88] PNG warning: iCCP: known incorrect sRGB profile\n",
      "2023-09-21 17:06:44.201103: W tensorflow/core/lib/png/png_io.cc:88] PNG warning: iCCP: known incorrect sRGB profile\n",
      "2023-09-21 17:06:44.201148: W tensorflow/core/lib/png/png_io.cc:88] PNG warning: iCCP: cHRM chunk does not match sRGB\n",
      "2023-09-21 17:06:44.893102: W tensorflow/core/lib/png/png_io.cc:88] PNG warning: iCCP: known incorrect sRGB profile\n",
      "2023-09-21 17:06:45.583452: W tensorflow/core/lib/png/png_io.cc:88] PNG warning: iCCP: known incorrect sRGB profile\n",
      "2023-09-21 17:06:46.323758: W tensorflow/core/lib/png/png_io.cc:88] PNG warning: iCCP: known incorrect sRGB profile\n",
      "2023-09-21 17:06:47.968744: W tensorflow/core/lib/png/png_io.cc:88] PNG warning: iCCP: known incorrect sRGB profile\n"
     ]
    },
    {
     "name": "stdout",
     "output_type": "stream",
     "text": [
      "Step 160 : Loss is:  0.29987427592277527  Accuracy:  0.8698413\n"
     ]
    },
    {
     "name": "stderr",
     "output_type": "stream",
     "text": [
      "2023-09-21 17:06:49.395799: W tensorflow/core/lib/png/png_io.cc:88] PNG warning: iCCP: known incorrect sRGB profile\n",
      "2023-09-21 17:06:49.500717: W tensorflow/core/lib/png/png_io.cc:88] PNG warning: iCCP: known incorrect sRGB profile\n",
      "2023-09-21 17:06:49.500747: W tensorflow/core/lib/png/png_io.cc:88] PNG warning: iCCP: cHRM chunk does not match sRGB\n",
      "2023-09-21 17:06:49.622974: W tensorflow/core/lib/png/png_io.cc:88] PNG warning: iCCP: known incorrect sRGB profile\n",
      "2023-09-21 17:06:50.968592: W tensorflow/core/lib/png/png_io.cc:88] PNG warning: iCCP: known incorrect sRGB profile\n",
      "2023-09-21 17:06:51.018182: W tensorflow/core/lib/png/png_io.cc:88] PNG warning: iCCP: known incorrect sRGB profile\n",
      "2023-09-21 17:06:52.075781: W tensorflow/core/lib/png/png_io.cc:88] PNG warning: iCCP: known incorrect sRGB profile\n",
      "2023-09-21 17:06:52.922228: W tensorflow/core/lib/png/png_io.cc:88] PNG warning: iCCP: known incorrect sRGB profile\n",
      "2023-09-21 17:06:53.513675: W tensorflow/core/lib/png/png_io.cc:88] PNG warning: iCCP: known incorrect sRGB profile\n",
      "2023-09-21 17:06:53.529952: W tensorflow/core/lib/png/png_io.cc:88] PNG warning: iCCP: known incorrect sRGB profile\n",
      "2023-09-21 17:06:53.976095: W tensorflow/core/lib/png/png_io.cc:88] PNG warning: iCCP: known incorrect sRGB profile\n",
      "2023-09-21 17:06:55.939698: W tensorflow/core/lib/png/png_io.cc:88] PNG warning: iCCP: too many profiles\n",
      "2023-09-21 17:06:55.994875: W tensorflow/core/lib/png/png_io.cc:88] PNG warning: iCCP: known incorrect sRGB profile\n",
      "2023-09-21 17:06:55.999866: W tensorflow/core/lib/png/png_io.cc:88] PNG warning: iCCP: known incorrect sRGB profile\n",
      "2023-09-21 17:06:56.020759: W tensorflow/core/lib/png/png_io.cc:88] PNG warning: iCCP: known incorrect sRGB profile\n",
      "2023-09-21 17:06:56.575363: W tensorflow/core/lib/png/png_io.cc:88] PNG warning: iCCP: known incorrect sRGB profile\n",
      "2023-09-21 17:06:57.836807: W tensorflow/core/lib/png/png_io.cc:88] PNG warning: iCCP: known incorrect sRGB profile\n",
      "2023-09-21 17:06:57.882655: W tensorflow/core/lib/png/png_io.cc:88] PNG warning: iCCP: known incorrect sRGB profile\n",
      "2023-09-21 17:06:58.089744: W tensorflow/core/lib/png/png_io.cc:88] PNG warning: iCCP: known incorrect sRGB profile\n"
     ]
    },
    {
     "name": "stdout",
     "output_type": "stream",
     "text": [
      "Step 170 : Loss is:  0.20876045525074005  Accuracy:  0.884375\n"
     ]
    },
    {
     "name": "stderr",
     "output_type": "stream",
     "text": [
      "2023-09-21 17:07:01.688434: W tensorflow/core/lib/png/png_io.cc:88] PNG warning: iCCP: known incorrect sRGB profile\n",
      "2023-09-21 17:07:01.688474: W tensorflow/core/lib/png/png_io.cc:88] PNG warning: iCCP: cHRM chunk does not match sRGB\n",
      "2023-09-21 17:07:01.764700: W tensorflow/core/lib/png/png_io.cc:88] PNG warning: iCCP: known incorrect sRGB profile\n",
      "2023-09-21 17:07:01.791304: W tensorflow/core/lib/png/png_io.cc:88] PNG warning: iCCP: known incorrect sRGB profile\n",
      "2023-09-21 17:07:01.859092: W tensorflow/core/lib/png/png_io.cc:88] PNG warning: iCCP: known incorrect sRGB profile\n",
      "2023-09-21 17:07:02.240218: W tensorflow/core/lib/png/png_io.cc:88] PNG warning: iCCP: known incorrect sRGB profile\n",
      "2023-09-21 17:07:02.660114: W tensorflow/core/lib/png/png_io.cc:88] PNG warning: iCCP: known incorrect sRGB profile\n",
      "2023-09-21 17:07:02.722981: W tensorflow/core/lib/png/png_io.cc:88] PNG warning: iCCP: known incorrect sRGB profile\n",
      "2023-09-21 17:07:03.681828: W tensorflow/core/lib/png/png_io.cc:88] PNG warning: iCCP: known incorrect sRGB profile\n",
      "2023-09-21 17:07:04.450191: W tensorflow/core/lib/png/png_io.cc:88] PNG warning: iCCP: known incorrect sRGB profile\n",
      "2023-09-21 17:07:05.310797: W tensorflow/core/lib/png/png_io.cc:88] PNG warning: iCCP: known incorrect sRGB profile\n",
      "2023-09-21 17:07:05.379962: W tensorflow/core/lib/png/png_io.cc:88] PNG warning: iCCP: known incorrect sRGB profile\n",
      "2023-09-21 17:07:05.533986: W tensorflow/core/lib/png/png_io.cc:88] PNG warning: iCCP: known incorrect sRGB profile\n",
      "2023-09-21 17:07:05.543419: W tensorflow/core/lib/png/png_io.cc:88] PNG warning: iCCP: known incorrect sRGB profile\n",
      "2023-09-21 17:07:06.219259: W tensorflow/core/lib/png/png_io.cc:88] PNG warning: iCCP: known incorrect sRGB profile\n",
      "2023-09-21 17:07:06.219336: W tensorflow/core/lib/png/png_io.cc:88] PNG warning: iCCP: cHRM chunk does not match sRGB\n",
      "2023-09-21 17:07:06.410816: W tensorflow/core/lib/png/png_io.cc:88] PNG warning: iCCP: known incorrect sRGB profile\n",
      "2023-09-21 17:07:06.453766: W tensorflow/core/lib/png/png_io.cc:88] PNG warning: iCCP: too many profiles\n"
     ]
    },
    {
     "name": "stdout",
     "output_type": "stream",
     "text": [
      "Step 180 : Loss is:  0.08684204518795013  Accuracy:  0.9142857\n"
     ]
    },
    {
     "name": "stderr",
     "output_type": "stream",
     "text": [
      "2023-09-21 17:07:08.855099: W tensorflow/core/lib/png/png_io.cc:88] PNG warning: iCCP: known incorrect sRGB profile\n",
      "2023-09-21 17:07:08.946986: W tensorflow/core/lib/png/png_io.cc:88] PNG warning: iCCP: known incorrect sRGB profile\n",
      "2023-09-21 17:07:09.676260: W tensorflow/core/lib/png/png_io.cc:88] PNG warning: iCCP: known incorrect sRGB profile\n",
      "2023-09-21 17:07:10.011439: W tensorflow/core/lib/png/png_io.cc:88] PNG warning: iCCP: known incorrect sRGB profile\n",
      "2023-09-21 17:07:12.407411: W tensorflow/core/lib/png/png_io.cc:88] PNG warning: iCCP: known incorrect sRGB profile\n",
      "2023-09-21 17:07:13.362870: W tensorflow/core/lib/png/png_io.cc:88] PNG warning: iCCP: known incorrect sRGB profile\n",
      "2023-09-21 17:07:13.797569: W tensorflow/core/lib/png/png_io.cc:88] PNG warning: iCCP: known incorrect sRGB profile\n",
      "2023-09-21 17:07:14.291599: W tensorflow/core/lib/png/png_io.cc:88] PNG warning: iCCP: known incorrect sRGB profile\n",
      "2023-09-21 17:07:15.428547: W tensorflow/core/lib/png/png_io.cc:88] PNG warning: iCCP: known incorrect sRGB profile\n",
      "2023-09-21 17:07:15.493659: W tensorflow/core/lib/png/png_io.cc:88] PNG warning: iCCP: known incorrect sRGB profile\n"
     ]
    },
    {
     "name": "stdout",
     "output_type": "stream",
     "text": [
      "Step 190 : Loss is:  0.2825081944465637  Accuracy:  0.85625\n"
     ]
    },
    {
     "name": "stderr",
     "output_type": "stream",
     "text": [
      "2023-09-21 17:07:17.115182: W tensorflow/core/lib/png/png_io.cc:88] PNG warning: iCCP: known incorrect sRGB profile\n",
      "2023-09-21 17:07:18.513420: W tensorflow/core/lib/png/png_io.cc:88] PNG warning: iCCP: known incorrect sRGB profile\n",
      "2023-09-21 17:07:21.316549: W tensorflow/core/lib/png/png_io.cc:88] PNG warning: iCCP: known incorrect sRGB profile\n",
      "2023-09-21 17:07:22.074995: W tensorflow/core/lib/png/png_io.cc:88] PNG warning: iCCP: known incorrect sRGB profile\n",
      "2023-09-21 17:07:22.542554: W tensorflow/core/lib/png/png_io.cc:88] PNG warning: iCCP: known incorrect sRGB profile\n",
      "2023-09-21 17:07:23.902281: W tensorflow/core/lib/png/png_io.cc:88] PNG warning: iCCP: known incorrect sRGB profile\n",
      "2023-09-21 17:07:23.902927: W tensorflow/core/lib/png/png_io.cc:88] PNG warning: iCCP: cHRM chunk does not match sRGB\n",
      "2023-09-21 17:07:23.921665: W tensorflow/core/lib/png/png_io.cc:88] PNG warning: iCCP: known incorrect sRGB profile\n",
      "2023-09-21 17:07:23.967919: W tensorflow/core/lib/png/png_io.cc:88] PNG warning: iCCP: known incorrect sRGB profile\n",
      "2023-09-21 17:07:24.032854: W tensorflow/core/lib/png/png_io.cc:88] PNG warning: iCCP: known incorrect sRGB profile\n",
      "2023-09-21 17:07:24.318113: W tensorflow/core/lib/png/png_io.cc:88] PNG warning: iCCP: known incorrect sRGB profile\n"
     ]
    },
    {
     "name": "stdout",
     "output_type": "stream",
     "text": [
      "Step 200 : Loss is:  0.28403133153915405  Accuracy:  0.8634921\n"
     ]
    },
    {
     "name": "stderr",
     "output_type": "stream",
     "text": [
      "2023-09-21 17:07:24.820011: W tensorflow/core/lib/png/png_io.cc:88] PNG warning: iCCP: known incorrect sRGB profile\n",
      "2023-09-21 17:07:24.951173: W tensorflow/core/lib/png/png_io.cc:88] PNG warning: iCCP: known incorrect sRGB profile\n",
      "2023-09-21 17:07:25.005690: W tensorflow/core/lib/png/png_io.cc:88] PNG warning: iCCP: known incorrect sRGB profile\n",
      "2023-09-21 17:07:25.055225: W tensorflow/core/lib/png/png_io.cc:88] PNG warning: iCCP: known incorrect sRGB profile\n",
      "2023-09-21 17:07:26.189387: W tensorflow/core/lib/png/png_io.cc:88] PNG warning: iCCP: known incorrect sRGB profile\n",
      "2023-09-21 17:07:27.990923: W tensorflow/core/lib/png/png_io.cc:88] PNG warning: iCCP: known incorrect sRGB profile\n",
      "2023-09-21 17:07:29.920044: W tensorflow/core/lib/png/png_io.cc:88] PNG warning: iCCP: known incorrect sRGB profile\n",
      "2023-09-21 17:07:30.643495: W tensorflow/core/lib/png/png_io.cc:88] PNG warning: iCCP: known incorrect sRGB profile\n",
      "2023-09-21 17:07:30.749976: W tensorflow/core/lib/png/png_io.cc:88] PNG warning: iCCP: known incorrect sRGB profile\n",
      "2023-09-21 17:07:32.172960: W tensorflow/core/lib/png/png_io.cc:88] PNG warning: iCCP: known incorrect sRGB profile\n",
      "2023-09-21 17:07:32.202203: W tensorflow/core/lib/png/png_io.cc:88] PNG warning: iCCP: known incorrect sRGB profile\n",
      "2023-09-21 17:07:33.144933: W tensorflow/core/lib/png/png_io.cc:88] PNG warning: iCCP: known incorrect sRGB profile\n",
      "2023-09-21 17:07:34.645419: W tensorflow/core/lib/png/png_io.cc:88] PNG warning: iCCP: known incorrect sRGB profile\n"
     ]
    },
    {
     "name": "stdout",
     "output_type": "stream",
     "text": [
      "Step 210 : Loss is:  0.21565167605876923  Accuracy:  0.853125\n"
     ]
    },
    {
     "name": "stderr",
     "output_type": "stream",
     "text": [
      "2023-09-21 17:07:37.383583: W tensorflow/core/lib/png/png_io.cc:88] PNG warning: iCCP: known incorrect sRGB profile\n",
      "2023-09-21 17:07:38.700901: W tensorflow/core/lib/png/png_io.cc:88] PNG warning: iCCP: known incorrect sRGB profile\n",
      "2023-09-21 17:07:39.214150: W tensorflow/core/lib/png/png_io.cc:88] PNG warning: iCCP: known incorrect sRGB profile\n",
      "2023-09-21 17:07:39.993192: W tensorflow/core/lib/png/png_io.cc:88] PNG warning: iCCP: too many profiles\n",
      "2023-09-21 17:07:41.542486: W tensorflow/core/lib/png/png_io.cc:88] PNG warning: iCCP: known incorrect sRGB profile\n",
      "2023-09-21 17:07:41.542527: W tensorflow/core/lib/png/png_io.cc:88] PNG warning: iCCP: cHRM chunk does not match sRGB\n",
      "2023-09-21 17:07:43.916492: W tensorflow/core/lib/png/png_io.cc:88] PNG warning: iCCP: known incorrect sRGB profile\n",
      "2023-09-21 17:07:44.244448: W tensorflow/core/lib/png/png_io.cc:88] PNG warning: iCCP: known incorrect sRGB profile\n",
      "2023-09-21 17:07:49.393234: W tensorflow/core/lib/png/png_io.cc:88] PNG warning: iCCP: known incorrect sRGB profile\n",
      "2023-09-21 17:07:49.393277: W tensorflow/core/lib/png/png_io.cc:88] PNG warning: iCCP: cHRM chunk does not match sRGB\n",
      "2023-09-21 17:07:50.446747: W tensorflow/core/lib/png/png_io.cc:88] PNG warning: iCCP: known incorrect sRGB profile\n",
      "2023-09-21 17:07:50.927967: W tensorflow/core/lib/png/png_io.cc:88] PNG warning: iCCP: known incorrect sRGB profile\n"
     ]
    },
    {
     "name": "stdout",
     "output_type": "stream",
     "text": [
      "Step 220 : Loss is:  0.2404080331325531  Accuracy:  0.9142857\n"
     ]
    },
    {
     "name": "stderr",
     "output_type": "stream",
     "text": [
      "2023-09-21 17:07:52.574077: W tensorflow/core/lib/png/png_io.cc:88] PNG warning: iCCP: known incorrect sRGB profile\n",
      "2023-09-21 17:07:53.199133: W tensorflow/core/lib/png/png_io.cc:88] PNG warning: iCCP: known incorrect sRGB profile\n",
      "2023-09-21 17:07:54.104168: W tensorflow/core/lib/png/png_io.cc:88] PNG warning: iCCP: known incorrect sRGB profile\n",
      "2023-09-21 17:07:54.338357: W tensorflow/core/lib/png/png_io.cc:88] PNG warning: iCCP: known incorrect sRGB profile\n",
      "2023-09-21 17:07:54.686809: W tensorflow/core/lib/png/png_io.cc:88] PNG warning: iCCP: known incorrect sRGB profile\n",
      "2023-09-21 17:07:56.141817: W tensorflow/core/lib/png/png_io.cc:88] PNG warning: iCCP: known incorrect sRGB profile\n",
      "2023-09-21 17:07:56.340410: W tensorflow/core/lib/png/png_io.cc:88] PNG warning: iCCP: known incorrect sRGB profile\n",
      "2023-09-21 17:07:56.794221: W tensorflow/core/lib/png/png_io.cc:88] PNG warning: iCCP: known incorrect sRGB profile\n",
      "2023-09-21 17:07:57.407467: W tensorflow/core/lib/png/png_io.cc:88] PNG warning: iCCP: known incorrect sRGB profile\n",
      "2023-09-21 17:07:58.820705: W tensorflow/core/lib/png/png_io.cc:88] PNG warning: iCCP: known incorrect sRGB profile\n",
      "2023-09-21 17:08:01.355655: W tensorflow/core/lib/png/png_io.cc:88] PNG warning: iCCP: known incorrect sRGB profile\n",
      "2023-09-21 17:08:01.546107: W tensorflow/core/lib/png/png_io.cc:88] PNG warning: iCCP: known incorrect sRGB profile\n",
      "2023-09-21 17:08:02.580306: W tensorflow/core/lib/png/png_io.cc:88] PNG warning: iCCP: known incorrect sRGB profile\n",
      "2023-09-21 17:08:02.928054: W tensorflow/core/lib/png/png_io.cc:88] PNG warning: iCCP: too many profiles\n",
      "2023-09-21 17:08:02.955106: W tensorflow/core/lib/png/png_io.cc:88] PNG warning: iCCP: known incorrect sRGB profile\n",
      "2023-09-21 17:08:03.074926: W tensorflow/core/lib/png/png_io.cc:88] PNG warning: iCCP: known incorrect sRGB profile\n"
     ]
    },
    {
     "name": "stdout",
     "output_type": "stream",
     "text": [
      "Step 230 : Loss is:  0.1449137032032013  Accuracy:  0.89375\n"
     ]
    },
    {
     "name": "stderr",
     "output_type": "stream",
     "text": [
      "2023-09-21 17:08:07.696548: W tensorflow/core/lib/png/png_io.cc:88] PNG warning: iCCP: known incorrect sRGB profile\n",
      "2023-09-21 17:08:07.793109: W tensorflow/core/lib/png/png_io.cc:88] PNG warning: iCCP: known incorrect sRGB profile\n",
      "2023-09-21 17:08:09.233716: W tensorflow/core/lib/png/png_io.cc:88] PNG warning: iCCP: known incorrect sRGB profile\n",
      "2023-09-21 17:08:10.595152: W tensorflow/core/lib/png/png_io.cc:88] PNG warning: iCCP: known incorrect sRGB profile\n",
      "2023-09-21 17:08:11.408039: W tensorflow/core/lib/png/png_io.cc:88] PNG warning: iCCP: known incorrect sRGB profile\n",
      "2023-09-21 17:08:11.679379: W tensorflow/core/lib/png/png_io.cc:88] PNG warning: iCCP: known incorrect sRGB profile\n",
      "2023-09-21 17:08:12.641351: W tensorflow/core/lib/png/png_io.cc:88] PNG warning: iCCP: known incorrect sRGB profile\n",
      "2023-09-21 17:08:14.172845: W tensorflow/core/lib/png/png_io.cc:88] PNG warning: iCCP: known incorrect sRGB profile\n",
      "2023-09-21 17:08:14.172882: W tensorflow/core/lib/png/png_io.cc:88] PNG warning: iCCP: cHRM chunk does not match sRGB\n",
      "2023-09-21 17:08:14.245098: W tensorflow/core/lib/png/png_io.cc:88] PNG warning: iCCP: known incorrect sRGB profile\n"
     ]
    },
    {
     "name": "stdout",
     "output_type": "stream",
     "text": [
      "Step 240 : Loss is:  0.18230533599853516  Accuracy:  0.9125\n"
     ]
    },
    {
     "name": "stderr",
     "output_type": "stream",
     "text": [
      "2023-09-21 17:08:17.402660: W tensorflow/core/lib/png/png_io.cc:88] PNG warning: iCCP: known incorrect sRGB profile\n",
      "2023-09-21 17:08:19.143223: W tensorflow/core/lib/png/png_io.cc:88] PNG warning: iCCP: too many profiles\n",
      "2023-09-21 17:08:21.502104: W tensorflow/core/lib/png/png_io.cc:88] PNG warning: iCCP: known incorrect sRGB profile\n",
      "2023-09-21 17:08:21.512522: W tensorflow/core/lib/png/png_io.cc:88] PNG warning: iCCP: known incorrect sRGB profile\n",
      "2023-09-21 17:08:22.087885: W tensorflow/core/lib/png/png_io.cc:88] PNG warning: iCCP: known incorrect sRGB profile\n",
      "2023-09-21 17:08:23.604535: W tensorflow/core/lib/png/png_io.cc:88] PNG warning: iCCP: known incorrect sRGB profile\n",
      "2023-09-21 17:08:23.604568: W tensorflow/core/lib/png/png_io.cc:88] PNG warning: iCCP: cHRM chunk does not match sRGB\n",
      "2023-09-21 17:08:23.837274: W tensorflow/core/lib/png/png_io.cc:88] PNG warning: iCCP: known incorrect sRGB profile\n",
      "2023-09-21 17:08:23.930023: W tensorflow/core/lib/png/png_io.cc:88] PNG warning: iCCP: known incorrect sRGB profile\n",
      "2023-09-21 17:08:26.133862: W tensorflow/core/lib/png/png_io.cc:88] PNG warning: iCCP: known incorrect sRGB profile\n",
      "2023-09-21 17:08:26.472540: W tensorflow/core/lib/png/png_io.cc:88] PNG warning: iCCP: known incorrect sRGB profile\n",
      "2023-09-21 17:08:26.640848: W tensorflow/core/lib/png/png_io.cc:88] PNG warning: iCCP: known incorrect sRGB profile\n",
      "2023-09-21 17:08:27.953765: W tensorflow/core/lib/png/png_io.cc:88] PNG warning: iCCP: known incorrect sRGB profile\n",
      "2023-09-21 17:08:28.857616: W tensorflow/core/lib/png/png_io.cc:88] PNG warning: iCCP: known incorrect sRGB profile\n",
      "2023-09-21 17:08:30.748683: W tensorflow/core/lib/png/png_io.cc:88] PNG warning: iCCP: known incorrect sRGB profile\n",
      "2023-09-21 17:08:30.757219: W tensorflow/core/lib/png/png_io.cc:88] PNG warning: iCCP: known incorrect sRGB profile\n"
     ]
    },
    {
     "name": "stdout",
     "output_type": "stream",
     "text": [
      "Step 250 : Loss is:  0.2347247153520584  Accuracy:  0.8761905\n"
     ]
    },
    {
     "name": "stderr",
     "output_type": "stream",
     "text": [
      "2023-09-21 17:08:31.887886: W tensorflow/core/lib/png/png_io.cc:88] PNG warning: iCCP: known incorrect sRGB profile\n",
      "2023-09-21 17:08:31.918454: W tensorflow/core/lib/png/png_io.cc:88] PNG warning: iCCP: known incorrect sRGB profile\n",
      "2023-09-21 17:08:33.326186: W tensorflow/core/lib/png/png_io.cc:88] PNG warning: iCCP: known incorrect sRGB profile\n",
      "2023-09-21 17:08:34.848945: W tensorflow/core/lib/png/png_io.cc:88] PNG warning: iCCP: known incorrect sRGB profile\n",
      "2023-09-21 17:08:34.999559: W tensorflow/core/lib/png/png_io.cc:88] PNG warning: iCCP: known incorrect sRGB profile\n",
      "2023-09-21 17:08:35.928811: W tensorflow/core/lib/png/png_io.cc:88] PNG warning: iCCP: known incorrect sRGB profile\n",
      "2023-09-21 17:08:36.835807: W tensorflow/core/lib/png/png_io.cc:88] PNG warning: iCCP: known incorrect sRGB profile\n",
      "2023-09-21 17:08:36.917894: W tensorflow/core/lib/png/png_io.cc:88] PNG warning: iCCP: known incorrect sRGB profile\n",
      "2023-09-21 17:08:36.918816: W tensorflow/core/lib/png/png_io.cc:88] PNG warning: iCCP: cHRM chunk does not match sRGB\n",
      "2023-09-21 17:08:37.965580: W tensorflow/core/lib/png/png_io.cc:88] PNG warning: iCCP: known incorrect sRGB profile\n",
      "2023-09-21 17:08:39.609410: W tensorflow/core/lib/png/png_io.cc:88] PNG warning: iCCP: known incorrect sRGB profile\n",
      "2023-09-21 17:08:40.708743: W tensorflow/core/lib/png/png_io.cc:88] PNG warning: iCCP: known incorrect sRGB profile\n",
      "2023-09-21 17:08:40.931175: W tensorflow/core/lib/png/png_io.cc:88] PNG warning: iCCP: known incorrect sRGB profile\n",
      "2023-09-21 17:08:41.157861: W tensorflow/core/lib/png/png_io.cc:88] PNG warning: iCCP: known incorrect sRGB profile\n"
     ]
    },
    {
     "name": "stdout",
     "output_type": "stream",
     "text": [
      "Step 260 : Loss is:  0.12355822324752808  Accuracy:  0.91875\n"
     ]
    },
    {
     "name": "stderr",
     "output_type": "stream",
     "text": [
      "2023-09-21 17:08:44.791973: W tensorflow/core/lib/png/png_io.cc:88] PNG warning: iCCP: known incorrect sRGB profile\n",
      "2023-09-21 17:08:44.883853: W tensorflow/core/lib/png/png_io.cc:88] PNG warning: iCCP: known incorrect sRGB profile\n",
      "2023-09-21 17:08:45.029260: W tensorflow/core/lib/png/png_io.cc:88] PNG warning: iCCP: known incorrect sRGB profile\n",
      "2023-09-21 17:08:45.831399: W tensorflow/core/lib/png/png_io.cc:88] PNG warning: iCCP: known incorrect sRGB profile\n",
      "2023-09-21 17:08:47.069277: W tensorflow/core/lib/png/png_io.cc:88] PNG warning: iCCP: known incorrect sRGB profile\n",
      "2023-09-21 17:08:47.944486: W tensorflow/core/lib/png/png_io.cc:88] PNG warning: iCCP: too many profiles\n",
      "2023-09-21 17:08:48.288575: W tensorflow/core/lib/png/png_io.cc:88] PNG warning: iCCP: known incorrect sRGB profile\n",
      "2023-09-21 17:08:48.383810: W tensorflow/core/lib/png/png_io.cc:88] PNG warning: iCCP: known incorrect sRGB profile\n",
      "2023-09-21 17:08:49.214714: W tensorflow/core/lib/png/png_io.cc:88] PNG warning: iCCP: known incorrect sRGB profile\n",
      "2023-09-21 17:08:49.290467: W tensorflow/core/lib/png/png_io.cc:88] PNG warning: iCCP: known incorrect sRGB profile\n",
      "2023-09-21 17:08:49.290498: W tensorflow/core/lib/png/png_io.cc:88] PNG warning: iCCP: cHRM chunk does not match sRGB\n",
      "2023-09-21 17:08:49.851290: W tensorflow/core/lib/png/png_io.cc:88] PNG warning: iCCP: known incorrect sRGB profile\n",
      "2023-09-21 17:08:50.007646: W tensorflow/core/lib/png/png_io.cc:88] PNG warning: iCCP: known incorrect sRGB profile\n",
      "2023-09-21 17:08:50.213976: W tensorflow/core/lib/png/png_io.cc:88] PNG warning: iCCP: known incorrect sRGB profile\n",
      "2023-09-21 17:08:50.704649: W tensorflow/core/lib/png/png_io.cc:88] PNG warning: iCCP: known incorrect sRGB profile\n",
      "2023-09-21 17:08:51.508017: W tensorflow/core/lib/png/png_io.cc:88] PNG warning: iCCP: known incorrect sRGB profile\n",
      "2023-09-21 17:08:51.551970: W tensorflow/core/lib/png/png_io.cc:88] PNG warning: iCCP: known incorrect sRGB profile\n",
      "2023-09-21 17:08:51.874049: W tensorflow/core/lib/png/png_io.cc:88] PNG warning: iCCP: known incorrect sRGB profile\n"
     ]
    },
    {
     "name": "stdout",
     "output_type": "stream",
     "text": [
      "Step 270 : Loss is:  0.13009455800056458  Accuracy:  0.9142857\n"
     ]
    },
    {
     "name": "stderr",
     "output_type": "stream",
     "text": [
      "2023-09-21 17:08:53.998563: W tensorflow/core/lib/png/png_io.cc:88] PNG warning: iCCP: known incorrect sRGB profile\n",
      "2023-09-21 17:08:54.129754: W tensorflow/core/lib/png/png_io.cc:88] PNG warning: iCCP: known incorrect sRGB profile\n",
      "2023-09-21 17:08:54.213067: W tensorflow/core/lib/png/png_io.cc:88] PNG warning: iCCP: known incorrect sRGB profile\n",
      "2023-09-21 17:08:55.073192: W tensorflow/core/lib/png/png_io.cc:88] PNG warning: iCCP: known incorrect sRGB profile\n",
      "2023-09-21 17:08:57.396134: W tensorflow/core/lib/png/png_io.cc:88] PNG warning: iCCP: known incorrect sRGB profile\n",
      "2023-09-21 17:08:57.409803: W tensorflow/core/lib/png/png_io.cc:88] PNG warning: iCCP: known incorrect sRGB profile\n",
      "2023-09-21 17:08:58.145269: W tensorflow/core/lib/png/png_io.cc:88] PNG warning: iCCP: known incorrect sRGB profile\n",
      "2023-09-21 17:08:58.277719: W tensorflow/core/lib/png/png_io.cc:88] PNG warning: iCCP: known incorrect sRGB profile\n",
      "2023-09-21 17:08:58.291216: W tensorflow/core/lib/png/png_io.cc:88] PNG warning: iCCP: known incorrect sRGB profile\n",
      "2023-09-21 17:08:58.291250: W tensorflow/core/lib/png/png_io.cc:88] PNG warning: iCCP: cHRM chunk does not match sRGB\n",
      "2023-09-21 17:08:58.898942: W tensorflow/core/lib/png/png_io.cc:88] PNG warning: iCCP: known incorrect sRGB profile\n",
      "2023-09-21 17:09:00.513915: W tensorflow/core/lib/png/png_io.cc:88] PNG warning: iCCP: known incorrect sRGB profile\n"
     ]
    },
    {
     "name": "stdout",
     "output_type": "stream",
     "text": [
      "Step 280 : Loss is:  0.1490914523601532  Accuracy:  0.9\n"
     ]
    },
    {
     "name": "stderr",
     "output_type": "stream",
     "text": [
      "2023-09-21 17:09:03.132915: W tensorflow/core/lib/png/png_io.cc:88] PNG warning: iCCP: known incorrect sRGB profile\n",
      "2023-09-21 17:09:03.424574: W tensorflow/core/lib/png/png_io.cc:88] PNG warning: iCCP: known incorrect sRGB profile\n",
      "2023-09-21 17:09:03.586112: W tensorflow/core/lib/png/png_io.cc:88] PNG warning: iCCP: known incorrect sRGB profile\n",
      "2023-09-21 17:09:03.695356: W tensorflow/core/lib/png/png_io.cc:88] PNG warning: iCCP: known incorrect sRGB profile\n",
      "2023-09-21 17:09:03.822401: W tensorflow/core/lib/png/png_io.cc:88] PNG warning: iCCP: known incorrect sRGB profile\n",
      "2023-09-21 17:09:04.144871: W tensorflow/core/lib/png/png_io.cc:88] PNG warning: iCCP: known incorrect sRGB profile\n",
      "2023-09-21 17:09:04.390901: W tensorflow/core/lib/png/png_io.cc:88] PNG warning: iCCP: known incorrect sRGB profile\n",
      "2023-09-21 17:09:04.573459: W tensorflow/core/lib/png/png_io.cc:88] PNG warning: iCCP: known incorrect sRGB profile\n",
      "2023-09-21 17:09:04.914384: W tensorflow/core/lib/png/png_io.cc:88] PNG warning: iCCP: known incorrect sRGB profile\n",
      "2023-09-21 17:09:05.365311: W tensorflow/core/lib/png/png_io.cc:88] PNG warning: iCCP: known incorrect sRGB profile\n",
      "2023-09-21 17:09:05.536907: W tensorflow/core/lib/png/png_io.cc:88] PNG warning: iCCP: known incorrect sRGB profile\n",
      "2023-09-21 17:09:06.576596: W tensorflow/core/lib/png/png_io.cc:88] PNG warning: iCCP: known incorrect sRGB profile\n",
      "2023-09-21 17:09:06.576641: W tensorflow/core/lib/png/png_io.cc:88] PNG warning: iCCP: cHRM chunk does not match sRGB\n",
      "2023-09-21 17:09:06.746660: W tensorflow/core/lib/png/png_io.cc:88] PNG warning: iCCP: known incorrect sRGB profile\n"
     ]
    },
    {
     "name": "stdout",
     "output_type": "stream",
     "text": [
      "Step 290 : Loss is:  0.247897207736969  Accuracy:  0.93015873\n"
     ]
    },
    {
     "name": "stderr",
     "output_type": "stream",
     "text": [
      "2023-09-21 17:09:09.089360: W tensorflow/core/lib/png/png_io.cc:88] PNG warning: iCCP: known incorrect sRGB profile\n",
      "2023-09-21 17:09:09.867675: W tensorflow/core/lib/png/png_io.cc:88] PNG warning: iCCP: known incorrect sRGB profile\n",
      "2023-09-21 17:09:10.788128: W tensorflow/core/lib/png/png_io.cc:88] PNG warning: iCCP: too many profiles\n",
      "2023-09-21 17:09:10.866311: W tensorflow/core/lib/png/png_io.cc:88] PNG warning: iCCP: known incorrect sRGB profile\n",
      "2023-09-21 17:09:11.462495: W tensorflow/core/lib/png/png_io.cc:88] PNG warning: iCCP: known incorrect sRGB profile\n",
      "2023-09-21 17:09:11.462523: W tensorflow/core/lib/png/png_io.cc:88] PNG warning: iCCP: cHRM chunk does not match sRGB\n",
      "2023-09-21 17:09:12.573617: W tensorflow/core/lib/png/png_io.cc:88] PNG warning: iCCP: known incorrect sRGB profile\n",
      "2023-09-21 17:09:13.379892: W tensorflow/core/lib/png/png_io.cc:88] PNG warning: iCCP: known incorrect sRGB profile\n",
      "2023-09-21 17:09:13.948310: W tensorflow/core/lib/png/png_io.cc:88] PNG warning: iCCP: known incorrect sRGB profile\n",
      "2023-09-21 17:09:15.078086: W tensorflow/core/lib/png/png_io.cc:88] PNG warning: iCCP: known incorrect sRGB profile\n",
      "2023-09-21 17:09:15.124514: W tensorflow/core/lib/png/png_io.cc:88] PNG warning: iCCP: known incorrect sRGB profile\n",
      "2023-09-21 17:09:15.802582: W tensorflow/core/lib/png/png_io.cc:88] PNG warning: iCCP: known incorrect sRGB profile\n",
      "2023-09-21 17:09:15.846679: W tensorflow/core/lib/png/png_io.cc:88] PNG warning: iCCP: known incorrect sRGB profile\n",
      "2023-09-21 17:09:16.611754: W tensorflow/core/lib/png/png_io.cc:88] PNG warning: iCCP: known incorrect sRGB profile\n",
      "2023-09-21 17:09:16.639573: W tensorflow/core/lib/png/png_io.cc:88] PNG warning: iCCP: known incorrect sRGB profile\n",
      "2023-09-21 17:09:16.654325: W tensorflow/core/lib/png/png_io.cc:88] PNG warning: iCCP: known incorrect sRGB profile\n"
     ]
    },
    {
     "name": "stdout",
     "output_type": "stream",
     "text": [
      "Step 300 : Loss is:  0.17238572239875793  Accuracy:  0.89375\n"
     ]
    },
    {
     "name": "stderr",
     "output_type": "stream",
     "text": [
      "2023-09-21 17:09:21.677938: W tensorflow/core/lib/png/png_io.cc:88] PNG warning: iCCP: known incorrect sRGB profile\n",
      "2023-09-21 17:09:21.679612: W tensorflow/core/lib/png/png_io.cc:88] PNG warning: iCCP: known incorrect sRGB profile\n",
      "2023-09-21 17:09:21.701157: W tensorflow/core/lib/png/png_io.cc:88] PNG warning: iCCP: known incorrect sRGB profile\n",
      "2023-09-21 17:09:21.701271: W tensorflow/core/lib/png/png_io.cc:88] PNG warning: iCCP: cHRM chunk does not match sRGB\n",
      "2023-09-21 17:09:22.326447: W tensorflow/core/lib/png/png_io.cc:88] PNG warning: iCCP: known incorrect sRGB profile\n",
      "2023-09-21 17:09:23.325881: W tensorflow/core/lib/png/png_io.cc:88] PNG warning: iCCP: known incorrect sRGB profile\n",
      "2023-09-21 17:09:23.375684: W tensorflow/core/lib/png/png_io.cc:88] PNG warning: iCCP: known incorrect sRGB profile\n",
      "2023-09-21 17:09:24.706505: W tensorflow/core/lib/png/png_io.cc:88] PNG warning: iCCP: known incorrect sRGB profile\n",
      "2023-09-21 17:09:24.709556: W tensorflow/core/lib/png/png_io.cc:88] PNG warning: iCCP: cHRM chunk does not match sRGB\n",
      "2023-09-21 17:09:24.966784: W tensorflow/core/lib/png/png_io.cc:88] PNG warning: iCCP: known incorrect sRGB profile\n",
      "2023-09-21 17:09:25.465724: W tensorflow/core/lib/png/png_io.cc:88] PNG warning: iCCP: known incorrect sRGB profile\n",
      "2023-09-21 17:09:25.748337: W tensorflow/core/lib/png/png_io.cc:88] PNG warning: iCCP: known incorrect sRGB profile\n"
     ]
    },
    {
     "name": "stdout",
     "output_type": "stream",
     "text": [
      "Step 310 : Loss is:  0.11578626930713654  Accuracy:  0.9174603\n"
     ]
    },
    {
     "name": "stderr",
     "output_type": "stream",
     "text": [
      "2023-09-21 17:09:26.224260: W tensorflow/core/lib/png/png_io.cc:88] PNG warning: iCCP: too many profiles\n",
      "2023-09-21 17:09:26.334211: W tensorflow/core/lib/png/png_io.cc:88] PNG warning: iCCP: known incorrect sRGB profile\n",
      "2023-09-21 17:09:26.567010: W tensorflow/core/lib/png/png_io.cc:88] PNG warning: iCCP: known incorrect sRGB profile\n",
      "2023-09-21 17:09:28.074241: W tensorflow/core/lib/png/png_io.cc:88] PNG warning: iCCP: known incorrect sRGB profile\n",
      "2023-09-21 17:09:28.819933: W tensorflow/core/lib/png/png_io.cc:88] PNG warning: iCCP: known incorrect sRGB profile\n",
      "2023-09-21 17:09:29.061179: W tensorflow/core/lib/png/png_io.cc:88] PNG warning: iCCP: known incorrect sRGB profile\n",
      "2023-09-21 17:09:30.549137: W tensorflow/core/lib/png/png_io.cc:88] PNG warning: iCCP: known incorrect sRGB profile\n",
      "2023-09-21 17:09:31.315342: W tensorflow/core/lib/png/png_io.cc:88] PNG warning: iCCP: known incorrect sRGB profile\n",
      "2023-09-21 17:09:31.335803: W tensorflow/core/lib/png/png_io.cc:88] PNG warning: iCCP: known incorrect sRGB profile\n",
      "2023-09-21 17:09:33.329145: W tensorflow/core/lib/png/png_io.cc:88] PNG warning: iCCP: known incorrect sRGB profile\n",
      "2023-09-21 17:09:33.432363: W tensorflow/core/lib/png/png_io.cc:88] PNG warning: iCCP: known incorrect sRGB profile\n",
      "2023-09-21 17:09:33.664999: W tensorflow/core/lib/png/png_io.cc:88] PNG warning: iCCP: known incorrect sRGB profile\n"
     ]
    },
    {
     "name": "stdout",
     "output_type": "stream",
     "text": [
      "Step 320 : Loss is:  0.2786158621311188  Accuracy:  0.903125\n"
     ]
    },
    {
     "name": "stderr",
     "output_type": "stream",
     "text": [
      "2023-09-21 17:09:35.147108: W tensorflow/core/lib/png/png_io.cc:88] PNG warning: iCCP: known incorrect sRGB profile\n",
      "2023-09-21 17:09:35.171404: W tensorflow/core/lib/png/png_io.cc:88] PNG warning: iCCP: known incorrect sRGB profile\n",
      "2023-09-21 17:09:35.398857: W tensorflow/core/lib/png/png_io.cc:88] PNG warning: iCCP: known incorrect sRGB profile\n",
      "2023-09-21 17:09:36.893270: W tensorflow/core/lib/png/png_io.cc:88] PNG warning: iCCP: known incorrect sRGB profile\n",
      "2023-09-21 17:09:37.984421: W tensorflow/core/lib/png/png_io.cc:88] PNG warning: iCCP: known incorrect sRGB profile\n",
      "2023-09-21 17:09:38.744220: W tensorflow/core/lib/png/png_io.cc:88] PNG warning: iCCP: known incorrect sRGB profile\n",
      "2023-09-21 17:09:40.709237: W tensorflow/core/lib/png/png_io.cc:88] PNG warning: iCCP: known incorrect sRGB profile\n",
      "2023-09-21 17:09:40.715428: W tensorflow/core/lib/png/png_io.cc:88] PNG warning: iCCP: known incorrect sRGB profile\n",
      "2023-09-21 17:09:41.122084: W tensorflow/core/lib/png/png_io.cc:88] PNG warning: iCCP: known incorrect sRGB profile\n",
      "2023-09-21 17:09:41.208561: W tensorflow/core/lib/png/png_io.cc:88] PNG warning: iCCP: known incorrect sRGB profile\n",
      "2023-09-21 17:09:42.624626: W tensorflow/core/lib/png/png_io.cc:88] PNG warning: iCCP: known incorrect sRGB profile\n",
      "2023-09-21 17:09:42.701085: W tensorflow/core/lib/png/png_io.cc:88] PNG warning: iCCP: known incorrect sRGB profile\n",
      "2023-09-21 17:09:42.777174: W tensorflow/core/lib/png/png_io.cc:88] PNG warning: iCCP: known incorrect sRGB profile\n",
      "2023-09-21 17:09:42.778337: W tensorflow/core/lib/png/png_io.cc:88] PNG warning: iCCP: cHRM chunk does not match sRGB\n",
      "2023-09-21 17:09:42.812882: W tensorflow/core/lib/png/png_io.cc:88] PNG warning: iCCP: known incorrect sRGB profile\n"
     ]
    },
    {
     "name": "stdout",
     "output_type": "stream",
     "text": [
      "Step 330 : Loss is:  0.11822296679019928  Accuracy:  0.8984127\n"
     ]
    },
    {
     "name": "stderr",
     "output_type": "stream",
     "text": [
      "2023-09-21 17:09:43.763405: W tensorflow/core/lib/png/png_io.cc:88] PNG warning: iCCP: known incorrect sRGB profile\n",
      "2023-09-21 17:09:44.498272: W tensorflow/core/lib/png/png_io.cc:88] PNG warning: iCCP: known incorrect sRGB profile\n",
      "2023-09-21 17:09:46.367303: W tensorflow/core/lib/png/png_io.cc:88] PNG warning: iCCP: known incorrect sRGB profile\n",
      "2023-09-21 17:09:47.523896: W tensorflow/core/lib/png/png_io.cc:88] PNG warning: iCCP: known incorrect sRGB profile\n",
      "2023-09-21 17:09:47.721422: W tensorflow/core/lib/png/png_io.cc:88] PNG warning: iCCP: known incorrect sRGB profile\n",
      "2023-09-21 17:09:48.700536: W tensorflow/core/lib/png/png_io.cc:88] PNG warning: iCCP: known incorrect sRGB profile\n",
      "2023-09-21 17:09:49.403157: W tensorflow/core/lib/png/png_io.cc:88] PNG warning: iCCP: known incorrect sRGB profile\n",
      "2023-09-21 17:09:49.433085: W tensorflow/core/lib/png/png_io.cc:88] PNG warning: iCCP: known incorrect sRGB profile\n",
      "2023-09-21 17:09:49.512772: W tensorflow/core/lib/png/png_io.cc:88] PNG warning: iCCP: too many profiles\n",
      "2023-09-21 17:09:49.578817: W tensorflow/core/lib/png/png_io.cc:88] PNG warning: iCCP: known incorrect sRGB profile\n",
      "2023-09-21 17:09:52.093482: W tensorflow/core/lib/png/png_io.cc:88] PNG warning: iCCP: known incorrect sRGB profile\n"
     ]
    },
    {
     "name": "stdout",
     "output_type": "stream",
     "text": [
      "Step 340 : Loss is:  0.25289440155029297  Accuracy:  0.90625\n"
     ]
    },
    {
     "name": "stderr",
     "output_type": "stream",
     "text": [
      "2023-09-21 17:09:53.559476: W tensorflow/core/lib/png/png_io.cc:88] PNG warning: iCCP: known incorrect sRGB profile\n",
      "2023-09-21 17:09:53.559510: W tensorflow/core/lib/png/png_io.cc:88] PNG warning: iCCP: cHRM chunk does not match sRGB\n",
      "2023-09-21 17:09:54.437008: W tensorflow/core/lib/png/png_io.cc:88] PNG warning: iCCP: known incorrect sRGB profile\n",
      "2023-09-21 17:09:54.712727: W tensorflow/core/lib/png/png_io.cc:88] PNG warning: iCCP: known incorrect sRGB profile\n",
      "2023-09-21 17:09:55.525671: W tensorflow/core/lib/png/png_io.cc:88] PNG warning: iCCP: known incorrect sRGB profile\n",
      "2023-09-21 17:09:56.585646: W tensorflow/core/lib/png/png_io.cc:88] PNG warning: iCCP: known incorrect sRGB profile\n",
      "2023-09-21 17:09:57.092351: W tensorflow/core/lib/png/png_io.cc:88] PNG warning: iCCP: known incorrect sRGB profile\n",
      "2023-09-21 17:09:57.277383: W tensorflow/core/lib/png/png_io.cc:88] PNG warning: iCCP: known incorrect sRGB profile\n",
      "2023-09-21 17:09:57.778436: W tensorflow/core/lib/png/png_io.cc:88] PNG warning: iCCP: known incorrect sRGB profile\n",
      "2023-09-21 17:09:59.711300: W tensorflow/core/lib/png/png_io.cc:88] PNG warning: iCCP: known incorrect sRGB profile\n",
      "2023-09-21 17:10:01.803920: W tensorflow/core/lib/png/png_io.cc:88] PNG warning: iCCP: known incorrect sRGB profile\n",
      "2023-09-21 17:10:02.758114: W tensorflow/core/lib/png/png_io.cc:88] PNG warning: iCCP: known incorrect sRGB profile\n"
     ]
    },
    {
     "name": "stdout",
     "output_type": "stream",
     "text": [
      "Step 350 : Loss is:  0.2506527304649353  Accuracy:  0.90625\n"
     ]
    },
    {
     "name": "stderr",
     "output_type": "stream",
     "text": [
      "2023-09-21 17:10:03.027933: W tensorflow/core/lib/png/png_io.cc:88] PNG warning: iCCP: known incorrect sRGB profile\n",
      "2023-09-21 17:10:03.103231: W tensorflow/core/lib/png/png_io.cc:88] PNG warning: iCCP: known incorrect sRGB profile\n",
      "2023-09-21 17:10:03.160359: W tensorflow/core/lib/png/png_io.cc:88] PNG warning: iCCP: known incorrect sRGB profile\n",
      "2023-09-21 17:10:03.262293: W tensorflow/core/lib/png/png_io.cc:88] PNG warning: iCCP: too many profiles\n",
      "2023-09-21 17:10:03.791383: W tensorflow/core/lib/png/png_io.cc:88] PNG warning: iCCP: known incorrect sRGB profile\n",
      "2023-09-21 17:10:04.416360: W tensorflow/core/lib/png/png_io.cc:88] PNG warning: iCCP: known incorrect sRGB profile\n",
      "2023-09-21 17:10:06.513376: W tensorflow/core/lib/png/png_io.cc:88] PNG warning: iCCP: known incorrect sRGB profile\n",
      "2023-09-21 17:10:06.743753: W tensorflow/core/lib/png/png_io.cc:88] PNG warning: iCCP: known incorrect sRGB profile\n",
      "2023-09-21 17:10:06.778957: W tensorflow/core/lib/png/png_io.cc:88] PNG warning: iCCP: known incorrect sRGB profile\n",
      "2023-09-21 17:10:07.627812: W tensorflow/core/lib/png/png_io.cc:88] PNG warning: iCCP: known incorrect sRGB profile\n",
      "2023-09-21 17:10:07.646906: W tensorflow/core/lib/png/png_io.cc:88] PNG warning: iCCP: known incorrect sRGB profile\n",
      "2023-09-21 17:10:07.881368: W tensorflow/core/lib/png/png_io.cc:88] PNG warning: iCCP: known incorrect sRGB profile\n",
      "2023-09-21 17:10:08.885451: W tensorflow/core/lib/png/png_io.cc:88] PNG warning: iCCP: known incorrect sRGB profile\n",
      "2023-09-21 17:10:09.639168: W tensorflow/core/lib/png/png_io.cc:88] PNG warning: iCCP: known incorrect sRGB profile\n",
      "2023-09-21 17:10:10.849151: W tensorflow/core/lib/png/png_io.cc:88] PNG warning: iCCP: known incorrect sRGB profile\n",
      "2023-09-21 17:10:11.509707: W tensorflow/core/lib/png/png_io.cc:88] PNG warning: iCCP: known incorrect sRGB profile\n",
      "2023-09-21 17:10:11.759835: W tensorflow/core/lib/png/png_io.cc:88] PNG warning: iCCP: known incorrect sRGB profile\n"
     ]
    },
    {
     "name": "stdout",
     "output_type": "stream",
     "text": [
      "Step 360 : Loss is:  0.11094973236322403  Accuracy:  0.94920635\n"
     ]
    },
    {
     "name": "stderr",
     "output_type": "stream",
     "text": [
      "2023-09-21 17:10:13.456510: W tensorflow/core/lib/png/png_io.cc:88] PNG warning: iCCP: known incorrect sRGB profile\n",
      "2023-09-21 17:10:13.733104: W tensorflow/core/lib/png/png_io.cc:88] PNG warning: iCCP: known incorrect sRGB profile\n",
      "2023-09-21 17:10:14.397645: W tensorflow/core/lib/png/png_io.cc:88] PNG warning: iCCP: known incorrect sRGB profile\n",
      "2023-09-21 17:10:14.397679: W tensorflow/core/lib/png/png_io.cc:88] PNG warning: iCCP: cHRM chunk does not match sRGB\n",
      "2023-09-21 17:10:15.356486: W tensorflow/core/lib/png/png_io.cc:88] PNG warning: iCCP: known incorrect sRGB profile\n",
      "2023-09-21 17:10:16.252443: W tensorflow/core/lib/png/png_io.cc:88] PNG warning: iCCP: known incorrect sRGB profile\n",
      "2023-09-21 17:10:17.067824: W tensorflow/core/lib/png/png_io.cc:88] PNG warning: iCCP: known incorrect sRGB profile\n",
      "2023-09-21 17:10:18.115967: W tensorflow/core/lib/png/png_io.cc:88] PNG warning: iCCP: known incorrect sRGB profile\n",
      "2023-09-21 17:10:19.901794: W tensorflow/core/lib/png/png_io.cc:88] PNG warning: iCCP: known incorrect sRGB profile\n",
      "2023-09-21 17:10:20.913377: W tensorflow/core/lib/png/png_io.cc:88] PNG warning: iCCP: known incorrect sRGB profile\n",
      "2023-09-21 17:10:20.913870: W tensorflow/core/lib/png/png_io.cc:88] PNG warning: iCCP: cHRM chunk does not match sRGB\n"
     ]
    },
    {
     "name": "stdout",
     "output_type": "stream",
     "text": [
      "Step 370 : Loss is:  0.21656569838523865  Accuracy:  0.9\n"
     ]
    },
    {
     "name": "stderr",
     "output_type": "stream",
     "text": [
      "2023-09-21 17:10:23.310722: W tensorflow/core/lib/png/png_io.cc:88] PNG warning: iCCP: known incorrect sRGB profile\n",
      "2023-09-21 17:10:23.618281: W tensorflow/core/lib/png/png_io.cc:88] PNG warning: iCCP: known incorrect sRGB profile\n",
      "2023-09-21 17:10:23.741447: W tensorflow/core/lib/png/png_io.cc:88] PNG warning: iCCP: known incorrect sRGB profile\n",
      "2023-09-21 17:10:23.741593: W tensorflow/core/lib/png/png_io.cc:88] PNG warning: iCCP: cHRM chunk does not match sRGB\n",
      "2023-09-21 17:10:23.980174: W tensorflow/core/lib/png/png_io.cc:88] PNG warning: iCCP: known incorrect sRGB profile\n",
      "2023-09-21 17:10:24.224526: W tensorflow/core/lib/png/png_io.cc:88] PNG warning: iCCP: known incorrect sRGB profile\n",
      "2023-09-21 17:10:25.212480: W tensorflow/core/lib/png/png_io.cc:88] PNG warning: iCCP: known incorrect sRGB profile\n",
      "2023-09-21 17:10:25.406039: W tensorflow/core/lib/png/png_io.cc:88] PNG warning: iCCP: known incorrect sRGB profile\n",
      "2023-09-21 17:10:25.774462: W tensorflow/core/lib/png/png_io.cc:88] PNG warning: iCCP: known incorrect sRGB profile\n",
      "2023-09-21 17:10:25.806928: W tensorflow/core/lib/png/png_io.cc:88] PNG warning: iCCP: known incorrect sRGB profile\n",
      "2023-09-21 17:10:25.807040: W tensorflow/core/lib/png/png_io.cc:88] PNG warning: iCCP: cHRM chunk does not match sRGB\n",
      "2023-09-21 17:10:26.124929: W tensorflow/core/lib/png/png_io.cc:88] PNG warning: iCCP: known incorrect sRGB profile\n",
      "2023-09-21 17:10:27.022886: W tensorflow/core/lib/png/png_io.cc:88] PNG warning: iCCP: known incorrect sRGB profile\n",
      "2023-09-21 17:10:27.283472: W tensorflow/core/lib/png/png_io.cc:88] PNG warning: iCCP: known incorrect sRGB profile\n",
      "2023-09-21 17:10:28.842826: W tensorflow/core/lib/png/png_io.cc:88] PNG warning: iCCP: known incorrect sRGB profile\n",
      "2023-09-21 17:10:29.762867: W tensorflow/core/lib/png/png_io.cc:88] PNG warning: iCCP: known incorrect sRGB profile\n",
      "2023-09-21 17:10:30.577281: W tensorflow/core/lib/png/png_io.cc:88] PNG warning: iCCP: known incorrect sRGB profile\n"
     ]
    },
    {
     "name": "stdout",
     "output_type": "stream",
     "text": [
      "Step 380 : Loss is:  0.1309572011232376  Accuracy:  0.9047619\n"
     ]
    },
    {
     "name": "stderr",
     "output_type": "stream",
     "text": [
      "2023-09-21 17:10:32.623894: W tensorflow/core/lib/png/png_io.cc:88] PNG warning: iCCP: known incorrect sRGB profile\n",
      "2023-09-21 17:10:34.035995: W tensorflow/core/lib/png/png_io.cc:88] PNG warning: iCCP: known incorrect sRGB profile\n",
      "2023-09-21 17:10:34.097304: W tensorflow/core/lib/png/png_io.cc:88] PNG warning: iCCP: known incorrect sRGB profile\n",
      "2023-09-21 17:10:34.880246: W tensorflow/core/lib/png/png_io.cc:88] PNG warning: iCCP: known incorrect sRGB profile\n",
      "2023-09-21 17:10:35.133711: W tensorflow/core/lib/png/png_io.cc:88] PNG warning: iCCP: known incorrect sRGB profile\n",
      "2023-09-21 17:10:35.808528: W tensorflow/core/lib/png/png_io.cc:88] PNG warning: iCCP: known incorrect sRGB profile\n",
      "2023-09-21 17:10:35.905774: W tensorflow/core/lib/png/png_io.cc:88] PNG warning: iCCP: known incorrect sRGB profile\n",
      "2023-09-21 17:10:36.663347: W tensorflow/core/lib/png/png_io.cc:88] PNG warning: iCCP: known incorrect sRGB profile\n",
      "2023-09-21 17:10:36.678988: W tensorflow/core/lib/png/png_io.cc:88] PNG warning: iCCP: too many profiles\n",
      "2023-09-21 17:10:38.131163: W tensorflow/core/lib/png/png_io.cc:88] PNG warning: iCCP: known incorrect sRGB profile\n",
      "2023-09-21 17:10:38.875110: W tensorflow/core/lib/png/png_io.cc:88] PNG warning: iCCP: known incorrect sRGB profile\n"
     ]
    },
    {
     "name": "stdout",
     "output_type": "stream",
     "text": [
      "Step 390 : Loss is:  0.14456303417682648  Accuracy:  0.93125\n"
     ]
    },
    {
     "name": "stderr",
     "output_type": "stream",
     "text": [
      "2023-09-21 17:10:40.864100: W tensorflow/core/lib/png/png_io.cc:88] PNG warning: iCCP: known incorrect sRGB profile\n",
      "2023-09-21 17:10:40.873678: W tensorflow/core/lib/png/png_io.cc:88] PNG warning: iCCP: known incorrect sRGB profile\n",
      "2023-09-21 17:10:43.597368: W tensorflow/core/lib/png/png_io.cc:88] PNG warning: iCCP: known incorrect sRGB profile\n",
      "2023-09-21 17:10:44.698324: W tensorflow/core/lib/png/png_io.cc:88] PNG warning: iCCP: known incorrect sRGB profile\n",
      "2023-09-21 17:10:45.513428: W tensorflow/core/lib/png/png_io.cc:88] PNG warning: iCCP: known incorrect sRGB profile\n",
      "2023-09-21 17:10:45.603071: W tensorflow/core/lib/png/png_io.cc:88] PNG warning: iCCP: known incorrect sRGB profile\n",
      "2023-09-21 17:10:46.948802: W tensorflow/core/lib/png/png_io.cc:88] PNG warning: iCCP: known incorrect sRGB profile\n",
      "2023-09-21 17:10:47.659643: W tensorflow/core/lib/png/png_io.cc:88] PNG warning: iCCP: known incorrect sRGB profile\n",
      "2023-09-21 17:10:47.852025: W tensorflow/core/lib/png/png_io.cc:88] PNG warning: iCCP: known incorrect sRGB profile\n"
     ]
    },
    {
     "name": "stdout",
     "output_type": "stream",
     "text": [
      "Step 400 : Loss is:  0.15518108010292053  Accuracy:  0.93015873\n"
     ]
    },
    {
     "name": "stderr",
     "output_type": "stream",
     "text": [
      "2023-09-21 17:10:49.249763: W tensorflow/core/lib/png/png_io.cc:88] PNG warning: iCCP: known incorrect sRGB profile\n",
      "2023-09-21 17:10:49.304476: W tensorflow/core/lib/png/png_io.cc:88] PNG warning: iCCP: known incorrect sRGB profile\n",
      "2023-09-21 17:10:49.715961: W tensorflow/core/lib/png/png_io.cc:88] PNG warning: iCCP: known incorrect sRGB profile\n",
      "2023-09-21 17:10:50.398306: W tensorflow/core/lib/png/png_io.cc:88] PNG warning: iCCP: known incorrect sRGB profile\n",
      "2023-09-21 17:10:50.423136: W tensorflow/core/lib/png/png_io.cc:88] PNG warning: iCCP: known incorrect sRGB profile\n",
      "2023-09-21 17:10:50.423192: W tensorflow/core/lib/png/png_io.cc:88] PNG warning: iCCP: cHRM chunk does not match sRGB\n",
      "2023-09-21 17:10:53.500093: W tensorflow/core/lib/png/png_io.cc:88] PNG warning: iCCP: known incorrect sRGB profile\n",
      "2023-09-21 17:10:53.684883: W tensorflow/core/lib/png/png_io.cc:88] PNG warning: iCCP: known incorrect sRGB profile\n",
      "2023-09-21 17:10:54.269929: W tensorflow/core/lib/png/png_io.cc:88] PNG warning: iCCP: known incorrect sRGB profile\n",
      "2023-09-21 17:10:54.390722: W tensorflow/core/lib/png/png_io.cc:88] PNG warning: iCCP: known incorrect sRGB profile\n",
      "2023-09-21 17:10:54.761154: W tensorflow/core/lib/png/png_io.cc:88] PNG warning: iCCP: known incorrect sRGB profile\n",
      "2023-09-21 17:10:55.209794: W tensorflow/core/lib/png/png_io.cc:88] PNG warning: iCCP: known incorrect sRGB profile\n",
      "2023-09-21 17:10:55.230668: W tensorflow/core/lib/png/png_io.cc:88] PNG warning: iCCP: known incorrect sRGB profile\n",
      "2023-09-21 17:10:55.480768: W tensorflow/core/lib/png/png_io.cc:88] PNG warning: iCCP: known incorrect sRGB profile\n",
      "2023-09-21 17:10:56.132547: W tensorflow/core/lib/png/png_io.cc:88] PNG warning: iCCP: known incorrect sRGB profile\n",
      "2023-09-21 17:10:57.216566: W tensorflow/core/lib/png/png_io.cc:88] PNG warning: iCCP: known incorrect sRGB profile\n",
      "2023-09-21 17:10:57.216625: W tensorflow/core/lib/png/png_io.cc:88] PNG warning: iCCP: cHRM chunk does not match sRGB\n",
      "2023-09-21 17:10:57.991069: W tensorflow/core/lib/png/png_io.cc:88] PNG warning: iCCP: known incorrect sRGB profile\n",
      "2023-09-21 17:10:58.025946: W tensorflow/core/lib/png/png_io.cc:88] PNG warning: iCCP: known incorrect sRGB profile\n",
      "2023-09-21 17:10:58.774490: W tensorflow/core/lib/png/png_io.cc:88] PNG warning: iCCP: known incorrect sRGB profile\n"
     ]
    },
    {
     "name": "stdout",
     "output_type": "stream",
     "text": [
      "Step 410 : Loss is:  0.0682540014386177  Accuracy:  0.93125\n"
     ]
    },
    {
     "name": "stderr",
     "output_type": "stream",
     "text": [
      "2023-09-21 17:11:00.667541: W tensorflow/core/lib/png/png_io.cc:88] PNG warning: iCCP: known incorrect sRGB profile\n",
      "2023-09-21 17:11:00.734542: W tensorflow/core/lib/png/png_io.cc:88] PNG warning: iCCP: too many profiles\n",
      "2023-09-21 17:11:00.743789: W tensorflow/core/lib/png/png_io.cc:88] PNG warning: iCCP: known incorrect sRGB profile\n",
      "2023-09-21 17:11:04.675901: W tensorflow/core/lib/png/png_io.cc:88] PNG warning: iCCP: known incorrect sRGB profile\n",
      "2023-09-21 17:11:06.650263: W tensorflow/core/lib/png/png_io.cc:88] PNG warning: iCCP: known incorrect sRGB profile\n",
      "2023-09-21 17:11:06.650302: W tensorflow/core/lib/png/png_io.cc:88] PNG warning: iCCP: cHRM chunk does not match sRGB\n",
      "2023-09-21 17:11:07.206089: W tensorflow/core/lib/png/png_io.cc:88] PNG warning: iCCP: known incorrect sRGB profile\n",
      "2023-09-21 17:11:08.002738: W tensorflow/core/lib/png/png_io.cc:88] PNG warning: iCCP: known incorrect sRGB profile\n",
      "2023-09-21 17:11:08.093348: W tensorflow/core/lib/png/png_io.cc:88] PNG warning: iCCP: known incorrect sRGB profile\n",
      "2023-09-21 17:11:09.067477: W tensorflow/core/lib/png/png_io.cc:88] PNG warning: iCCP: known incorrect sRGB profile\n",
      "2023-09-21 17:11:09.086285: W tensorflow/core/lib/png/png_io.cc:88] PNG warning: iCCP: known incorrect sRGB profile\n",
      "2023-09-21 17:11:09.259444: W tensorflow/core/lib/png/png_io.cc:88] PNG warning: iCCP: known incorrect sRGB profile\n"
     ]
    },
    {
     "name": "stdout",
     "output_type": "stream",
     "text": [
      "Step 420 : Loss is:  0.05939492955803871  Accuracy:  0.93333334\n"
     ]
    },
    {
     "name": "stderr",
     "output_type": "stream",
     "text": [
      "2023-09-21 17:11:09.752145: W tensorflow/core/lib/png/png_io.cc:88] PNG warning: iCCP: known incorrect sRGB profile\n",
      "2023-09-21 17:11:10.057522: W tensorflow/core/lib/png/png_io.cc:88] PNG warning: iCCP: known incorrect sRGB profile\n",
      "2023-09-21 17:11:11.433386: W tensorflow/core/lib/png/png_io.cc:88] PNG warning: iCCP: known incorrect sRGB profile\n",
      "2023-09-21 17:11:11.588070: W tensorflow/core/lib/png/png_io.cc:88] PNG warning: iCCP: known incorrect sRGB profile\n",
      "2023-09-21 17:11:11.755136: W tensorflow/core/lib/png/png_io.cc:88] PNG warning: iCCP: known incorrect sRGB profile\n",
      "2023-09-21 17:11:12.554546: W tensorflow/core/lib/png/png_io.cc:88] PNG warning: iCCP: known incorrect sRGB profile\n",
      "2023-09-21 17:11:13.164754: W tensorflow/core/lib/png/png_io.cc:88] PNG warning: iCCP: known incorrect sRGB profile\n",
      "2023-09-21 17:11:13.164786: W tensorflow/core/lib/png/png_io.cc:88] PNG warning: iCCP: cHRM chunk does not match sRGB\n",
      "2023-09-21 17:11:14.133166: W tensorflow/core/lib/png/png_io.cc:88] PNG warning: iCCP: known incorrect sRGB profile\n",
      "2023-09-21 17:11:14.332928: W tensorflow/core/lib/png/png_io.cc:88] PNG warning: iCCP: known incorrect sRGB profile\n",
      "2023-09-21 17:11:16.629776: W tensorflow/core/lib/png/png_io.cc:88] PNG warning: iCCP: known incorrect sRGB profile\n",
      "2023-09-21 17:11:17.604330: W tensorflow/core/lib/png/png_io.cc:88] PNG warning: iCCP: known incorrect sRGB profile\n"
     ]
    },
    {
     "name": "stdout",
     "output_type": "stream",
     "text": [
      "Step 430 : Loss is:  0.10712166130542755  Accuracy:  0.915625\n"
     ]
    },
    {
     "name": "stderr",
     "output_type": "stream",
     "text": [
      "2023-09-21 17:11:18.308388: W tensorflow/core/lib/png/png_io.cc:88] PNG warning: iCCP: known incorrect sRGB profile\n",
      "2023-09-21 17:11:18.438167: W tensorflow/core/lib/png/png_io.cc:88] PNG warning: iCCP: known incorrect sRGB profile\n",
      "2023-09-21 17:11:18.484922: W tensorflow/core/lib/png/png_io.cc:88] PNG warning: iCCP: known incorrect sRGB profile\n",
      "2023-09-21 17:11:18.638540: W tensorflow/core/lib/png/png_io.cc:88] PNG warning: iCCP: known incorrect sRGB profile\n",
      "2023-09-21 17:11:18.758114: W tensorflow/core/lib/png/png_io.cc:88] PNG warning: iCCP: known incorrect sRGB profile\n",
      "2023-09-21 17:11:19.619929: W tensorflow/core/lib/png/png_io.cc:88] PNG warning: iCCP: known incorrect sRGB profile\n",
      "2023-09-21 17:11:20.951483: W tensorflow/core/lib/png/png_io.cc:88] PNG warning: iCCP: known incorrect sRGB profile\n",
      "2023-09-21 17:11:21.208879: W tensorflow/core/lib/png/png_io.cc:88] PNG warning: iCCP: known incorrect sRGB profile\n",
      "2023-09-21 17:11:21.790965: W tensorflow/core/lib/png/png_io.cc:88] PNG warning: iCCP: too many profiles\n"
     ]
    }
   ],
   "source": [
    "# 3.模型训练（计算梯度，迭代更新网络参数）\n",
    "optimizer = optimizers.SGD(lr=0.01)  # 声明采用批量随机梯度下降方法，学习率=0.01\n",
    "acc_meter = metrics.Accuracy()\n",
    "x_step = []\n",
    "y_accuracy = []\n",
    "for step, (x, y) in enumerate(db):  # 一次输入batch组数据进行训练\n",
    "    with tf.GradientTape() as tape:  # 构建梯度记录环境\n",
    "        x = tf.reshape(x, (-1, 224, 224, 3))  # 将输入拉直，[b,28,28]->[b,784]\n",
    "        out = network(x)  # 输出[b, 10]\n",
    "        y_onehot = tf.one_hot(y, depth=5)  # one-hot编码\n",
    "        loss = tf.square(out - y_onehot)\n",
    "        loss = tf.reduce_sum(loss)/32  # 定义均方差损失函数，注意此处的32对应为batch的大小\n",
    "        grads = tape.gradient(loss, network.trainable_variables)  # 计算网络中各个参数的梯度\n",
    "        optimizer.apply_gradients(zip(grads, network.trainable_variables))  # 更新网络参数\n",
    "        acc_meter.update_state(tf.argmax(out, axis=1), y)  # 比较预测值与标签，并计算精确度\n",
    "    if step % 10 == 0:  # 每200个step，打印一次结果\n",
    "        print('Step', step, ': Loss is: ', float(loss), ' Accuracy: ', acc_meter.result().numpy())\n",
    "        x_step.append(step)\n",
    "        y_accuracy.append(acc_meter.result().numpy())\n",
    "        acc_meter.reset_states()"
   ]
  },
  {
   "cell_type": "code",
   "execution_count": 17,
   "id": "21db071b-040a-44cc-9399-cecac52787e1",
   "metadata": {},
   "outputs": [
    {
     "data": {
      "image/png": "[encoded data removed]",
      "text/plain": [
       "<Figure size 640x480 with 1 Axes>"
      ]
     },
     "metadata": {},
     "output_type": "display_data"
    }
   ],
   "source": [
    "# 4.可视化\n",
    "plt.plot(x_step, y_accuracy, label=\"training\")\n",
    "plt.xlabel(\"step\")\n",
    "plt.ylabel(\"accuracy\")\n",
    "plt.title(\"accuracy of training\")\n",
    "plt.legend()\n",
    "plt.show()"
   ]
  },
  {
   "cell_type": "code",
   "execution_count": null,
   "id": "4119db8a-2478-4e9b-bb3a-4721805c8f69",
   "metadata": {},
   "outputs": [],
   "source": []
  }
 ],
 "metadata": {
  "kernelspec": {
   "display_name": "Python 3",
   "language": "python",
   "name": "python3"
  },
  "language_info": {
   "codemirror_mode": {
    "name": "ipython",
    "version": 3
   },
   "file_extension": ".py",
   "mimetype": "text/x-python",
   "name": "python",
   "nbconvert_exporter": "python",
   "pygments_lexer": "ipython3",
   "version": "3.10.8"
  }
 },
 "nbformat": 4,
 "nbformat_minor": 5
}
