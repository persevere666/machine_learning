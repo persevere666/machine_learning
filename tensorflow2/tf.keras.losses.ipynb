{
 "cells": [
  {
   "cell_type": "code",
   "execution_count": 1,
   "id": "93978a40-6706-4467-95fd-7d9b4b12f4a8",
   "metadata": {},
   "outputs": [
    {
     "name": "stderr",
     "output_type": "stream",
     "text": [
      "2024-04-07 21:35:42.903377: I tensorflow/core/platform/cpu_feature_guard.cc:210] This TensorFlow binary is optimized to use available CPU instructions in performance-critical operations.\n",
      "To enable the following instructions: AVX2 FMA, in other operations, rebuild TensorFlow with the appropriate compiler flags.\n"
     ]
    }
   ],
   "source": [
    "import tensorflow as tf"
   ]
  },
  {
   "cell_type": "code",
   "execution_count": 2,
   "id": "8ee49b7e-03e9-44b3-a4df-53818867ec18",
   "metadata": {},
   "outputs": [
    {
     "name": "stdout",
     "output_type": "stream",
     "text": [
      "1.1769392\n",
      "1.1769392\n"
     ]
    }
   ],
   "source": [
    "import numpy as np\n",
    "y_true = tf.constant([1, 2])\n",
    "y_pred = tf.constant([[0.05, 0.95, 0], [0.1, 0.8, 0.1]])\n",
    "loss = tf.reduce_mean(tf.keras.losses.sparse_categorical_crossentropy(y_true, y_pred))\n",
    "scce = tf.keras.losses.SparseCategoricalCrossentropy()\n",
    "\n",
    "print(loss.numpy())\n",
    "print(scce(y_true, y_pred).numpy())"
   ]
  },
  {
   "cell_type": "code",
   "execution_count": 3,
   "id": "136544f1-bc2e-4946-b2f0-5ee60b4c492f",
   "metadata": {},
   "outputs": [
    {
     "name": "stdout",
     "output_type": "stream",
     "text": [
      "[1.609438  0.8109302]\n"
     ]
    }
   ],
   "source": [
    "y_true = tf.constant([[1,0,0],[0,1,0]],tf.float32)\n",
    "y_pred = tf.constant([[0.2,0.7,0.1],[0.3,0.4,0.2]],tf.float32)\n",
    "loss = tf.keras.losses.categorical_crossentropy(y_true,y_pred)\n",
    "print(loss.numpy())"
   ]
  },
  {
   "cell_type": "code",
   "execution_count": 4,
   "id": "e6e35d8f-827f-4f95-849e-6d49b2498599",
   "metadata": {},
   "outputs": [
    {
     "name": "stdout",
     "output_type": "stream",
     "text": [
      "1.2101841\n"
     ]
    }
   ],
   "source": [
    "sum_loss=tf.reduce_mean(loss)\n",
    "print(sum_loss.numpy())"
   ]
  },
  {
   "cell_type": "code",
   "execution_count": 6,
   "id": "2a445e16-69fa-4e3f-bba2-98d39d74aa18",
   "metadata": {},
   "outputs": [
    {
     "name": "stdout",
     "output_type": "stream",
     "text": [
      "1.2101841\n"
     ]
    }
   ],
   "source": [
    "scce2=tf.keras.losses.CategoricalCrossentropy()\n",
    "print(scce2(y_true, y_pred).numpy())"
   ]
  },
  {
   "cell_type": "code",
   "execution_count": null,
   "id": "a41e160e-20f0-4e40-a76b-c4a91c5eff53",
   "metadata": {},
   "outputs": [],
   "source": []
  }
 ],
 "metadata": {
  "kernelspec": {
   "display_name": "Python 3",
   "language": "python",
   "name": "python3"
  },
  "language_info": {
   "codemirror_mode": {
    "name": "ipython",
    "version": 3
   },
   "file_extension": ".py",
   "mimetype": "text/x-python",
   "name": "python",
   "nbconvert_exporter": "python",
   "pygments_lexer": "ipython3",
   "version": "3.12.2"
  }
 },
 "nbformat": 4,
 "nbformat_minor": 5
}
