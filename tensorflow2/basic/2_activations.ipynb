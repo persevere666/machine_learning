{
 "cells": [
  {
   "cell_type": "code",
   "execution_count": 1,
   "metadata": {},
   "outputs": [
    {
     "name": "stderr",
     "output_type": "stream",
     "text": [
      "2024-04-08 11:35:46.044833: I tensorflow/core/platform/cpu_feature_guard.cc:210] This TensorFlow binary is optimized to use available CPU instructions in performance-critical operations.\n",
      "To enable the following instructions: AVX2 FMA, in other operations, rebuild TensorFlow with the appropriate compiler flags.\n"
     ]
    }
   ],
   "source": [
    "import tensorflow as tf"
   ]
  },
  {
   "cell_type": "markdown",
   "metadata": {},
   "source": [
    "### 参考\n",
    "https://blog.csdn.net/qq_30992103/article/details/101481071\n",
    "\n",
    "https://zhuanlan.zhihu.com/p/645269943"
   ]
  },
  {
   "attachments": {
    "image.png": {
     "image/png": "[encoded data removed]"
    }
   },
   "cell_type": "markdown",
   "metadata": {},
   "source": [
    "# 1 tf.keras.activations.elu\n",
    "    tf.keras.activations.elu(\n",
    "        x, alpha=1.0\n",
    "    )\n",
    "\n",
    "![image.png](attachment:image.png)\n",
    "\n",
    "The exponential linear unit (ELU) with alpha > 0 is define as:\n",
    "\n",
    "x if x > 0\n",
    "\n",
    "alpha *(exp(x) - 1) if x < 0"
   ]
  },
  {
   "cell_type": "code",
   "execution_count": 3,
   "metadata": {},
   "outputs": [
    {
     "name": "stdout",
     "output_type": "stream",
     "text": [
      "[[-2.7109127 -0.455023527]\n",
      " [2.7109127 0.455023527]]\n",
      "[[-1.86704779 -0.731133938]\n",
      " [2.7109127 0.455023527]]\n"
     ]
    }
   ],
   "source": [
    "x = tf.constant([[1,2],[-1,-2]]);\n",
    "dense = tf.keras.layers.Dense(units=2);\n",
    "y = dense(x)\n",
    "tf.print(y)\n",
    "z = tf.keras.activations.elu(y,alpha=2)\n",
    "tf.print(z)"
   ]
  },
  {
   "cell_type": "code",
   "execution_count": 4,
   "metadata": {},
   "outputs": [
    {
     "data": {
      "text/plain": [
       "<tf.Tensor: shape=(), dtype=float32, numpy=-1.8670478>"
      ]
     },
     "execution_count": 4,
     "metadata": {},
     "output_type": "execute_result"
    }
   ],
   "source": [
    "2*(tf.exp(-2.7109127)-1)"
   ]
  },
  {
   "cell_type": "markdown",
   "metadata": {},
   "source": [
    "### tf.keras.activations.exponential(x)"
   ]
  },
  {
   "cell_type": "code",
   "execution_count": 2,
   "metadata": {},
   "outputs": [
    {
     "name": "stdout",
     "output_type": "stream",
     "text": [
      "[2.71828175 0.36787945 7.38905621]\n"
     ]
    }
   ],
   "source": [
    "x = tf.constant([1,-1,2])\n",
    "y = tf.keras.activations.exponential(x)\n",
    "tf.print(y)"
   ]
  },
  {
   "cell_type": "code",
   "execution_count": 5,
   "metadata": {},
   "outputs": [
    {
     "name": "stdout",
     "output_type": "stream",
     "text": [
      "0.36787945\n"
     ]
    }
   ],
   "source": [
    "tf.print(tf.exp(-1.0))"
   ]
  },
  {
   "attachments": {
    "image.png": {
     "image/png": "[encoded data removed]"
    }
   },
   "cell_type": "markdown",
   "metadata": {},
   "source": [
    "### tf.keras.activations.gelu\n",
    "tf.keras.activations.gelu(\n",
    "    x, approximate=False\n",
    ")\n",
    "\n",
    "The Gaussian error linear unit (GELU) is defined as:\n",
    "\n",
    "gelu(x) = x * P(X <= x) where P(X) ~ N(0, 1), i.e. gelu(x) = 0.5 * x * (1 + erf(x / sqrt(2))).\n",
    "\n",
    "GELU weights inputs by their value, rather than gating inputs by their sign as in ReLU.\n",
    "\n",
    "* 正态分布的累积分布函数：\n",
    "\n",
    "标准差为σ 且均值为μ 的高斯分布的累积分布函数（CDF）为：\n",
    "\n",
    "![image.png](attachment:image.png)"
   ]
  },
  {
   "cell_type": "code",
   "execution_count": 7,
   "metadata": {},
   "outputs": [
    {
     "name": "stdout",
     "output_type": "stream",
     "text": [
      "[0.00503989309 0.841344714 1.95449972 -0.00404968858]\n"
     ]
    }
   ],
   "source": [
    "x = tf.constant([0.01,1.0,2.0, -3.0])\n",
    "y = tf.keras.activations.gelu(x,approximate=False)\n",
    "tf.print(y)"
   ]
  },
  {
   "cell_type": "markdown",
   "metadata": {},
   "source": [
    "### tf.keras.activations.get "
   ]
  },
  {
   "cell_type": "code",
   "execution_count": 11,
   "metadata": {},
   "outputs": [
    {
     "name": "stdout",
     "output_type": "stream",
     "text": [
      "[0.00589975 0.118499652 0.875600576]\n"
     ]
    }
   ],
   "source": [
    "get=tf.keras.activations.get(\"softmax\")\n",
    "x = tf.constant([-1.0,2.0,4.0])\n",
    "y = get(x)\n",
    "tf.print(y)"
   ]
  },
  {
   "cell_type": "markdown",
   "metadata": {},
   "source": [
    "### tf.keras.activations.hard_sigmoid\n",
    "\n",
    "tf.keras.activations.hard_sigmoid(\n",
    "    x\n",
    ")\n",
    "\n",
    "The hard sigmoid activation is defined as:\n",
    "\n",
    "    - `0` if `if x < -2.5`\n",
    "    - `1` if `x > 2.5`\n",
    "    - `0.2 * x + 0.5` if `-2.5 <= x <= 2.5`\n",
    "\n",
    "    It's a faster, piecewise linear approximation of the sigmoid activation."
   ]
  },
  {
   "cell_type": "code",
   "execution_count": 14,
   "metadata": {},
   "outputs": [
    {
     "data": {
      "text/plain": [
       "<tf.Tensor: shape=(7,), dtype=float32, numpy=\n",
       "array([0.        , 0.16666667, 0.33333334, 0.5       , 0.6666667 ,\n",
       "       0.8333333 , 1.        ], dtype=float32)>"
      ]
     },
     "execution_count": 14,
     "metadata": {},
     "output_type": "execute_result"
    }
   ],
   "source": [
    "x = tf.constant([-3,-2,-1,0,1,2,3], dtype=tf.float32)\n",
    "y = tf.keras.activations.hard_sigmoid(x)\n",
    "y"
   ]
  },
  {
   "cell_type": "markdown",
   "metadata": {},
   "source": [
    "### tf.keras.activations.leaky_relu\n",
    "tf.keras.activations.leaky_relu(\n",
    "    x, negative_slope=0.2\n",
    ")"
   ]
  },
  {
   "cell_type": "markdown",
   "metadata": {},
   "source": [
    "### "
   ]
  },
  {
   "cell_type": "code",
   "execution_count": 16,
   "metadata": {},
   "outputs": [
    {
     "data": {
      "text/plain": [
       "<tf.Tensor: shape=(10,), dtype=float32, numpy=\n",
       "array([-0.4, -0.3, -0.2, -0.1,  0. ,  1. ,  2. ,  3. ,  4. ,  5. ],\n",
       "      dtype=float32)>"
      ]
     },
     "execution_count": 16,
     "metadata": {},
     "output_type": "execute_result"
    }
   ],
   "source": [
    "x = tf.constant([-4,-3,-2,-1,0,1,2,3,4,5], dtype=tf.float32)\n",
    "y = tf.keras.activations.leaky_relu(x, negative_slope=0.1)\n",
    "y"
   ]
  },
  {
   "cell_type": "markdown",
   "metadata": {},
   "source": [
    "### tf.keras.activations.linear\n",
    "\n",
    "tf.keras.activations.linear(\n",
    "    x\n",
    ")\n",
    "\n",
    "A \"linear\" activation is an identity function: it returns the input, unmodified."
   ]
  },
  {
   "cell_type": "markdown",
   "metadata": {},
   "source": [
    "### tf.keras.activations.log_softmax\n",
    "log_softmax(x, axis=-1):\n",
    "\n",
    "    \"\"\"Log-Softmax activation function.\n",
    "\n",
    "    Each input vector is handled independently.\n",
    "    The `axis` argument sets which axis of the input the function\n",
    "    is applied along.\n",
    "\n",
    "    Args:\n",
    "        x: Input tensor.\n",
    "        axis: Integer, axis along which the softmax is applied.\n",
    "    \"\"\""
   ]
  },
  {
   "cell_type": "code",
   "execution_count": 18,
   "metadata": {},
   "outputs": [
    {
     "name": "stdout",
     "output_type": "stream",
     "text": [
      "[0.0320586041 0.0871443227 0.236882836 0.643914282] [-3.4401896 -2.4401896 -1.44018972 -0.440189689]\n"
     ]
    }
   ],
   "source": [
    "x=tf.constant([-1,0,1,2], dtype=tf.float32)\n",
    "y1=tf.keras.activations.softmax(x, axis=-1)\n",
    "y2=tf.keras.activations.log_softmax(x, axis=-1)\n",
    "tf.print(y1,y2)"
   ]
  },
  {
   "cell_type": "code",
   "execution_count": 20,
   "metadata": {},
   "outputs": [
    {
     "data": {
      "text/plain": [
       "<tf.Tensor: shape=(4,), dtype=float32, numpy=array([-3.4401896 , -2.4401896 , -1.4401896 , -0.44018966], dtype=float32)>"
      ]
     },
     "execution_count": 20,
     "metadata": {},
     "output_type": "execute_result"
    }
   ],
   "source": [
    "x1=tf.constant([0.0320586041,0.0871443227,0.236882836,0.643914282])\n",
    "tf.math.log(x1)"
   ]
  },
  {
   "cell_type": "markdown",
   "metadata": {},
   "source": [
    "# tf.keras.activations.mish\n",
    "tf.keras.activations.mish(\n",
    "    x\n",
    ")\n",
    "\n",
    "It is defined as:\n",
    "mish(x) = x * tanh(softplus(x))\n",
    "\n",
    "where softplus is defined as:\n",
    "\n",
    "softplus(x) = log(exp(x) + 1)"
   ]
  },
  {
   "cell_type": "code",
   "execution_count": 23,
   "metadata": {},
   "outputs": [
    {
     "name": "stdout",
     "output_type": "stream",
     "text": [
      "[[-0.30340144 0 0.865098357]\n",
      " [-0.252501488 -0.30340144 0.865098357]]\n",
      "[[-0.30340144 0 0.865098357]\n",
      " [-0.252501488 -0.30340144 0.865098357]]\n"
     ]
    }
   ],
   "source": [
    "x = tf.constant([[-1,0,1],[-2,-1,1]], dtype=tf.float32)\n",
    "y = tf.keras.activations.mish(x)\n",
    "y1 = tf.keras.activations.softplus(x)\n",
    "y2 = x * tf.math.tanh(y1)\n",
    "tf.print(y)\n",
    "tf.print(y2)"
   ]
  },
  {
   "cell_type": "markdown",
   "metadata": {},
   "source": [
    "# tf.keras.activations.relu\n",
    "\n",
    "tf.keras.activations.relu(\n",
    "    x, negative_slope=0.0, max_value=None, threshold=0.0\n",
    ")\n",
    "\n",
    "With default values, this returns the standard ReLU activation: max(x, 0), the element-wise maximum of 0 and the input tensor.\n",
    "\n",
    "Modifying default parameters allows you to use non-zero thresholds, change the max value of the activation, and to use a non-zero multiple of the input for values below the threshold.\n",
    "\n",
    "Args\n",
    "* x\tInput tensor.\n",
    "* negative_slope\tA float that controls the slope for values lower than the threshold.\n",
    "* max_value\tA float that sets the saturation threshold (the largest value the function will return).\n",
    "* threshold\tA float giving the threshold value of the activation function below which values will be damped or set to zero."
   ]
  },
  {
   "cell_type": "code",
   "execution_count": 25,
   "metadata": {},
   "outputs": [
    {
     "data": {
      "text/plain": [
       "<tf.Tensor: shape=(5,), dtype=float32, numpy=array([ 0.,  0.,  0.,  5., 10.], dtype=float32)>"
      ]
     },
     "execution_count": 25,
     "metadata": {},
     "output_type": "execute_result"
    }
   ],
   "source": [
    "x = [-10, -5, 0.0, 5, 10]\n",
    "tf.keras.activations.relu(x)"
   ]
  },
  {
   "cell_type": "code",
   "execution_count": 26,
   "metadata": {},
   "outputs": [
    {
     "data": {
      "text/plain": [
       "<tf.Tensor: shape=(5,), dtype=float32, numpy=array([-5. , -2.5,  0. ,  5. , 10. ], dtype=float32)>"
      ]
     },
     "execution_count": 26,
     "metadata": {},
     "output_type": "execute_result"
    }
   ],
   "source": [
    "tf.keras.activations.relu(x,negative_slope=0.5)"
   ]
  },
  {
   "cell_type": "code",
   "execution_count": 27,
   "metadata": {},
   "outputs": [
    {
     "data": {
      "text/plain": [
       "<tf.Tensor: shape=(5,), dtype=float32, numpy=array([0., 0., 0., 5., 5.], dtype=float32)>"
      ]
     },
     "execution_count": 27,
     "metadata": {},
     "output_type": "execute_result"
    }
   ],
   "source": [
    "tf.keras.activations.relu(x, max_value=5)"
   ]
  },
  {
   "cell_type": "code",
   "execution_count": 29,
   "metadata": {},
   "outputs": [
    {
     "data": {
      "text/plain": [
       "<tf.Tensor: shape=(5,), dtype=float32, numpy=array([-0., -0.,  0.,  0., 10.], dtype=float32)>"
      ]
     },
     "execution_count": 29,
     "metadata": {},
     "output_type": "execute_result"
    }
   ],
   "source": [
    "# threshold\tA float giving the threshold value of the activation function below which values will be damped or set to zero.\n",
    "tf.keras.activations.relu(x, threshold=5)"
   ]
  },
  {
   "cell_type": "markdown",
   "metadata": {},
   "source": [
    "# tf.keras.activations.selu\n",
    "    \"\"\"Scaled Exponential Linear Unit (SELU).\n",
    "\n",
    "    The Scaled Exponential Linear Unit (SELU) activation function is defined as:\n",
    "\n",
    "    - `scale * x` if `x > 0`\n",
    "    - `scale * alpha * (exp(x) - 1)` if `x < 0`\n",
    "\n",
    "    where `alpha` and `scale` are pre-defined constants\n",
    "    (`alpha=1.67326324` and `scale=1.05070098`).\n",
    "\n",
    "    Basically, the SELU activation function multiplies `scale` (> 1) with the\n",
    "    output of the `keras.activations.elu` function to ensure a slope larger\n",
    "    than one for positive inputs.\n",
    "\n",
    "    The values of `alpha` and `scale` are\n",
    "    chosen so that the mean and variance of the inputs are preserved\n",
    "    between two consecutive layers as long as the weights are initialized\n",
    "    correctly (see `keras.initializers.LecunNormal` initializer)\n",
    "    and the number of input units is \"large enough\"\n",
    "    (see reference paper for more information).\n",
    "\n",
    "    Args:\n",
    "        x: Input tensor.\n",
    "\n",
    "    Notes:\n",
    "\n",
    "    - To be used together with the\n",
    "        `keras.initializers.LecunNormal` initializer.\n",
    "    - To be used together with the dropout variant\n",
    "        `keras.layers.AlphaDropout` (rather than regular dropout).\n",
    "\n",
    "    Reference:\n",
    "\n",
    "    - [Klambauer et al., 2017](https://arxiv.org/abs/1706.02515)\n",
    "    \"\"\""
   ]
  },
  {
   "cell_type": "code",
   "execution_count": 3,
   "metadata": {},
   "outputs": [
    {
     "data": {
      "text/plain": [
       "<tf.Tensor: shape=(6,), dtype=float32, numpy=\n",
       "array([-1.6705687, -1.1113307,  0.       ,  1.050701 ,  2.101402 ,\n",
       "        3.152103 ], dtype=float32)>"
      ]
     },
     "execution_count": 3,
     "metadata": {},
     "output_type": "execute_result"
    }
   ],
   "source": [
    "x = [-3,-1,0,1,2,3]\n",
    "x = tf.constant(x, dtype=tf.float32)\n",
    "tf.keras.activations.selu(x)"
   ]
  },
  {
   "cell_type": "code",
   "execution_count": 4,
   "metadata": {},
   "outputs": [
    {
     "data": {
      "text/plain": [
       "<tf.Tensor: shape=(6,), dtype=float32, numpy=\n",
       "array([-1.6705688, -1.1113307,  0.       ,  1.050701 ,  2.101402 ,\n",
       "        3.152103 ], dtype=float32)>"
      ]
     },
     "execution_count": 4,
     "metadata": {},
     "output_type": "execute_result"
    }
   ],
   "source": [
    "# `alpha=1.67326324` and `scale=1.05070098`\n",
    "1.05070098*tf.keras.activations.elu(x,alpha=1.67326324)"
   ]
  },
  {
   "cell_type": "markdown",
   "metadata": {},
   "source": [
    "# tf.keras.activations.sigmoid"
   ]
  },
  {
   "cell_type": "code",
   "execution_count": 5,
   "metadata": {},
   "outputs": [
    {
     "data": {
      "text/plain": [
       "<tf.Tensor: shape=(7,), dtype=float32, numpy=\n",
       "array([0.04742587, 0.11920292, 0.26894143, 0.5       , 0.7310586 ,\n",
       "       0.8807971 , 0.95257413], dtype=float32)>"
      ]
     },
     "execution_count": 5,
     "metadata": {},
     "output_type": "execute_result"
    }
   ],
   "source": [
    "x = tf.constant([-3,-2,-1,0,1,2,3], dtype=tf.float32)\n",
    "tf.keras.activations.sigmoid(x)"
   ]
  },
  {
   "cell_type": "code",
   "execution_count": 6,
   "metadata": {},
   "outputs": [
    {
     "data": {
      "text/plain": [
       "<tf.Tensor: shape=(7,), dtype=float32, numpy=\n",
       "array([0.04742587, 0.11920292, 0.26894143, 0.5       , 0.7310586 ,\n",
       "       0.880797  , 0.95257413], dtype=float32)>"
      ]
     },
     "execution_count": 6,
     "metadata": {},
     "output_type": "execute_result"
    }
   ],
   "source": [
    "1/(tf.math.exp(-1*x)+1)"
   ]
  },
  {
   "cell_type": "markdown",
   "metadata": {},
   "source": [
    "# tf.keras.activations.silu\n",
    "    \"\"\"Swish (or Silu) activation function.\n",
    "\n",
    "    It is defined as: `swish(x) = x * sigmoid(x)`.\n",
    "\n",
    "    The Swish (or Silu) activation function is a smooth,\n",
    "    non-monotonic function that is unbounded above and\n",
    "    bounded below.\n",
    "\n",
    "    Args:\n",
    "        x: Input tensor.\n",
    "\n",
    "    Reference:\n",
    "\n",
    "    - [Ramachandran et al., 2017](https://arxiv.org/abs/1710.05941)\n",
    "    \"\"\""
   ]
  },
  {
   "cell_type": "code",
   "execution_count": 7,
   "metadata": {},
   "outputs": [
    {
     "data": {
      "text/plain": [
       "<tf.Tensor: shape=(7,), dtype=float32, numpy=\n",
       "array([-0.14227763, -0.23840584, -0.26894143,  0.        ,  0.7310586 ,\n",
       "        1.7615942 ,  2.8577223 ], dtype=float32)>"
      ]
     },
     "execution_count": 7,
     "metadata": {},
     "output_type": "execute_result"
    }
   ],
   "source": [
    "x = tf.constant([-3,-2,-1,0,1,2,3], dtype=tf.float32)\n",
    "tf.keras.activations.silu(x)"
   ]
  },
  {
   "cell_type": "code",
   "execution_count": 8,
   "metadata": {},
   "outputs": [
    {
     "data": {
      "text/plain": [
       "<tf.Tensor: shape=(7,), dtype=float32, numpy=\n",
       "array([-0.14227763, -0.23840584, -0.26894143,  0.        ,  0.7310586 ,\n",
       "        1.7615942 ,  2.8577223 ], dtype=float32)>"
      ]
     },
     "execution_count": 8,
     "metadata": {},
     "output_type": "execute_result"
    }
   ],
   "source": [
    "x * tf.keras.activations.sigmoid(x)"
   ]
  },
  {
   "cell_type": "markdown",
   "metadata": {},
   "source": [
    "# tf.keras.activations.softmax\n",
    "\n",
    "tf.keras.activations.softmax(\n",
    "    x, axis=-1\n",
    ")"
   ]
  },
  {
   "cell_type": "code",
   "execution_count": 9,
   "metadata": {},
   "outputs": [
    {
     "data": {
      "text/plain": [
       "<tf.Tensor: shape=(7,), dtype=float32, numpy=\n",
       "array([0.0015683 , 0.00426308, 0.01158826, 0.03150015, 0.0856263 ,\n",
       "       0.23275642, 0.6326975 ], dtype=float32)>"
      ]
     },
     "execution_count": 9,
     "metadata": {},
     "output_type": "execute_result"
    }
   ],
   "source": [
    "x = tf.constant([-3,-2,-1,0,1,2,3], dtype=tf.float32)\n",
    "tf.keras.activations.softmax(x)"
   ]
  },
  {
   "cell_type": "markdown",
   "metadata": {},
   "source": [
    "# tf.keras.activations.softplus\n",
    "\n",
    "tf.keras.activations.softplus(x)\n",
    "\n",
    "It is defined as: softplus(x) = log(exp(x) + 1)."
   ]
  },
  {
   "cell_type": "code",
   "execution_count": 10,
   "metadata": {},
   "outputs": [
    {
     "data": {
      "text/plain": [
       "<tf.Tensor: shape=(7,), dtype=float32, numpy=\n",
       "array([0.04858735, 0.12692802, 0.3132617 , 0.6931472 , 1.3132616 ,\n",
       "       2.126928  , 3.0485873 ], dtype=float32)>"
      ]
     },
     "execution_count": 10,
     "metadata": {},
     "output_type": "execute_result"
    }
   ],
   "source": [
    "x = tf.constant([-3,-2,-1,0,1,2,3], dtype=tf.float32)\n",
    "tf.keras.activations.softplus(x)"
   ]
  },
  {
   "cell_type": "code",
   "execution_count": 11,
   "metadata": {},
   "outputs": [
    {
     "data": {
      "text/plain": [
       "<tf.Tensor: shape=(7,), dtype=float32, numpy=\n",
       "array([0.04858733, 0.12692805, 0.31326166, 0.6931472 , 1.3132616 ,\n",
       "       2.126928  , 3.0485873 ], dtype=float32)>"
      ]
     },
     "execution_count": 11,
     "metadata": {},
     "output_type": "execute_result"
    }
   ],
   "source": [
    "tf.math.log(tf.math.exp(x)+1)"
   ]
  },
  {
   "cell_type": "markdown",
   "metadata": {},
   "source": [
    "# tf.keras.activations.softsign\n",
    "\n",
    "tf.keras.activations.softsign(x)\n",
    "\n",
    "Softsign is defined as: softsign(x) = x / (abs(x) + 1)."
   ]
  },
  {
   "cell_type": "code",
   "execution_count": 12,
   "metadata": {},
   "outputs": [
    {
     "data": {
      "text/plain": [
       "<tf.Tensor: shape=(7,), dtype=float32, numpy=\n",
       "array([-0.75     , -0.6666667, -0.5      ,  0.       ,  0.5      ,\n",
       "        0.6666667,  0.75     ], dtype=float32)>"
      ]
     },
     "execution_count": 12,
     "metadata": {},
     "output_type": "execute_result"
    }
   ],
   "source": [
    "x = tf.constant([-3,-2,-1,0,1,2,3], dtype=tf.float32)\n",
    "tf.keras.activations.softsign(x)"
   ]
  },
  {
   "cell_type": "code",
   "execution_count": 13,
   "metadata": {},
   "outputs": [
    {
     "data": {
      "text/plain": [
       "<tf.Tensor: shape=(7,), dtype=float32, numpy=\n",
       "array([-0.75     , -0.6666667, -0.5      ,  0.       ,  0.5      ,\n",
       "        0.6666667,  0.75     ], dtype=float32)>"
      ]
     },
     "execution_count": 13,
     "metadata": {},
     "output_type": "execute_result"
    }
   ],
   "source": [
    "x/(tf.math.abs(x)+1)"
   ]
  },
  {
   "cell_type": "markdown",
   "metadata": {},
   "source": [
    "# tf.keras.activations.tanh\n",
    "tf.keras.activations.tanh(x)\n",
    "\n",
    "It is defined as:\n",
    "\n",
    "tanh(x) = sinh(x) / cosh(x), i.e. tanh(x) = ((exp(x) - exp(-x)) / (exp(x) + exp(-x))).\n"
   ]
  },
  {
   "cell_type": "code",
   "execution_count": 14,
   "metadata": {},
   "outputs": [
    {
     "data": {
      "text/plain": [
       "<tf.Tensor: shape=(7,), dtype=float32, numpy=\n",
       "array([-0.9950547, -0.9640276, -0.7615942,  0.       ,  0.7615942,\n",
       "        0.9640276,  0.9950547], dtype=float32)>"
      ]
     },
     "execution_count": 14,
     "metadata": {},
     "output_type": "execute_result"
    }
   ],
   "source": [
    "x = tf.constant([-3,-2,-1,0,1,2,3], dtype=tf.float32)\n",
    "tf.keras.activations.tanh(x)"
   ]
  },
  {
   "cell_type": "code",
   "execution_count": 15,
   "metadata": {},
   "outputs": [
    {
     "data": {
      "text/plain": [
       "<tf.Tensor: shape=(7,), dtype=float32, numpy=\n",
       "array([-0.9950547, -0.9640275, -0.7615942,  0.       ,  0.7615942,\n",
       "        0.9640275,  0.9950547], dtype=float32)>"
      ]
     },
     "execution_count": 15,
     "metadata": {},
     "output_type": "execute_result"
    }
   ],
   "source": [
    "(tf.math.exp(x)-tf.math.exp(-1*x))/(tf.math.exp(x)+tf.math.exp(-1*x))"
   ]
  }
 ],
 "metadata": {
  "kernelspec": {
   "display_name": "base",
   "language": "python",
   "name": "python3"
  },
  "language_info": {
   "codemirror_mode": {
    "name": "ipython",
    "version": 3
   },
   "file_extension": ".py",
   "mimetype": "text/x-python",
   "name": "python",
   "nbconvert_exporter": "python",
   "pygments_lexer": "ipython3",
   "version": "3.12.2"
  }
 },
 "nbformat": 4,
 "nbformat_minor": 2
}
