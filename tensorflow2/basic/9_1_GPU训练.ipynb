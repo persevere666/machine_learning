{
  "cells": [
    {
      "cell_type": "code",
      "execution_count": 7,
      "metadata": {
        "colab": {
          "base_uri": "https://localhost:8080/"
        },
        "id": "Lx541QZ-8EBg",
        "outputId": "1f66edcc-0c34-41f5-9603-68c54c72c1db"
      },
      "outputs": [
        {
          "name": "stdout",
          "output_type": "stream",
          "text": [
            "2.15.0\n"
          ]
        }
      ],
      "source": [
        "import numpy as np\n",
        "import pandas as pd\n",
        "import tensorflow as tf\n",
        "print(tf.__version__)"
      ]
    },
    {
      "cell_type": "code",
      "execution_count": 3,
      "metadata": {
        "colab": {
          "base_uri": "https://localhost:8080/"
        },
        "id": "5ndCg4Ea8gGX",
        "outputId": "fd9b3222-00fe-4c8f-fe86-4866577907d0"
      },
      "outputs": [
        {
          "name": "stdout",
          "output_type": "stream",
          "text": [
            "Downloading data from https://storage.googleapis.com/tensorflow/tf-keras-datasets/reuters.npz\n",
            "2110848/2110848 [==============================] - 0s 0us/step\n"
          ]
        }
      ],
      "source": [
        "MAX_LEN = 300\n",
        "BATCH_SIZE = 32\n",
        "(x_train,y_train),(x_test,y_test) = tf.keras.datasets.reuters.load_data()"
      ]
    },
    {
      "cell_type": "code",
      "execution_count": 8,
      "metadata": {
        "colab": {
          "base_uri": "https://localhost:8080/"
        },
        "id": "TeB0CPo9A-Vn",
        "outputId": "f35b3248-f003-4d99-9a2f-4c8108cf030d"
      },
      "outputs": [
        {
          "name": "stdout",
          "output_type": "stream",
          "text": [
            "(8982, 300)\n"
          ]
        }
      ],
      "source": [
        "print(x_train.shape)"
      ]
    },
    {
      "cell_type": "code",
      "execution_count": 4,
      "metadata": {
        "id": "vAnL72HcAT6H"
      },
      "outputs": [],
      "source": [
        "x_train = tf.keras.utils.pad_sequences(x_train, maxlen=MAX_LEN, padding='post')\n",
        "x_test = tf.keras.utils.pad_sequences(x_test, maxlen=MAX_LEN, padding='post')\n",
        "\n",
        "MAX_WORDS = x_train.max()+1\n",
        "CAT_NUM = y_train.max()+1\n",
        "\n",
        "ds_train = tf.data.Dataset.from_tensor_slices((x_train,y_train)) \\\n",
        "          .shuffle(buffer_size = 1000).batch(BATCH_SIZE) \\\n",
        "          .prefetch(tf.data.experimental.AUTOTUNE).cache()\n",
        "\n",
        "ds_test = tf.data.Dataset.from_tensor_slices((x_test,y_test)) \\\n",
        "          .shuffle(buffer_size = 1000).batch(BATCH_SIZE) \\\n",
        "          .prefetch(tf.data.experimental.AUTOTUNE).cache()"
      ]
    },
    {
      "cell_type": "code",
      "execution_count": 9,
      "metadata": {
        "colab": {
          "base_uri": "https://localhost:8080/"
        },
        "id": "nCyNFORcAYLC",
        "outputId": "fe9c0b1c-d989-46e5-db5a-987aa091f4eb"
      },
      "outputs": [
        {
          "name": "stdout",
          "output_type": "stream",
          "text": [
            "Model: \"sequential_2\"\n",
            "_________________________________________________________________\n",
            " Layer (type)                Output Shape              Param #   \n",
            "=================================================================\n",
            " embedding_2 (Embedding)     (None, 300, 7)            216874    \n",
            "                                                                 \n",
            " conv1d_4 (Conv1D)           (None, 296, 64)           2304      \n",
            "                                                                 \n",
            " max_pooling1d_4 (MaxPoolin  (None, 148, 64)           0         \n",
            " g1D)                                                            \n",
            "                                                                 \n",
            " conv1d_5 (Conv1D)           (None, 146, 32)           6176      \n",
            "                                                                 \n",
            " max_pooling1d_5 (MaxPoolin  (None, 73, 32)            0         \n",
            " g1D)                                                            \n",
            "                                                                 \n",
            " flatten_2 (Flatten)         (None, 2336)              0         \n",
            "                                                                 \n",
            " dense_2 (Dense)             (None, 46)                107502    \n",
            "                                                                 \n",
            "=================================================================\n",
            "Total params: 332856 (1.27 MB)\n",
            "Trainable params: 332856 (1.27 MB)\n",
            "Non-trainable params: 0 (0.00 Byte)\n",
            "_________________________________________________________________\n"
          ]
        }
      ],
      "source": [
        "def create_model():\n",
        "\n",
        "    model = tf.keras.models.Sequential()\n",
        "    model.add(tf.keras.Input(shape=(300,)))\n",
        "    model.add(tf.keras.layers.Embedding(MAX_WORDS,7))\n",
        "    model.add(tf.keras.layers.Conv1D(filters = 64,kernel_size = 5,activation = \"relu\"))\n",
        "    model.add(tf.keras.layers.MaxPool1D(2))\n",
        "    model.add(tf.keras.layers.Conv1D(filters = 32,kernel_size = 3,activation = \"relu\"))\n",
        "    model.add(tf.keras.layers.MaxPool1D(2))\n",
        "    model.add(tf.keras.layers.Flatten())\n",
        "    model.add(tf.keras.layers.Dense(CAT_NUM, activation = \"softmax\"))\n",
        "    return(model)\n",
        "\n",
        "def compile_model(model):\n",
        "    model.compile(optimizer=tf.keras.optimizers.Nadam(),\n",
        "                loss=tf.keras.losses.SparseCategoricalCrossentropy(),\n",
        "                metrics=[tf.keras.metrics.SparseCategoricalAccuracy(),tf.keras.metrics.SparseTopKCategoricalAccuracy(5)])\n",
        "    return(model)"
      ]
    },
    {
      "cell_type": "code",
      "execution_count": 10,
      "metadata": {
        "colab": {
          "base_uri": "https://localhost:8080/"
        },
        "id": "8gxyntmoBbb_",
        "outputId": "550000ca-ca55-48cb-c021-f87d70536029"
      },
      "outputs": [
        {
          "name": "stdout",
          "output_type": "stream",
          "text": [
            "Model: \"sequential_3\"\n",
            "_________________________________________________________________\n",
            " Layer (type)                Output Shape              Param #   \n",
            "=================================================================\n",
            " embedding_3 (Embedding)     (None, 300, 7)            216874    \n",
            "                                                                 \n",
            " conv1d_6 (Conv1D)           (None, 296, 64)           2304      \n",
            "                                                                 \n",
            " max_pooling1d_6 (MaxPoolin  (None, 148, 64)           0         \n",
            " g1D)                                                            \n",
            "                                                                 \n",
            " conv1d_7 (Conv1D)           (None, 146, 32)           6176      \n",
            "                                                                 \n",
            " max_pooling1d_7 (MaxPoolin  (None, 73, 32)            0         \n",
            " g1D)                                                            \n",
            "                                                                 \n",
            " flatten_3 (Flatten)         (None, 2336)              0         \n",
            "                                                                 \n",
            " dense_3 (Dense)             (None, 46)                107502    \n",
            "                                                                 \n",
            "=================================================================\n",
            "Total params: 332856 (1.27 MB)\n",
            "Trainable params: 332856 (1.27 MB)\n",
            "Non-trainable params: 0 (0.00 Byte)\n",
            "_________________________________________________________________\n",
            "Epoch 1/10\n",
            "281/281 [==============================] - 53s 173ms/step - loss: 2.0020 - sparse_categorical_accuracy: 0.4786 - sparse_top_k_categorical_accuracy: 0.7457 - val_loss: 1.6072 - val_sparse_categorical_accuracy: 0.5908 - val_sparse_top_k_categorical_accuracy: 0.7680\n",
            "Epoch 2/10\n",
            "281/281 [==============================] - 2s 7ms/step - loss: 1.3904 - sparse_categorical_accuracy: 0.6454 - sparse_top_k_categorical_accuracy: 0.8104 - val_loss: 1.4587 - val_sparse_categorical_accuracy: 0.6451 - val_sparse_top_k_categorical_accuracy: 0.8068\n",
            "Epoch 3/10\n",
            "281/281 [==============================] - 2s 8ms/step - loss: 1.0559 - sparse_categorical_accuracy: 0.7337 - sparse_top_k_categorical_accuracy: 0.8739 - val_loss: 1.5068 - val_sparse_categorical_accuracy: 0.6451 - val_sparse_top_k_categorical_accuracy: 0.8157\n",
            "Epoch 4/10\n",
            "281/281 [==============================] - 3s 11ms/step - loss: 0.7571 - sparse_categorical_accuracy: 0.8073 - sparse_top_k_categorical_accuracy: 0.9333 - val_loss: 1.7169 - val_sparse_categorical_accuracy: 0.6331 - val_sparse_top_k_categorical_accuracy: 0.8192\n",
            "Epoch 5/10\n",
            "281/281 [==============================] - 2s 8ms/step - loss: 0.5295 - sparse_categorical_accuracy: 0.8706 - sparse_top_k_categorical_accuracy: 0.9646 - val_loss: 1.9267 - val_sparse_categorical_accuracy: 0.6273 - val_sparse_top_k_categorical_accuracy: 0.8210\n",
            "Epoch 6/10\n",
            "281/281 [==============================] - 2s 8ms/step - loss: 0.3952 - sparse_categorical_accuracy: 0.9061 - sparse_top_k_categorical_accuracy: 0.9792 - val_loss: 2.1381 - val_sparse_categorical_accuracy: 0.6269 - val_sparse_top_k_categorical_accuracy: 0.8215\n",
            "Epoch 7/10\n",
            "281/281 [==============================] - 2s 8ms/step - loss: 0.3207 - sparse_categorical_accuracy: 0.9238 - sparse_top_k_categorical_accuracy: 0.9878 - val_loss: 2.2972 - val_sparse_categorical_accuracy: 0.6398 - val_sparse_top_k_categorical_accuracy: 0.8268\n",
            "Epoch 8/10\n",
            "281/281 [==============================] - 2s 8ms/step - loss: 0.2704 - sparse_categorical_accuracy: 0.9345 - sparse_top_k_categorical_accuracy: 0.9909 - val_loss: 2.4959 - val_sparse_categorical_accuracy: 0.6385 - val_sparse_top_k_categorical_accuracy: 0.8224\n",
            "Epoch 9/10\n",
            "281/281 [==============================] - 3s 10ms/step - loss: 0.2379 - sparse_categorical_accuracy: 0.9412 - sparse_top_k_categorical_accuracy: 0.9928 - val_loss: 2.6287 - val_sparse_categorical_accuracy: 0.6327 - val_sparse_top_k_categorical_accuracy: 0.8224\n",
            "Epoch 10/10\n",
            "281/281 [==============================] - 2s 8ms/step - loss: 0.2144 - sparse_categorical_accuracy: 0.9471 - sparse_top_k_categorical_accuracy: 0.9947 - val_loss: 2.8168 - val_sparse_categorical_accuracy: 0.6278 - val_sparse_top_k_categorical_accuracy: 0.8219\n"
          ]
        }
      ],
      "source": [
        "#增加以下两行代码\n",
        "strategy = tf.distribute.MirroredStrategy()\n",
        "with strategy.scope():\n",
        "    model = create_model()\n",
        "    model.summary()\n",
        "    model = compile_model(model)\n",
        "\n",
        "history = model.fit(ds_train,validation_data = ds_test,epochs = 10)"
      ]
    }
  ],
  "metadata": {
    "accelerator": "GPU",
    "colab": {
      "gpuType": "T4",
      "provenance": [],
      "toc_visible": true
    },
    "kernelspec": {
      "display_name": "Python 3",
      "name": "python3"
    },
    "language_info": {
      "name": "python",
      "version": "3.12.2"
    }
  },
  "nbformat": 4,
  "nbformat_minor": 0
}
