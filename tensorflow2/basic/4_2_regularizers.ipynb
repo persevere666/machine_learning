{
 "cells": [
  {
   "cell_type": "code",
   "execution_count": 15,
   "metadata": {},
   "outputs": [],
   "source": [
    "import tensorflow as tf\n",
    "import keras"
   ]
  },
  {
   "cell_type": "code",
   "execution_count": 5,
   "metadata": {},
   "outputs": [
    {
     "data": {
      "text/plain": [
       "<Dense name=dense, built=False>"
      ]
     },
     "execution_count": 5,
     "metadata": {},
     "output_type": "execute_result"
    }
   ],
   "source": [
    "tf.keras.layers.Dense(32)"
   ]
  },
  {
   "cell_type": "code",
   "execution_count": 13,
   "metadata": {},
   "outputs": [],
   "source": [
    "import keras.regularizers as reg"
   ]
  },
  {
   "cell_type": "code",
   "execution_count": 17,
   "metadata": {},
   "outputs": [],
   "source": [
    "import re\n",
    "def to_snake_case(name):\n",
    "    name = re.sub(r\"\\W+\", \"\", name)\n",
    "    name = re.sub(\"(.)([A-Z][a-z]+)\", r\"\\1_\\2\", name)\n",
    "    name = re.sub(\"([a-z])([A-Z])\", r\"\\1_\\2\", name).lower()\n",
    "    return name\n",
    "\n",
    "ALL_OBJECTS = {\n",
    "    reg.Regularizer,\n",
    "    reg.L1,\n",
    "    reg.L2,\n",
    "    reg.L1L2,\n",
    "    reg.OrthogonalRegularizer,\n",
    "}\n",
    "\n",
    "ALL_OBJECTS_DICT = {cls.__name__: cls for cls in ALL_OBJECTS}\n",
    "ALL_OBJECTS_DICT.update(\n",
    "    {to_snake_case(cls.__name__): cls for cls in ALL_OBJECTS}\n",
    ")"
   ]
  },
  {
   "cell_type": "code",
   "execution_count": 18,
   "metadata": {},
   "outputs": [
    {
     "name": "stdout",
     "output_type": "stream",
     "text": [
      "OrthogonalRegularizer <class 'keras.src.regularizers.regularizers.OrthogonalRegularizer'>\n",
      "L1 <class 'keras.src.regularizers.regularizers.L1'>\n",
      "L1L2 <class 'keras.src.regularizers.regularizers.L1L2'>\n",
      "Regularizer <class 'keras.src.regularizers.regularizers.Regularizer'>\n",
      "L2 <class 'keras.src.regularizers.regularizers.L2'>\n",
      "orthogonal_regularizer <class 'keras.src.regularizers.regularizers.OrthogonalRegularizer'>\n",
      "l1 <class 'keras.src.regularizers.regularizers.L1'>\n",
      "l1l2 <class 'keras.src.regularizers.regularizers.L1L2'>\n",
      "regularizer <class 'keras.src.regularizers.regularizers.Regularizer'>\n",
      "l2 <class 'keras.src.regularizers.regularizers.L2'>\n"
     ]
    }
   ],
   "source": [
    "for key,value in ALL_OBJECTS_DICT.items():\n",
    "    print(key, value)"
   ]
  },
  {
   "cell_type": "code",
   "execution_count": 20,
   "metadata": {},
   "outputs": [],
   "source": [
    "dense = tf.keras.layers.Dense(3, kernel_regularizer='l1l2')"
   ]
  }
 ],
 "metadata": {
  "kernelspec": {
   "display_name": "base",
   "language": "python",
   "name": "python3"
  },
  "language_info": {
   "codemirror_mode": {
    "name": "ipython",
    "version": 3
   },
   "file_extension": ".py",
   "mimetype": "text/x-python",
   "name": "python",
   "nbconvert_exporter": "python",
   "pygments_lexer": "ipython3",
   "version": "3.12.2"
  }
 },
 "nbformat": 4,
 "nbformat_minor": 2
}
