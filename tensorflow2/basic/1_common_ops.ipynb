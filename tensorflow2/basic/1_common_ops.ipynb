{
 "cells": [
  {
   "cell_type": "code",
   "execution_count": 3,
   "metadata": {},
   "outputs": [],
   "source": [
    "import tensorflow as tf\n",
    "import numpy as np"
   ]
  },
  {
   "cell_type": "code",
   "execution_count": 2,
   "metadata": {},
   "outputs": [
    {
     "data": {
      "text/plain": [
       "[<tf.Tensor: shape=(4,), dtype=int32, numpy=array([0, 1, 2, 3], dtype=int32)>,\n",
       " <tf.Tensor: shape=(4,), dtype=int32, numpy=array([4, 5, 6, 7], dtype=int32)>,\n",
       " <tf.Tensor: shape=(4,), dtype=int32, numpy=array([ 8,  9, 10, 11], dtype=int32)>]"
      ]
     },
     "execution_count": 2,
     "metadata": {},
     "output_type": "execute_result"
    }
   ],
   "source": [
    "x = tf.reshape(tf.range(12),(3,4))\n",
    "y = tf.unstack(x)\n",
    "y"
   ]
  },
  {
   "cell_type": "markdown",
   "metadata": {},
   "source": [
    "##"
   ]
  },
  {
   "cell_type": "markdown",
   "metadata": {},
   "source": [
    "## tf.tile(input, multiples, name)\n",
    "```\n",
    "Args:\n",
    "    input: A `Tensor`. Can be of any rank.\n",
    "    multiples: A `Tensor`. Must be one of the following types: `int32`, `int64`.\n",
    "      1-D. Length must be the same as the number of dimensions in `input`\n",
    "    name: A name for the operation (optional).\n",
    "\n",
    "Returns:\n",
    "    A `Tensor`. Has the same type as `input`.\n",
    "```\n"
   ]
  },
  {
   "cell_type": "code",
   "execution_count": 4,
   "metadata": {},
   "outputs": [
    {
     "data": {
      "text/plain": [
       "<tf.Tensor: shape=(2, 6), dtype=int32, numpy=\n",
       "array([[1, 2, 3, 1, 2, 3],\n",
       "       [4, 5, 6, 4, 5, 6]], dtype=int32)>"
      ]
     },
     "execution_count": 4,
     "metadata": {},
     "output_type": "execute_result"
    }
   ],
   "source": [
    "a = tf.constant([[1,2,3],[4,5,6]], tf.int32)\n",
    "b = tf.constant([1,2], tf.int32)\n",
    "tf.tile(a, b)"
   ]
  },
  {
   "cell_type": "markdown",
   "metadata": {},
   "source": [
    "## tf.where\n"
   ]
  },
  {
   "cell_type": "code",
   "execution_count": 6,
   "metadata": {},
   "outputs": [
    {
     "data": {
      "text/plain": [
       "<tf.Tensor: shape=(2, 1), dtype=int64, numpy=\n",
       "array([[0],\n",
       "       [3]])>"
      ]
     },
     "execution_count": 6,
     "metadata": {},
     "output_type": "execute_result"
    }
   ],
   "source": [
    "tf.where([True, False, False, True])"
   ]
  },
  {
   "cell_type": "markdown",
   "metadata": {},
   "source": [
    "## tf.TensorArray\n"
   ]
  },
  {
   "cell_type": "code",
   "execution_count": 11,
   "metadata": {},
   "outputs": [
    {
     "data": {
      "text/plain": [
       "<tensorflow.python.ops.tensor_array_ops.TensorArray at 0x1241fe0f0>"
      ]
     },
     "execution_count": 11,
     "metadata": {},
     "output_type": "execute_result"
    }
   ],
   "source": [
    "ta = tf.TensorArray(tf.float32, size=2, dynamic_size=True)\n",
    "ta.unstack([0., 1., 3.])"
   ]
  },
  {
   "cell_type": "code",
   "execution_count": 12,
   "metadata": {},
   "outputs": [
    {
     "data": {
      "text/plain": [
       "<tf.Tensor: shape=(3,), dtype=float32, numpy=array([0., 1., 3.], dtype=float32)>"
      ]
     },
     "execution_count": 12,
     "metadata": {},
     "output_type": "execute_result"
    }
   ],
   "source": [
    "ta.stack()"
   ]
  },
  {
   "cell_type": "markdown",
   "metadata": {},
   "source": [
    "## tf.while_loop\n",
    "Repeat body while the condition cond is true. (deprecated argument values)\n",
    "```\n",
    "back_prop=False is deprecated. Consider using tf.stop_gradient instead.\n",
    "Instead of:\n",
    "results = tf.while_loop(c, b, vars, back_prop=False)\n",
    "Use:\n",
    "results = tf.nest.map_structure(tf.stop_gradient, tf.while_loop(c, b, vars))\n",
    "\n",
    "tf.while_loop(\n",
    "    cond,\n",
    "    body,\n",
    "    loop_vars,\n",
    "    shape_invariants=None,\n",
    "    parallel_iterations=10,\n",
    "    back_prop=True,\n",
    "    swap_memory=False,\n",
    "    maximum_iterations=None,\n",
    "    name=None\n",
    ")\n",
    "Returns:\n",
    "    The output tensors for the loop variables after the loop. The return value\n",
    "      has the same structure as `loop_vars`.\n",
    "\n",
    "```"
   ]
  },
  {
   "cell_type": "code",
   "execution_count": null,
   "metadata": {},
   "outputs": [],
   "source": []
  },
  {
   "cell_type": "markdown",
   "metadata": {},
   "source": [
    "## tf.keras.ops.while_loop\n",
    "```\n",
    "tf.keras.ops.while_loop(\n",
    "    cond, body, loop_vars, maximum_iterations=None\n",
    ")\n",
    "Args:\n",
    "    cond: A callable that represents the termination condition of the loop.\n",
    "        Must accept a `loop_vars` like structure as an argument. If\n",
    "        `loop_vars` is a tuple or list, each element of `loop_vars` will be\n",
    "        passed positionally to the callable.\n",
    "    body: A callable that represents the loop body. Must accept a\n",
    "        `loop_vars` like structure as an argument, and return update value\n",
    "        with the same structure. If `loop_vars` is a tuple or list, each\n",
    "        element of `loop_vars` will be passed positionally to the callable.\n",
    "    loop_vars: An arbitrary nested structure of tensor state to persist\n",
    "        across loop iterations.\n",
    "    maximum_iterations: Optional maximum number of iterations of the while\n",
    "        loop to run. If provided, the `cond` output is AND-ed with an\n",
    "        additional condition ensuring the number of iterations executed is\n",
    "        no greater than `maximum_iterations`.\n",
    "\n",
    "Returns:\n",
    "    A list/tuple of tensors, has the same shape and dtype as `inputs`.\n",
    "```\n"
   ]
  },
  {
   "cell_type": "code",
   "execution_count": 16,
   "metadata": {},
   "outputs": [
    {
     "data": {
      "text/plain": [
       "<tf.Tensor: shape=(), dtype=int32, numpy=10>"
      ]
     },
     "execution_count": 16,
     "metadata": {},
     "output_type": "execute_result"
    }
   ],
   "source": [
    "i = 0\n",
    "cond = lambda i: i < 10\n",
    "body = lambda i: i + 1\n",
    "tf.keras.ops.while_loop(cond, body, i)"
   ]
  },
  {
   "cell_type": "code",
   "execution_count": 17,
   "metadata": {},
   "outputs": [
    {
     "data": {
      "text/plain": [
       "(<tf.Tensor: shape=(), dtype=int32, numpy=10>,\n",
       " <tf.Tensor: shape=(), dtype=int32, numpy=11>)"
      ]
     },
     "execution_count": 17,
     "metadata": {},
     "output_type": "execute_result"
    }
   ],
   "source": [
    "x, y = 0, 1\n",
    "cond = lambda x, y: x < 10\n",
    "body = lambda x, y: (x + 1, y + 1)\n",
    "tf.keras.ops.while_loop(cond, body, (x, y))\n"
   ]
  }
 ],
 "metadata": {
  "kernelspec": {
   "display_name": "base",
   "language": "python",
   "name": "python3"
  },
  "language_info": {
   "codemirror_mode": {
    "name": "ipython",
    "version": 3
   },
   "file_extension": ".py",
   "mimetype": "text/x-python",
   "name": "python",
   "nbconvert_exporter": "python",
   "pygments_lexer": "ipython3",
   "version": "3.12.2"
  }
 },
 "nbformat": 4,
 "nbformat_minor": 2
}
