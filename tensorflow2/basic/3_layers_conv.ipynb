{
 "cells": [
  {
   "cell_type": "code",
   "execution_count": 15,
   "metadata": {},
   "outputs": [],
   "source": [
    "import tensorflow as tf\n",
    "import numpy as np"
   ]
  },
  {
   "cell_type": "markdown",
   "metadata": {},
   "source": [
    "## tf.keras.layers.Conv1D\n",
    "* reference:\n",
    "   \n",
    "    https://blog.csdn.net/yinizhilianlove/article/details/127129520\n",
    "\n",
    "    https://blog.csdn.net/weixin_39910711/article/details/124678538\n",
    "* Conv1D：普通一维卷积，常用于文本。参数个数 = 输入通道数×卷积核尺寸(如3)×卷积核个数\n",
    "* \n",
    "```\n",
    "    1D convolution layer (e.g. temporal convolution).\n",
    "\n",
    "    This layer creates a convolution kernel that is convolved with the layer\n",
    "    input over a single spatial (or temporal) dimension to produce a tensor of\n",
    "    outputs. If `use_bias` is True, a bias vector is created and added to the\n",
    "    outputs. Finally, if `activation` is not `None`, it is applied to the\n",
    "    outputs as well.\n",
    "\n",
    "    Args:\n",
    "        filters: int, the dimension of the output space (the number of filters\n",
    "            in the convolution).\n",
    "        kernel_size: int or tuple/list of 1 integer, specifying the size of the\n",
    "            convolution window.\n",
    "        strides: int or tuple/list of 1 integer, specifying the stride length\n",
    "            of the convolution. `strides > 1` is incompatible with\n",
    "            `dilation_rate > 1`.\n",
    "        padding: string, `\"valid\"`, `\"same\"` or `\"causal\"`(case-insensitive).\n",
    "            `\"valid\"` means no padding. `\"same\"` results in padding evenly to\n",
    "            the left/right or up/down of the input. When `padding=\"same\"` and\n",
    "            `strides=1`, the output has the same size as the input.\n",
    "            `\"causal\"` results in causal(dilated) convolutions, e.g. `output[t]`\n",
    "            does not depend on`input[t+1:]`. Useful when modeling temporal data\n",
    "            where the model should not violate the temporal order.\n",
    "            See [WaveNet: A Generative Model for Raw Audio, section2.1](\n",
    "            https://arxiv.org/abs/1609.03499).\n",
    "        data_format: string, either `\"channels_last\"` or `\"channels_first\"`.\n",
    "            The ordering of the dimensions in the inputs. `\"channels_last\"`\n",
    "            corresponds to inputs with shape `(batch, steps, features)`\n",
    "            while `\"channels_first\"` corresponds to inputs with shape\n",
    "            `(batch, features, steps)`. It defaults to the `image_data_format`\n",
    "            value found in your Keras config file at `~/.keras/keras.json`.\n",
    "            If you never set it, then it will be `\"channels_last\"`.\n",
    "        dilation_rate: int or tuple/list of 1 integers, specifying the dilation\n",
    "            rate to use for dilated convolution.\n",
    "        groups: A positive int specifying the number of groups in which the\n",
    "            input is split along the channel axis. Each group is convolved\n",
    "            separately with `filters // groups` filters. The output is the\n",
    "            concatenation of all the `groups` results along the channel axis.\n",
    "            Input channels and `filters` must both be divisible by `groups`.\n",
    "        activation: Activation function. If `None`, no activation is applied.\n",
    "        use_bias: bool, if `True`, bias will be added to the output.\n",
    "        kernel_initializer: Initializer for the convolution kernel. If `None`,\n",
    "            the default initializer (`\"glorot_uniform\"`) will be used.\n",
    "        bias_initializer: Initializer for the bias vector. If `None`, the\n",
    "            default initializer (`\"zeros\"`) will be used.\n",
    "        kernel_regularizer: Optional regularizer for the convolution kernel.\n",
    "        bias_regularizer: Optional regularizer for the bias vector.\n",
    "        activity_regularizer: Optional regularizer function for the output.\n",
    "        kernel_constraint: Optional projection function to be applied to the\n",
    "            kernel after being updated by an `Optimizer` (e.g. used to implement\n",
    "            norm constraints or value constraints for layer weights). The\n",
    "            function must take as input the unprojected variable and must return\n",
    "            the projected variable (which must have the same shape). Constraints\n",
    "            are not safe to use when doing asynchronous distributed training.\n",
    "        bias_constraint: Optional projection function to be applied to the\n",
    "            bias after being updated by an `Optimizer`.\n",
    "\n",
    "    Input shape:\n",
    "    - If `data_format=\"channels_last\"`:\n",
    "        A 3D tensor with shape: `(batch_shape, steps, channels)`\n",
    "    - If `data_format=\"channels_first\"`:\n",
    "        A 3D tensor with shape: `(batch_shape, channels, steps)`\n",
    "\n",
    "    Output shape:\n",
    "    - If `data_format=\"channels_last\"`:\n",
    "        A 3D tensor with shape: `(batch_shape, new_steps, filters)`\n",
    "    - If `data_format=\"channels_first\"`:\n",
    "        A 3D tensor with shape: `(batch_shape, filters, new_steps)`\n",
    "\n",
    "    Returns:\n",
    "        A 3D tensor representing `activation(conv1d(inputs, kernel) + bias)`.\n",
    "\n",
    "    Raises:\n",
    "        ValueError: when both `strides > 1` and `dilation_rate > 1`.\n",
    "\n",
    "```"
   ]
  },
  {
   "cell_type": "code",
   "execution_count": 16,
   "metadata": {},
   "outputs": [
    {
     "name": "stdout",
     "output_type": "stream",
     "text": [
      "(4, 11, 32)\n"
     ]
    }
   ],
   "source": [
    "x = np.random.rand(4,11,32)\n",
    "conv1d = tf.keras.layers.Conv1D(filters=32,kernel_size=3,dilation_rate=3,padding=\"causal\")\n",
    "y = conv1d(x)\n",
    "print(y.shape)"
   ]
  },
  {
   "cell_type": "code",
   "execution_count": 17,
   "metadata": {},
   "outputs": [],
   "source": [
    "# https://zhuanlan.zhihu.com/p/648890779?utm_id=0\n",
    "input = tf.keras.layers.Input(shape=(10,5), name=\"inputs\")\n"
   ]
  },
  {
   "cell_type": "markdown",
   "metadata": {},
   "source": [
    "## tf.keras.layers.Conv2D\n",
    "    This layer creates a convolution kernel that is convolved with the layer\n",
    "    input over a single spatial (or temporal) dimension to produce a tensor of\n",
    "    outputs. If `use_bias` is True, a bias vector is created and added to the\n",
    "    outputs. Finally, if `activation` is not `None`, it is applied to the\n",
    "    outputs as well.\n",
    "\n",
    "    Args:\n",
    "        filters: int, the dimension of the output space (the number of filters\n",
    "            in the convolution).\n",
    "        kernel_size: int or tuple/list of 2 integer, specifying the size of the\n",
    "            convolution window.\n",
    "        strides: int or tuple/list of 2 integer, specifying the stride length\n",
    "            of the convolution. `strides > 1` is incompatible with\n",
    "            `dilation_rate > 1`.\n",
    "        padding: string, either `\"valid\"` or `\"same\"` (case-insensitive).\n",
    "            `\"valid\"` means no padding. `\"same\"` results in padding evenly to\n",
    "            the left/right or up/down of the input. When `padding=\"same\"` and\n",
    "            `strides=1`, the output has the same size as the input.\n",
    "        data_format: string, either `\"channels_last\"` or `\"channels_first\"`.\n",
    "            The ordering of the dimensions in the inputs. `\"channels_last\"`\n",
    "            corresponds to inputs with shape\n",
    "            `(batch_size, height, width, channels)`\n",
    "            while `\"channels_first\"` corresponds to inputs with shape\n",
    "            `(batch_size, channels, height, width)`. It defaults to the\n",
    "            `image_data_format` value found in your Keras config file at\n",
    "            `~/.keras/keras.json`. If you never set it, then it will be\n",
    "            `\"channels_last\"`.\n",
    "        dilation_rate: int or tuple/list of 2 integers, specifying the dilation\n",
    "            rate to use for dilated convolution.\n",
    "        groups: A positive int specifying the number of groups in which the\n",
    "            input is split along the channel axis. Each group is convolved\n",
    "            separately with `filters // groups` filters. The output is the\n",
    "            concatenation of all the `groups` results along the channel axis.\n",
    "            Input channels and `filters` must both be divisible by `groups`.\n",
    "        activation: Activation function. If `None`, no activation is applied.\n",
    "        use_bias: bool, if `True`, bias will be added to the output.\n",
    "        kernel_initializer: Initializer for the convolution kernel. If `None`,\n",
    "            the default initializer (`\"glorot_uniform\"`) will be used.\n",
    "        bias_initializer: Initializer for the bias vector. If `None`, the\n",
    "            default initializer (`\"zeros\"`) will be used.\n",
    "        kernel_regularizer: Optional regularizer for the convolution kernel.\n",
    "        bias_regularizer: Optional regularizer for the bias vector.\n",
    "        activity_regularizer: Optional regularizer function for the output.\n",
    "        kernel_constraint: Optional projection function to be applied to the\n",
    "            kernel after being updated by an `Optimizer` (e.g. used to implement\n",
    "            norm constraints or value constraints for layer weights). The\n",
    "            function must take as input the unprojected variable and must return\n",
    "            the projected variable (which must have the same shape). Constraints\n",
    "            are not safe to use when doing asynchronous distributed training.\n",
    "        bias_constraint: Optional projection function to be applied to the\n",
    "            bias after being updated by an `Optimizer`.\n",
    "\n",
    "    Input shape:\n",
    "    - If `data_format=\"channels_last\"`:\n",
    "        A 4D tensor with shape: `(batch_size, height, width, channels)`\n",
    "    - If `data_format=\"channels_first\"`:\n",
    "        A 4D tensor with shape: `(batch_size, channels, height, width)`\n",
    "\n",
    "    Output shape:\n",
    "    - If `data_format=\"channels_last\"`:\n",
    "        A 4D tensor with shape: `(batch_size, new_height, new_width, filters)`\n",
    "    - If `data_format=\"channels_first\"`:\n",
    "        A 4D tensor with shape: `(batch_size, filters, new_height, new_width)`\n",
    "\n",
    "    Returns:\n",
    "        A 4D tensor representing `activation(conv2d(inputs, kernel) + bias)`.\n",
    "\n",
    "    Raises:\n",
    "        ValueError: when both `strides > 1` and `dilation_rate > 1`.\n"
   ]
  },
  {
   "cell_type": "code",
   "execution_count": 18,
   "metadata": {},
   "outputs": [
    {
     "name": "stdout",
     "output_type": "stream",
     "text": [
      "tf.Tensor([ 4  8  8 32], shape=(4,), dtype=int32)\n"
     ]
    }
   ],
   "source": [
    "x = np.random.rand(4, 10, 10, 128)\n",
    "y = tf.keras.layers.Conv2D(32, 3, activation='relu')(x)\n",
    "print(tf.shape(y))"
   ]
  },
  {
   "cell_type": "markdown",
   "metadata": {},
   "source": [
    "## tf.keras.layers.Conv3D\n",
    "    filters: int, the dimension of the output space (the number of filters\n",
    "            in the convolution).\n",
    "        kernel_size: int or tuple/list of 3 integer, specifying the size of the\n",
    "            convolution window.\n",
    "        strides: int or tuple/list of 3 integer, specifying the stride length\n",
    "            of the convolution. `strides > 1` is incompatible with\n",
    "            `dilation_rate > 1`.\n",
    "        padding: string, either `\"valid\"` or `\"same\"` (case-insensitive).\n",
    "            `\"valid\"` means no padding. `\"same\"` results in padding evenly to\n",
    "            the left/right or up/down of the input. When `padding=\"same\"` and\n",
    "            `strides=1`, the output has the same size as the input.\n",
    "        data_format: string, either `\"channels_last\"` or `\"channels_first\"`.\n",
    "            The ordering of the dimensions in the inputs. `\"channels_last\"`\n",
    "            corresponds to inputs with shape\n",
    "            `(batch_size, spatial_dim1, spatial_dim2, spatial_dim3, channels)`\n",
    "            while `\"channels_first\"` corresponds to inputs with shape\n",
    "            `(batch_size, channels, spatial_dim1, spatial_dim2, spatial_dim3)`.\n",
    "            It defaults to the `image_data_format` value found in your Keras\n",
    "            config file at `~/.keras/keras.json`. If you never set it, then it\n",
    "            will be `\"channels_last\"`.\n",
    "        dilation_rate: int or tuple/list of 3 integers, specifying the dilation\n",
    "            rate to use for dilated convolution.\n",
    "        groups: A positive int specifying the number of groups in which the\n",
    "            input is split along the channel axis. Each group is convolved\n",
    "            separately with `filters // groups` filters. The output is the\n",
    "            concatenation of all the `groups` results along the channel axis.\n",
    "            Input channels and `filters` must both be divisible by `groups`.\n",
    "        activation: Activation function. If `None`, no activation is applied.\n",
    "        use_bias: bool, if `True`, bias will be added to the output.\n",
    "        kernel_initializer: Initializer for the convolution kernel. If `None`,\n",
    "            the default initializer (`\"glorot_uniform\"`) will be used.\n",
    "        bias_initializer: Initializer for the bias vector. If `None`, the\n",
    "            default initializer (`\"zeros\"`) will be used.\n",
    "        kernel_regularizer: Optional regularizer for the convolution kernel.\n",
    "        bias_regularizer: Optional regularizer for the bias vector.\n",
    "        activity_regularizer: Optional regularizer function for the output.\n",
    "        kernel_constraint: Optional projection function to be applied to the\n",
    "            kernel after being updated by an `Optimizer` (e.g. used to implement\n",
    "            norm constraints or value constraints for layer weights). The\n",
    "            function must take as input the unprojected variable and must return\n",
    "            the projected variable (which must have the same shape). Constraints\n",
    "            are not safe to use when doing asynchronous distributed training.\n",
    "        bias_constraint: Optional projection function to be applied to the\n",
    "            bias after being updated by an `Optimizer`.\n",
    "\n",
    "    Input shape:\n",
    "    - If `data_format=\"channels_last\"`:\n",
    "        5D tensor with shape:\n",
    "        `(batch_size, spatial_dim1, spatial_dim2, spatial_dim3, channels)`\n",
    "    - If `data_format=\"channels_first\"`:\n",
    "        5D tensor with shape:\n",
    "        `(batch_size, channels, spatial_dim1, spatial_dim2, spatial_dim3)`\n",
    "\n",
    "    Output shape:\n",
    "    - If `data_format=\"channels_last\"`:\n",
    "        5D tensor with shape:\n",
    "        `(batch_size, new_spatial_dim1, new_spatial_dim2, new_spatial_dim3,\n",
    "        filters)`\n",
    "    - If `data_format=\"channels_first\"`:\n",
    "        5D tensor with shape:\n",
    "        `(batch_size, filters, new_spatial_dim1, new_spatial_dim2,\n",
    "        new_spatial_dim3)`\n",
    "\n",
    "    Returns:\n",
    "        A 5D tensor representing `activation(conv3d(inputs, kernel) + bias)`.\n",
    "\n",
    "    Raises:\n",
    "        ValueError: when both `strides > 1` and `dilation_rate > 1`."
   ]
  },
  {
   "cell_type": "code",
   "execution_count": 19,
   "metadata": {},
   "outputs": [
    {
     "name": "stdout",
     "output_type": "stream",
     "text": [
      "(4, 4, 4, 4, 12)\n"
     ]
    }
   ],
   "source": [
    "x = np.random.rand(4,10,10,10,32)\n",
    "y = tf.keras.layers.Conv3D(filters=12,kernel_size=3,strides=2)(x)\n",
    "print(y.shape)"
   ]
  },
  {
   "cell_type": "markdown",
   "metadata": {},
   "source": [
    "## tf.keras.layers.Conv2DTranspose\n",
    "* 二维卷积转置层，俗称反卷积层。并非卷积的逆操作，但在卷积核相同的情况下，当其输入尺寸是卷积操作输出尺寸的情况下，卷积转置的输出尺寸恰好是卷积操作的输入尺寸。\n",
    "* 视频：https://www.bilibili.com/video/BV1mh411J7U4/?spm_id_from=333.337.search-card.all.click&vd_source=c1c07e231635072798fd6984a0d3876a\n",
    "  1. 输入特征特征元素间填充s-1行、列0\n",
    "  2. 在输入特征四周填充k-p-1行、列0\n",
    "  3. 将卷积核参数上下、左右翻转\n",
    "  4. 做正常的卷积（填充0、布距1）\n",
    "* Hout = (Hin-1)\\*stride[0] - 2\\*padding[0] + kernel_size[0]\n",
    "* Wout = (Win-1)\\*stride[1] - 2\\*padding[1] + kernel_size[1]"
   ]
  },
  {
   "cell_type": "code",
   "execution_count": 21,
   "metadata": {},
   "outputs": [
    {
     "name": "stdout",
     "output_type": "stream",
     "text": [
      "(2, 10, 10, 3)\n"
     ]
    }
   ],
   "source": [
    "x = np.random.rand(2,10,10,3)\n",
    "y = tf.keras.layers.Conv2D(filters=10,kernel_size=3,strides=1)(x)\n",
    "z = tf.keras.layers.Conv2DTranspose(filters=3,kernel_size=3,strides=1)(y)\n",
    "print(z.shape)"
   ]
  },
  {
   "cell_type": "markdown",
   "metadata": {},
   "source": [
    "## tf.keras.layers.MaxPool2D\n",
    "    tf.keras.layers.MaxPool2D(\n",
    "        pool_size=(2, 2),\n",
    "        strides=None,\n",
    "        padding='valid',\n",
    "        data_format=None,\n",
    "        name=None,\n",
    "        **kwargs\n",
    "    )\n",
    "    \n",
    "    Downsamples the input along its spatial dimensions (height and width)\n",
    "    by taking the maximum value over an input window\n",
    "    (of size defined by `pool_size`) for each channel of the input.\n",
    "    The window is shifted by `strides` along each dimension.\n",
    "\n",
    "    The resulting output when using the `\"valid\"` padding option has a spatial\n",
    "    shape (number of rows or columns) of:\n",
    "    `output_shape = math.floor((input_shape - pool_size) / strides) + 1`\n",
    "    (when `input_shape >= pool_size`)\n",
    "\n",
    "    The resulting output shape when using the `\"same\"` padding option is:\n",
    "    `output_shape = math.floor((input_shape - 1) / strides) + 1`\n",
    "\n",
    "    Args:\n",
    "        pool_size: int or tuple of 2 integers, factors by which to downscale\n",
    "            (dim1, dim2). If only one integer is specified, the same\n",
    "            window length will be used for all dimensions.\n",
    "        strides: int or tuple of 2 integers, or None. Strides values. If None,\n",
    "            it will default to `pool_size`. If only one int is specified, the\n",
    "            same stride size will be used for all dimensions.\n",
    "        padding: string, either `\"valid\"` or `\"same\"` (case-insensitive).\n",
    "            `\"valid\"` means no padding. `\"same\"` results in padding evenly to\n",
    "            the left/right or up/down of the input such that output has the same\n",
    "            height/width dimension as the input.\n",
    "        data_format: string, either `\"channels_last\"` or `\"channels_first\"`.\n",
    "            The ordering of the dimensions in the inputs. `\"channels_last\"`\n",
    "            corresponds to inputs with shape `(batch, height, width, channels)`\n",
    "            while `\"channels_first\"` corresponds to inputs with shape\n",
    "            `(batch, channels, height, width)`. It defaults to the\n",
    "            `image_data_format` value found in your Keras config file at\n",
    "            `~/.keras/keras.json`. If you never set it, then it will be\n",
    "            `\"channels_last\"`.\n",
    "\n",
    "    Input shape:\n",
    "    - If `data_format=\"channels_last\"`:\n",
    "        4D tensor with shape `(batch_size, height, width, channels)`.\n",
    "    - If `data_format=\"channels_first\"`:\n",
    "        4D tensor with shape `(batch_size, channels, height, width)`.\n",
    "\n",
    "    Output shape:\n",
    "    - If `data_format=\"channels_last\"`:\n",
    "        4D tensor with shape\n",
    "        `(batch_size, pooled_height, pooled_width, channels)`.\n",
    "    - If `data_format=\"channels_first\"`:\n",
    "        4D tensor with shape\n",
    "        `(batch_size, channels, pooled_height, pooled_width)`."
   ]
  },
  {
   "cell_type": "code",
   "execution_count": 25,
   "metadata": {},
   "outputs": [
    {
     "data": {
      "text/plain": [
       "<tf.Tensor: shape=(1, 2, 2, 1), dtype=float32, numpy=\n",
       "array([[[[4.],\n",
       "         [5.]],\n",
       "\n",
       "        [[7.],\n",
       "         [8.]]]], dtype=float32)>"
      ]
     },
     "execution_count": 25,
     "metadata": {},
     "output_type": "execute_result"
    }
   ],
   "source": [
    "x = np.arange(9).reshape(1,3,3,1)\n",
    "y = tf.keras.layers.MaxPool2D(pool_size=(2,2),strides=1)(x)\n",
    "y"
   ]
  },
  {
   "cell_type": "markdown",
   "metadata": {},
   "source": [
    "## tf.keras.layers.AveragePooling2D\n",
    "    tf.keras.layers.AveragePooling2D(\n",
    "        pool_size,\n",
    "        strides=None,\n",
    "        padding='valid',\n",
    "        data_format=None,\n",
    "        name=None,\n",
    "        **kwargs\n",
    "    )\n",
    "    Downsamples the input along its spatial dimensions (height and width)\n",
    "    by taking the average value over an input window\n",
    "    (of size defined by `pool_size`) for each channel of the input.\n",
    "    The window is shifted by `strides` along each dimension.\n",
    "\n",
    "    The resulting output when using the `\"valid\"` padding option has a spatial\n",
    "    shape (number of rows or columns) of:\n",
    "    `output_shape = math.floor((input_shape - pool_size) / strides) + 1`\n",
    "    (when `input_shape >= pool_size`)\n",
    "\n",
    "    The resulting output shape when using the `\"same\"` padding option is:\n",
    "    `output_shape = math.floor((input_shape - 1) / strides) + 1`\n",
    "\n",
    "    Args:\n",
    "        pool_size: int or tuple of 2 integers, factors by which to downscale\n",
    "            (dim1, dim2). If only one integer is specified, the same\n",
    "            window length will be used for all dimensions.\n",
    "        strides: int or tuple of 2 integers, or None. Strides values. If None,\n",
    "            it will default to `pool_size`. If only one int is specified, the\n",
    "            same stride size will be used for all dimensions.\n",
    "        padding: string, either `\"valid\"` or `\"same\"` (case-insensitive).\n",
    "            `\"valid\"` means no padding. `\"same\"` results in padding evenly to\n",
    "            the left/right or up/down of the input such that output has the same\n",
    "            height/width dimension as the input.\n",
    "        data_format: string, either `\"channels_last\"` or `\"channels_first\"`.\n",
    "            The ordering of the dimensions in the inputs. `\"channels_last\"`\n",
    "            corresponds to inputs with shape `(batch, height, width, channels)`\n",
    "            while `\"channels_first\"` corresponds to inputs with shape\n",
    "            `(batch, channels, height, width)`. It defaults to the\n",
    "            `image_data_format` value found in your Keras config file at\n",
    "            `~/.keras/keras.json`. If you never set it, then it will be\n",
    "            `\"channels_last\"`.\n",
    "\n",
    "    Input shape:\n",
    "    - If `data_format=\"channels_last\"`:\n",
    "        4D tensor with shape `(batch_size, height, width, channels)`.\n",
    "    - If `data_format=\"channels_first\"`:\n",
    "        4D tensor with shape `(batch_size, channels, height, width)`.\n",
    "\n",
    "    Output shape:\n",
    "    - If `data_format=\"channels_last\"`:\n",
    "        4D tensor with shape\n",
    "        `(batch_size, pooled_height, pooled_width, channels)`.\n",
    "    - If `data_format=\"channels_first\"`:\n",
    "        4D tensor with shape\n",
    "        `(batch_size, channels, pooled_height, pooled_width)`."
   ]
  },
  {
   "cell_type": "code",
   "execution_count": 28,
   "metadata": {},
   "outputs": [
    {
     "data": {
      "text/plain": [
       "<tf.Tensor: shape=(2, 2, 2, 1), dtype=float32, numpy=\n",
       "array([[[[0.6579932 ],\n",
       "         [0.60644126]],\n",
       "\n",
       "        [[0.54774666],\n",
       "         [0.5166114 ]]],\n",
       "\n",
       "\n",
       "       [[[0.3283871 ],\n",
       "         [0.6308077 ]],\n",
       "\n",
       "        [[0.35316724],\n",
       "         [0.42285788]]]], dtype=float32)>"
      ]
     },
     "execution_count": 28,
     "metadata": {},
     "output_type": "execute_result"
    }
   ],
   "source": [
    "x = np.random.rand(2,3,3,1)\n",
    "y = tf.keras.layers.AveragePooling2D(pool_size=2, strides=1)(x)\n",
    "y"
   ]
  },
  {
   "cell_type": "markdown",
   "metadata": {},
   "source": [
    "## tf.keras.layers.GlobalMaxPool2D\n",
    "    tf.keras.layers.GlobalMaxPool2D(\n",
    "        data_format=None, keepdims=False, **kwargs\n",
    "    )\n",
    "    Args:\n",
    "        \n",
    "        data_format: string, either `\"channels_last\"` or `\"channels_first\"`.\n",
    "            The ordering of the dimensions in the inputs. `\"channels_last\"`\n",
    "            corresponds to inputs with shape `(batch, height, width, channels)`\n",
    "            while `\"channels_first\"` corresponds to inputs with shape\n",
    "            `(batch, features, height, weight)`. It defaults to the\n",
    "            `image_data_format` value found in your Keras config file at\n",
    "            `~/.keras/keras.json`. If you never set it, then it will be\n",
    "            `\"channels_last\"`.\n",
    "        keepdims: A boolean, whether to keep the temporal dimension or not.\n",
    "            If `keepdims` is `False` (default), the rank of the tensor is\n",
    "            reduced for spatial dimensions. If `keepdims` is `True`, the\n",
    "            spatial dimension are retained with length 1.\n",
    "            The behavior is the same as for `tf.reduce_mean` or `np.mean`.\n",
    "\n",
    "    Input shape:\n",
    "\n",
    "    - If `data_format='channels_last'`:\n",
    "        4D tensor with shape:\n",
    "        `(batch_size, height, width, channels)`\n",
    "    - If `data_format='channels_first'`:\n",
    "        4D tensor with shape:\n",
    "        `(batch_size, channels, height, width)`\n",
    "\n",
    "    Output shape:\n",
    "\n",
    "    - If `keepdims=False`:\n",
    "        2D tensor with shape `(batch_size, channels)`.\n",
    "    - If `keepdims=True`:\n",
    "        - If `data_format=\"channels_last\"`:\n",
    "            4D tensor with shape `(batch_size, 1, 1, channels)`\n",
    "        - If `data_format=\"channels_first\"`:\n",
    "            4D tensor with shape `(batch_size, channels, 1, 1)`"
   ]
  },
  {
   "cell_type": "code",
   "execution_count": 31,
   "metadata": {},
   "outputs": [
    {
     "data": {
      "text/plain": [
       "<tf.Tensor: shape=(1, 4), dtype=float32, numpy=array([[12., 13., 14., 15.]], dtype=float32)>"
      ]
     },
     "execution_count": 31,
     "metadata": {},
     "output_type": "execute_result"
    }
   ],
   "source": [
    "x = np.arange(16).reshape(1,2,2,4)\n",
    "y = tf.keras.layers.GlobalMaxPool2D()(x)\n",
    "y"
   ]
  },
  {
   "cell_type": "code",
   "execution_count": 32,
   "metadata": {},
   "outputs": [
    {
     "data": {
      "text/plain": [
       "array([[[[ 0,  1,  2,  3],\n",
       "         [ 4,  5,  6,  7]],\n",
       "\n",
       "        [[ 8,  9, 10, 11],\n",
       "         [12, 13, 14, 15]]]])"
      ]
     },
     "execution_count": 32,
     "metadata": {},
     "output_type": "execute_result"
    }
   ],
   "source": [
    "x"
   ]
  },
  {
   "cell_type": "code",
   "execution_count": 33,
   "metadata": {},
   "outputs": [
    {
     "data": {
      "text/plain": [
       "<tf.Tensor: shape=(1, 4), dtype=float32, numpy=array([[12., 13., 14., 15.]], dtype=float32)>"
      ]
     },
     "execution_count": 33,
     "metadata": {},
     "output_type": "execute_result"
    }
   ],
   "source": [
    "tf.keras.layers.GlobalMaxPooling2D()(x)"
   ]
  }
 ],
 "metadata": {
  "kernelspec": {
   "display_name": "base",
   "language": "python",
   "name": "python3"
  },
  "language_info": {
   "codemirror_mode": {
    "name": "ipython",
    "version": 3
   },
   "file_extension": ".py",
   "mimetype": "text/x-python",
   "name": "python",
   "nbconvert_exporter": "python",
   "pygments_lexer": "ipython3",
   "version": "3.12.2"
  }
 },
 "nbformat": 4,
 "nbformat_minor": 2
}
