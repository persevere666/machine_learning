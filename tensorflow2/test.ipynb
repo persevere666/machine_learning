{
 "cells": [
  {
   "cell_type": "code",
   "execution_count": 1,
   "id": "d975aacc-490a-4e02-be9a-505dc6887c96",
   "metadata": {},
   "outputs": [
    {
     "name": "stderr",
     "output_type": "stream",
     "text": [
      "2023-09-21 18:13:27.855490: I tensorflow/core/platform/cpu_feature_guard.cc:182] This TensorFlow binary is optimized to use available CPU instructions in performance-critical operations.\n",
      "To enable the following instructions: AVX2 FMA, in other operations, rebuild TensorFlow with the appropriate compiler flags.\n"
     ]
    }
   ],
   "source": [
    "import tensorflow as tf\n",
    "import numpy as np"
   ]
  },
  {
   "cell_type": "code",
   "execution_count": 2,
   "id": "3ffd08b4-1176-4eaa-8be2-2e41c9cd73a8",
   "metadata": {},
   "outputs": [],
   "source": [
    "x=np.arange(10)"
   ]
  },
  {
   "cell_type": "code",
   "execution_count": 4,
   "id": "8e05b394-7659-4ba8-8e55-d11842aba811",
   "metadata": {},
   "outputs": [],
   "source": [
    "x1=np.expand_dims(x, axis=1)"
   ]
  },
  {
   "cell_type": "code",
   "execution_count": 5,
   "id": "45327865-e8a2-4603-adc4-3516314d0025",
   "metadata": {},
   "outputs": [
    {
     "data": {
      "text/plain": [
       "array([[0],\n",
       "       [1],\n",
       "       [2],\n",
       "       [3],\n",
       "       [4],\n",
       "       [5],\n",
       "       [6],\n",
       "       [7],\n",
       "       [8],\n",
       "       [9]])"
      ]
     },
     "execution_count": 5,
     "metadata": {},
     "output_type": "execute_result"
    }
   ],
   "source": [
    "x1"
   ]
  },
  {
   "cell_type": "code",
   "execution_count": 6,
   "id": "a1d6631e-b86d-41a5-bc75-5c24349f73d3",
   "metadata": {},
   "outputs": [
    {
     "name": "stdout",
     "output_type": "stream",
     "text": [
      "(10,)\n"
     ]
    }
   ],
   "source": [
    "print(x.shape)"
   ]
  },
  {
   "cell_type": "code",
   "execution_count": 7,
   "id": "82c868b6-ac78-4509-a5ca-b3651fc51c2b",
   "metadata": {},
   "outputs": [
    {
     "name": "stdout",
     "output_type": "stream",
     "text": [
      "(10, 1)\n"
     ]
    }
   ],
   "source": [
    "print(x1.shape)"
   ]
  },
  {
   "cell_type": "code",
   "execution_count": 11,
   "id": "9a2959ef-9b5a-4925-97e0-8cf90c07d6e6",
   "metadata": {},
   "outputs": [],
   "source": [
    "max_len=100\n",
    "d_model=10"
   ]
  },
  {
   "cell_type": "code",
   "execution_count": 14,
   "id": "dffb3a5b-c714-4177-8396-ce84b2996881",
   "metadata": {},
   "outputs": [],
   "source": [
    "def angle(pos, index):\n",
    "        return pos / np.power(10000, (index - index % 2) / np.float32(d_model))"
   ]
  },
  {
   "cell_type": "code",
   "execution_count": 15,
   "id": "37e36c5b-a9d7-43ab-92ac-1a944738eace",
   "metadata": {},
   "outputs": [],
   "source": [
    "pos = np.expand_dims(np.arange(0, max_len), axis=1)\n",
    "index = np.expand_dims(np.arange(0, d_model), axis=0)\n",
    "pe = angle(pos, index)"
   ]
  },
  {
   "cell_type": "code",
   "execution_count": 16,
   "id": "08e27d69-00cc-4f05-96ba-ab57e97d1bee",
   "metadata": {},
   "outputs": [
    {
     "name": "stdout",
     "output_type": "stream",
     "text": [
      "(100, 10)\n"
     ]
    }
   ],
   "source": [
    "print(pe.shape)"
   ]
  },
  {
   "cell_type": "code",
   "execution_count": null,
   "id": "a811bb3c-9e87-4b7e-90e7-65df863ba2d8",
   "metadata": {},
   "outputs": [],
   "source": []
  }
 ],
 "metadata": {
  "kernelspec": {
   "display_name": "Python 3",
   "language": "python",
   "name": "python3"
  },
  "language_info": {
   "codemirror_mode": {
    "name": "ipython",
    "version": 3
   },
   "file_extension": ".py",
   "mimetype": "text/x-python",
   "name": "python",
   "nbconvert_exporter": "python",
   "pygments_lexer": "ipython3",
   "version": "3.10.8"
  }
 },
 "nbformat": 4,
 "nbformat_minor": 5
}
