{
 "cells": [
  {
   "cell_type": "code",
   "execution_count": 1,
   "id": "d5fcf27d-f4d6-4531-a171-74c2680f53e7",
   "metadata": {},
   "outputs": [
    {
     "name": "stderr",
     "output_type": "stream",
     "text": [
      "2023-09-20 18:21:47.956314: I tensorflow/core/platform/cpu_feature_guard.cc:182] This TensorFlow binary is optimized to use available CPU instructions in performance-critical operations.\n",
      "To enable the following instructions: AVX2 FMA, in other operations, rebuild TensorFlow with the appropriate compiler flags.\n"
     ]
    }
   ],
   "source": [
    "import tensorflow as tf\n",
    "from tensorflow.keras import datasets, layers, optimizers, Sequential, metrics, losses"
   ]
  },
  {
   "cell_type": "code",
   "execution_count": 2,
   "id": "6af0db79-d9f2-401a-83e6-aee9868ad8b2",
   "metadata": {},
   "outputs": [
    {
     "name": "stdout",
     "output_type": "stream",
     "text": [
      "(60000, 28, 28) (60000,)\n"
     ]
    }
   ],
   "source": [
    "# 1.数据集准备\n",
    "(x, y), (x_val, y_val) = datasets.mnist.load_data()  # 加载数据集，返回的是两个元组，分别表示训练集和测试集\n",
    "x = tf.convert_to_tensor(x, dtype=tf.float32)/255.  # 转换为张量，并缩放到0~1\n",
    "y = tf.convert_to_tensor(y, dtype=tf.int32)  # 转换为张量（标签）\n",
    "print(x.shape, y.shape)\n",
    "train_dataset = tf.data.Dataset.from_tensor_slices((x, y))  # 构建数据集对象\n",
    "train_dataset = train_dataset.batch(32).repeat(10)  # 设置批量训练的batch为32，要将训练集重复训练10遍"
   ]
  },
  {
   "cell_type": "code",
   "execution_count": 3,
   "id": "24650f95-603f-43f1-a61c-3ed46cc2152a",
   "metadata": {},
   "outputs": [
    {
     "name": "stdout",
     "output_type": "stream",
     "text": [
      "Model: \"sequential\"\n",
      "_________________________________________________________________\n",
      " Layer (type)                Output Shape              Param #   \n",
      "=================================================================\n",
      " conv2d (Conv2D)             (None, 26, 26, 6)         60        \n",
      "                                                                 \n",
      " max_pooling2d (MaxPooling2  (None, 13, 13, 6)         0         \n",
      " D)                                                              \n",
      "                                                                 \n",
      " re_lu (ReLU)                (None, 13, 13, 6)         0         \n",
      "                                                                 \n",
      " conv2d_1 (Conv2D)           (None, 11, 11, 16)        880       \n",
      "                                                                 \n",
      " max_pooling2d_1 (MaxPoolin  (None, 5, 5, 16)          0         \n",
      " g2D)                                                            \n",
      "                                                                 \n",
      " re_lu_1 (ReLU)              (None, 5, 5, 16)          0         \n",
      "                                                                 \n",
      " flatten (Flatten)           (None, 400)               0         \n",
      "                                                                 \n",
      " dense (Dense)               (None, 120)               48120     \n",
      "                                                                 \n",
      " dense_1 (Dense)             (None, 84)                10164     \n",
      "                                                                 \n",
      " dense_2 (Dense)             (None, 10)                850       \n",
      "                                                                 \n",
      "=================================================================\n",
      "Total params: 60074 (234.66 KB)\n",
      "Trainable params: 60074 (234.66 KB)\n",
      "Non-trainable params: 0 (0.00 Byte)\n",
      "_________________________________________________________________\n"
     ]
    }
   ],
   "source": [
    "# 2.搭建网络\n",
    "network = Sequential([  # 搭建网络容器\n",
    "    layers.Conv2D(6, kernel_size=3, strides=1),  # 第一个卷积层，6个3*3*1卷积核\n",
    "    layers.MaxPooling2D(pool_size=2, strides=2),  # 池化层，卷积核2*2，步长2\n",
    "    layers.ReLU(),  # 激活函数\n",
    "    layers.Conv2D(16, kernel_size=3, strides=1),  # 第二个卷积层，16个3*3*6卷积核\n",
    "    layers.MaxPooling2D(pool_size=2, strides=2),  # 池化层\n",
    "    layers.ReLU(),  # 激活函数\n",
    "    layers.Flatten(),  # 拉直，方便全连接层处理\n",
    "\n",
    "    layers.Dense(120, activation='relu'),  # 全连接层，120个节点\n",
    "    layers.Dense(84, activation='relu'),  # 全连接层，84个节点\n",
    "    layers.Dense(10)  # 输出层，10个节点\n",
    "])\n",
    "network.build(input_shape=(None, 28, 28, 1))  # 定义输入,batch_size=32,输入图片大小是28*28,通道数为1。\n",
    "network.summary()  # 显示出每层的待优化参数量"
   ]
  },
  {
   "cell_type": "code",
   "execution_count": 5,
   "id": "8e02b7bb-eff5-4e59-9a75-1777985c581a",
   "metadata": {
    "scrolled": true
   },
   "outputs": [
    {
     "name": "stderr",
     "output_type": "stream",
     "text": [
      "WARNING:absl:`lr` is deprecated in Keras optimizer, please use `learning_rate` or use the legacy optimizer, e.g.,tf.keras.optimizers.legacy.SGD.\n"
     ]
    },
    {
     "name": "stdout",
     "output_type": "stream",
     "text": [
      "Step 0 : Loss is:  1.0376428365707397  Accuracy:  0.15625\n",
      "Step 200 : Loss is:  0.6368505954742432  Accuracy:  0.4475\n",
      "Step 400 : Loss is:  0.49935227632522583  Accuracy:  0.75140625\n",
      "Step 600 : Loss is:  0.3866470754146576  Accuracy:  0.8371875\n",
      "Step 800 : Loss is:  0.3106642961502075  Accuracy:  0.8778125\n",
      "Step 1000 : Loss is:  0.40175342559814453  Accuracy:  0.8853125\n",
      "Step 1200 : Loss is:  0.29926443099975586  Accuracy:  0.9071875\n",
      "Step 1400 : Loss is:  0.22922320663928986  Accuracy:  0.91375\n",
      "Step 1600 : Loss is:  0.2142447829246521  Accuracy:  0.91765624\n",
      "Step 1800 : Loss is:  0.242709681391716  Accuracy:  0.93578124\n",
      "Step 2000 : Loss is:  0.23537187278270721  Accuracy:  0.9501563\n",
      "Step 2200 : Loss is:  0.1548382192850113  Accuracy:  0.93421876\n",
      "Step 2400 : Loss is:  0.22432342171669006  Accuracy:  0.9348438\n",
      "Step 2600 : Loss is:  0.16739065945148468  Accuracy:  0.94625\n",
      "Step 2800 : Loss is:  0.15792438387870789  Accuracy:  0.94171876\n",
      "Step 3000 : Loss is:  0.23086220026016235  Accuracy:  0.9423438\n",
      "Step 3200 : Loss is:  0.16972161829471588  Accuracy:  0.94875\n",
      "Step 3400 : Loss is:  0.14061202108860016  Accuracy:  0.94078124\n",
      "Step 3600 : Loss is:  0.12090779840946198  Accuracy:  0.9465625\n",
      "Step 3800 : Loss is:  0.16793425381183624  Accuracy:  0.9635937\n",
      "Step 4000 : Loss is:  0.16207760572433472  Accuracy:  0.9575\n",
      "Step 4200 : Loss is:  0.13054129481315613  Accuracy:  0.94875\n",
      "Step 4400 : Loss is:  0.13492253422737122  Accuracy:  0.9559375\n",
      "Step 4600 : Loss is:  0.20338356494903564  Accuracy:  0.9554688\n",
      "Step 4800 : Loss is:  0.13657087087631226  Accuracy:  0.95421875\n",
      "Step 5000 : Loss is:  0.14204859733581543  Accuracy:  0.96\n",
      "Step 5200 : Loss is:  0.2259281873703003  Accuracy:  0.9546875\n",
      "Step 5400 : Loss is:  0.23277604579925537  Accuracy:  0.95421875\n",
      "Step 5600 : Loss is:  0.06324070692062378  Accuracy:  0.9709375\n",
      "Step 5800 : Loss is:  0.12641564011573792  Accuracy:  0.963125\n",
      "Step 6000 : Loss is:  0.12259039282798767  Accuracy:  0.958125\n",
      "Step 6200 : Loss is:  0.18332520127296448  Accuracy:  0.96171874\n",
      "Step 6400 : Loss is:  0.12354519963264465  Accuracy:  0.9653125\n",
      "Step 6600 : Loss is:  0.0985211506485939  Accuracy:  0.961875\n",
      "Step 6800 : Loss is:  0.09271258115768433  Accuracy:  0.9632813\n",
      "Step 7000 : Loss is:  0.08971929550170898  Accuracy:  0.96421874\n",
      "Step 7200 : Loss is:  0.2905493676662445  Accuracy:  0.9557812\n",
      "Step 7400 : Loss is:  0.1391948163509369  Accuracy:  0.96703124\n",
      "Step 7600 : Loss is:  0.12204074114561081  Accuracy:  0.97453123\n",
      "Step 7800 : Loss is:  0.11211884766817093  Accuracy:  0.96296877\n",
      "Step 8000 : Loss is:  0.15165264904499054  Accuracy:  0.9634375\n",
      "Step 8200 : Loss is:  0.0800546407699585  Accuracy:  0.97203124\n",
      "Step 8400 : Loss is:  0.08811017125844955  Accuracy:  0.9664062\n",
      "Step 8600 : Loss is:  0.09436015784740448  Accuracy:  0.96625\n",
      "Step 8800 : Loss is:  0.15616703033447266  Accuracy:  0.968125\n",
      "Step 9000 : Loss is:  0.11605947464704514  Accuracy:  0.9621875\n",
      "Step 9200 : Loss is:  0.07836250960826874  Accuracy:  0.9659375\n",
      "Step 9400 : Loss is:  0.08071266114711761  Accuracy:  0.9765625\n",
      "Step 9600 : Loss is:  0.16987285017967224  Accuracy:  0.9696875\n",
      "Step 9800 : Loss is:  0.057691920548677444  Accuracy:  0.9665625\n",
      "Step 10000 : Loss is:  0.1573767513036728  Accuracy:  0.97\n",
      "Step 10200 : Loss is:  0.1164485439658165  Accuracy:  0.9721875\n",
      "Step 10400 : Loss is:  0.11259771883487701  Accuracy:  0.96734375\n",
      "Step 10600 : Loss is:  0.07591155171394348  Accuracy:  0.9721875\n",
      "Step 10800 : Loss is:  0.13795062899589539  Accuracy:  0.9685938\n",
      "Step 11000 : Loss is:  0.11308151483535767  Accuracy:  0.96515626\n",
      "Step 11200 : Loss is:  0.08375483006238937  Accuracy:  0.975\n",
      "Step 11400 : Loss is:  0.114255391061306  Accuracy:  0.97546875\n",
      "Step 11600 : Loss is:  0.13813361525535583  Accuracy:  0.9696875\n",
      "Step 11800 : Loss is:  0.0772770345211029  Accuracy:  0.9710938\n",
      "Step 12000 : Loss is:  0.06503939628601074  Accuracy:  0.97609377\n",
      "Step 12200 : Loss is:  0.07499916851520538  Accuracy:  0.97328126\n",
      "Step 12400 : Loss is:  0.13079716265201569  Accuracy:  0.97078127\n",
      "Step 12600 : Loss is:  0.08423928171396255  Accuracy:  0.9710938\n",
      "Step 12800 : Loss is:  0.09004349261522293  Accuracy:  0.968125\n",
      "Step 13000 : Loss is:  0.08665731549263  Accuracy:  0.97296876\n",
      "Step 13200 : Loss is:  0.16559651494026184  Accuracy:  0.9803125\n",
      "Step 13400 : Loss is:  0.08877046406269073  Accuracy:  0.971875\n",
      "Step 13600 : Loss is:  0.06156662851572037  Accuracy:  0.9739063\n",
      "Step 13800 : Loss is:  0.09929554909467697  Accuracy:  0.9767187\n",
      "Step 14000 : Loss is:  0.07200998812913895  Accuracy:  0.97734374\n",
      "Step 14200 : Loss is:  0.19177815318107605  Accuracy:  0.9735938\n",
      "Step 14400 : Loss is:  0.06086735799908638  Accuracy:  0.97625\n",
      "Step 14600 : Loss is:  0.14095522463321686  Accuracy:  0.96984375\n",
      "Step 14800 : Loss is:  0.07730802893638611  Accuracy:  0.97203124\n",
      "Step 15000 : Loss is:  0.07957541197538376  Accuracy:  0.9815625\n",
      "Step 15200 : Loss is:  0.08670766651630402  Accuracy:  0.9764063\n",
      "Step 15400 : Loss is:  0.08375921845436096  Accuracy:  0.97578126\n",
      "Step 15600 : Loss is:  0.08968757092952728  Accuracy:  0.97625\n",
      "Step 15800 : Loss is:  0.09116256982088089  Accuracy:  0.9784375\n",
      "Step 16000 : Loss is:  0.12540899217128754  Accuracy:  0.9746875\n",
      "Step 16200 : Loss is:  0.08740072697401047  Accuracy:  0.9778125\n",
      "Step 16400 : Loss is:  0.07027758657932281  Accuracy:  0.9767187\n",
      "Step 16600 : Loss is:  0.07932797819375992  Accuracy:  0.970625\n",
      "Step 16800 : Loss is:  0.08814860880374908  Accuracy:  0.97875\n",
      "Step 17000 : Loss is:  0.07803280651569366  Accuracy:  0.9821875\n",
      "Step 17200 : Loss is:  0.0453820526599884  Accuracy:  0.97546875\n",
      "Step 17400 : Loss is:  0.0563063770532608  Accuracy:  0.97734374\n",
      "Step 17600 : Loss is:  0.06269922852516174  Accuracy:  0.9790625\n",
      "Step 17800 : Loss is:  0.04971952363848686  Accuracy:  0.9795312\n",
      "Step 18000 : Loss is:  0.07973189651966095  Accuracy:  0.9771875\n",
      "Step 18200 : Loss is:  0.08145750313997269  Accuracy:  0.9778125\n",
      "Step 18400 : Loss is:  0.06253014504909515  Accuracy:  0.9735938\n",
      "Step 18600 : Loss is:  0.0437869131565094  Accuracy:  0.97515625\n"
     ]
    }
   ],
   "source": [
    "# 3.模型训练（计算梯度，迭代更新网络参数）\n",
    "optimizer = optimizers.SGD(lr=0.01)  # 声明采用批量随机梯度下降方法，学习率=0.01\n",
    "acc_meter = metrics.Accuracy()  # 新建accuracy测量器\n",
    "for step, (x, y) in enumerate(train_dataset):  # 一次输入batch组数据进行训练\n",
    "    with tf.GradientTape() as tape:  # 构建梯度记录环境\n",
    "        x = tf.reshape(x, (32, 28, 28, 1))  # 将输入拉直，[b,28,28]->[b,784]\n",
    "        # x = tf.extand_dims(x, axis=3)\n",
    "        out = network(x)  # 输出[b, 10]\n",
    "        y_onehot = tf.one_hot(y, depth=10)  # one-hot编码\n",
    "        loss = tf.square(out - y_onehot)\n",
    "        loss = tf.reduce_sum(loss)/32  # 定义均方差损失函数，注意此处的32对应为batch的大小\n",
    "        grads = tape.gradient(loss, network.trainable_variables)  # 计算网络中各个参数的梯度\n",
    "        optimizer.apply_gradients(zip(grads, network.trainable_variables))  # 更新网络参数\n",
    "        acc_meter.update_state(tf.argmax(out, axis=1), y)  # 比较预测值与标签，并计算精确度（写入数据，进行求精度）\n",
    "\n",
    "    if step % 200 == 0:  # 每200个step，打印一次结果\n",
    "        print('Step', step, ': Loss is: ', float(loss), ' Accuracy: ', acc_meter.result().numpy())  # 读取数据\n",
    "        acc_meter.reset_states()  # 清零测量器l\n"
   ]
  },
  {
   "cell_type": "code",
   "execution_count": 10,
   "id": "d47eede6-a3c1-4dc4-9f5e-00923b9b16b0",
   "metadata": {},
   "outputs": [
    {
     "name": "stdout",
     "output_type": "stream",
     "text": [
      "Model: \"sequential\"\n",
      "_________________________________________________________________\n",
      " Layer (type)                Output Shape              Param #   \n",
      "=================================================================\n",
      " conv2d (Conv2D)             (None, 26, 26, 6)         60        \n",
      "                                                                 \n",
      " max_pooling2d (MaxPooling2  (None, 13, 13, 6)         0         \n",
      " D)                                                              \n",
      "                                                                 \n",
      " re_lu (ReLU)                (None, 13, 13, 6)         0         \n",
      "                                                                 \n",
      " conv2d_1 (Conv2D)           (None, 11, 11, 16)        880       \n",
      "                                                                 \n",
      " max_pooling2d_1 (MaxPoolin  (None, 5, 5, 16)          0         \n",
      " g2D)                                                            \n",
      "                                                                 \n",
      " re_lu_1 (ReLU)              (None, 5, 5, 16)          0         \n",
      "                                                                 \n",
      " flatten (Flatten)           (None, 400)               0         \n",
      "                                                                 \n",
      " dense (Dense)               (None, 120)               48120     \n",
      "                                                                 \n",
      " dense_1 (Dense)             (None, 84)                10164     \n",
      "                                                                 \n",
      " dense_2 (Dense)             (None, 10)                850       \n",
      "                                                                 \n",
      "=================================================================\n",
      "Total params: 60074 (234.66 KB)\n",
      "Trainable params: 60074 (234.66 KB)\n",
      "Non-trainable params: 0 (0.00 Byte)\n",
      "_________________________________________________________________\n",
      "None\n"
     ]
    }
   ],
   "source": [
    "#4\n",
    "# 模型配置\n",
    "network.compile(optimizer=tf.keras.optimizers.Adam(0.01), loss=tf.keras.losses.sparse_categorical_crossentropy, metrics=['accuracy'])\n",
    "# 打印网络参数\n",
    "print(network.summary())"
   ]
  },
  {
   "cell_type": "code",
   "execution_count": 11,
   "id": "77479445-d03c-453e-9c8b-88ef30742aee",
   "metadata": {},
   "outputs": [
    {
     "name": "stdout",
     "output_type": "stream",
     "text": [
      "Epoch 1/10\n",
      "657/657 [==============================] - 13s 18ms/step - loss: 2.3026 - accuracy: 0.1545 - val_loss: 2.3026 - val_accuracy: 0.1586\n",
      "Epoch 2/10\n",
      "657/657 [==============================] - 11s 17ms/step - loss: 2.3026 - accuracy: 0.1545 - val_loss: 2.3026 - val_accuracy: 0.1586\n",
      "Epoch 3/10\n",
      "657/657 [==============================] - 11s 17ms/step - loss: 2.3026 - accuracy: 0.1545 - val_loss: 2.3026 - val_accuracy: 0.1586\n",
      "Epoch 4/10\n",
      "657/657 [==============================] - 11s 17ms/step - loss: 2.3026 - accuracy: 0.1545 - val_loss: 2.3026 - val_accuracy: 0.1586\n",
      "Epoch 5/10\n",
      "657/657 [==============================] - 12s 19ms/step - loss: 2.3026 - accuracy: 0.1545 - val_loss: 2.3026 - val_accuracy: 0.1586\n",
      "Epoch 6/10\n",
      "657/657 [==============================] - 15s 23ms/step - loss: 2.3026 - accuracy: 0.1545 - val_loss: 2.3026 - val_accuracy: 0.1586\n",
      "Epoch 7/10\n",
      "657/657 [==============================] - 13s 20ms/step - loss: 2.3026 - accuracy: 0.1545 - val_loss: 2.3026 - val_accuracy: 0.1586\n",
      "Epoch 8/10\n",
      "657/657 [==============================] - 13s 21ms/step - loss: 2.3026 - accuracy: 0.1545 - val_loss: 2.3026 - val_accuracy: 0.1586\n",
      "Epoch 9/10\n",
      "657/657 [==============================] - 10s 16ms/step - loss: 2.3026 - accuracy: 0.1545 - val_loss: 2.3026 - val_accuracy: 0.1586\n",
      "Epoch 10/10\n",
      "657/657 [==============================] - 12s 19ms/step - loss: 2.3026 - accuracy: 0.1545 - val_loss: 2.3026 - val_accuracy: 0.1586\n"
     ]
    }
   ],
   "source": [
    "# 训练\n",
    "history = network.fit(x, y, batch_size=64, epochs=10, validation_split=0.3)"
   ]
  },
  {
   "cell_type": "code",
   "execution_count": 12,
   "id": "cdbc4bc5-017f-4369-a947-43f7dfcaed84",
   "metadata": {},
   "outputs": [
    {
     "name": "stdout",
     "output_type": "stream",
     "text": [
      "Model: \"sequential\"\n",
      "_________________________________________________________________\n",
      " Layer (type)                Output Shape              Param #   \n",
      "=================================================================\n",
      " conv2d (Conv2D)             (None, 26, 26, 6)         60        \n",
      "                                                                 \n",
      " max_pooling2d (MaxPooling2  (None, 13, 13, 6)         0         \n",
      " D)                                                              \n",
      "                                                                 \n",
      " re_lu (ReLU)                (None, 13, 13, 6)         0         \n",
      "                                                                 \n",
      " conv2d_1 (Conv2D)           (None, 11, 11, 16)        880       \n",
      "                                                                 \n",
      " max_pooling2d_1 (MaxPoolin  (None, 5, 5, 16)          0         \n",
      " g2D)                                                            \n",
      "                                                                 \n",
      " re_lu_1 (ReLU)              (None, 5, 5, 16)          0         \n",
      "                                                                 \n",
      " flatten (Flatten)           (None, 400)               0         \n",
      "                                                                 \n",
      " dense (Dense)               (None, 120)               48120     \n",
      "                                                                 \n",
      " dense_1 (Dense)             (None, 84)                10164     \n",
      "                                                                 \n",
      " dense_2 (Dense)             (None, 10)                850       \n",
      "                                                                 \n",
      "=================================================================\n",
      "Total params: 60074 (234.66 KB)\n",
      "Trainable params: 60074 (234.66 KB)\n",
      "Non-trainable params: 0 (0.00 Byte)\n",
      "_________________________________________________________________\n",
      "None\n"
     ]
    }
   ],
   "source": [
    "#4\n",
    "# 模型配置\n",
    "network.compile(optimizer=tf.keras.optimizers.SGD(0.01), loss=tf.keras.losses.sparse_categorical_crossentropy, metrics=['accuracy'])\n",
    "# 打印网络参数\n",
    "print(network.summary())"
   ]
  },
  {
   "cell_type": "code",
   "execution_count": 13,
   "id": "ab2a1cc0-2930-4657-a8e2-d1d8a40c97d7",
   "metadata": {},
   "outputs": [
    {
     "name": "stdout",
     "output_type": "stream",
     "text": [
      "Epoch 1/5\n",
      "18750/18750 [==============================] - 236s 13ms/step - loss: 2.3022 - accuracy: 0.1558\n",
      "Epoch 2/5\n",
      "18750/18750 [==============================] - 309s 16ms/step - loss: 2.3022 - accuracy: 0.1558\n",
      "Epoch 3/5\n",
      "18750/18750 [==============================] - 1339s 71ms/step - loss: 2.3022 - accuracy: 0.1558\n",
      "Epoch 4/5\n",
      "18750/18750 [==============================] - 2438s 130ms/step - loss: 2.3022 - accuracy: 0.1558\n",
      "Epoch 5/5\n",
      "18750/18750 [==============================] - 1843s 98ms/step - loss: 2.3022 - accuracy: 0.1558\n"
     ]
    }
   ],
   "source": [
    "history = network.fit(train_dataset, batch_size=32, epochs=5)"
   ]
  },
  {
   "cell_type": "code",
   "execution_count": null,
   "id": "a8201565-5e88-499e-acba-64438327c979",
   "metadata": {},
   "outputs": [],
   "source": []
  }
 ],
 "metadata": {
  "kernelspec": {
   "display_name": "Python 3",
   "language": "python",
   "name": "python3"
  },
  "language_info": {
   "codemirror_mode": {
    "name": "ipython",
    "version": 3
   },
   "file_extension": ".py",
   "mimetype": "text/x-python",
   "name": "python",
   "nbconvert_exporter": "python",
   "pygments_lexer": "ipython3",
   "version": "3.10.8"
  }
 },
 "nbformat": 4,
 "nbformat_minor": 5
}
